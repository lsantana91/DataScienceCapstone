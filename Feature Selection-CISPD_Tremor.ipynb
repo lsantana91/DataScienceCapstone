{
 "cells": [
  {
   "cell_type": "code",
   "execution_count": 2,
   "metadata": {},
   "outputs": [],
   "source": [
    "import pandas as pd\n",
    "import numpy as np\n",
    "import glob\n",
    "import os\n",
    "import matplotlib.pyplot as plt\n",
    "from scipy.stats import kurtosis, skew\n",
    "%matplotlib inline\n",
    "from sklearn.preprocessing import StandardScaler\n",
    "import scipy.signal as sig\n",
    "from sklearn.ensemble import RandomForestClassifier\n",
    "from sklearn.model_selection import GridSearchCV\n",
    "from sklearn.utils import resample\n",
    "from sklearn.model_selection import train_test_split\n",
    "from sklearn.neighbors import KNeighborsClassifier\n",
    "from sklearn import metrics"
   ]
  },
  {
   "cell_type": "code",
   "execution_count": 3,
   "metadata": {},
   "outputs": [
    {
     "data": {
      "text/html": [
       "<div>\n",
       "<style scoped>\n",
       "    .dataframe tbody tr th:only-of-type {\n",
       "        vertical-align: middle;\n",
       "    }\n",
       "\n",
       "    .dataframe tbody tr th {\n",
       "        vertical-align: top;\n",
       "    }\n",
       "\n",
       "    .dataframe thead th {\n",
       "        text-align: right;\n",
       "    }\n",
       "</style>\n",
       "<table border=\"1\" class=\"dataframe\">\n",
       "  <thead>\n",
       "    <tr style=\"text-align: right;\">\n",
       "      <th></th>\n",
       "      <th>on_off</th>\n",
       "      <th>tremor</th>\n",
       "      <th>dyskinesia</th>\n",
       "    </tr>\n",
       "  </thead>\n",
       "  <tbody>\n",
       "    <tr>\n",
       "      <th>on_off</th>\n",
       "      <td>1.00000</td>\n",
       "      <td>0.390800</td>\n",
       "      <td>0.352530</td>\n",
       "    </tr>\n",
       "    <tr>\n",
       "      <th>tremor</th>\n",
       "      <td>0.39080</td>\n",
       "      <td>1.000000</td>\n",
       "      <td>0.562339</td>\n",
       "    </tr>\n",
       "    <tr>\n",
       "      <th>dyskinesia</th>\n",
       "      <td>0.35253</td>\n",
       "      <td>0.562339</td>\n",
       "      <td>1.000000</td>\n",
       "    </tr>\n",
       "  </tbody>\n",
       "</table>\n",
       "</div>"
      ],
      "text/plain": [
       "             on_off    tremor  dyskinesia\n",
       "on_off      1.00000  0.390800    0.352530\n",
       "tremor      0.39080  1.000000    0.562339\n",
       "dyskinesia  0.35253  0.562339    1.000000"
      ]
     },
     "execution_count": 3,
     "metadata": {},
     "output_type": "execute_result"
    }
   ],
   "source": [
    "labels = pd.read_csv('data_labels\\CIS-PD_Training_Data_IDs_Labels.csv')\n",
    "labels.subject_id = labels.subject_id.astype(str)\n",
    "\n",
    "labels[[\"on_off\", \"tremor\", \"dyskinesia\"]].corr()\n"
   ]
  },
  {
   "cell_type": "code",
   "execution_count": 4,
   "metadata": {},
   "outputs": [],
   "source": [
    "null = pd.read_csv('null_solution.csv')\n",
    "tremor_preds=null[[\"subject_id\", \"tremor\"]]\n",
    "tremor_preds=tremor_preds.rename(columns={\"tremor\":\"tremor_null\"})\n",
    "labels=pd.merge(labels, tremor_preds, how=\"left\", on=[\"subject_id\"])\n"
   ]
  },
  {
   "cell_type": "code",
   "execution_count": 5,
   "metadata": {},
   "outputs": [
    {
     "name": "stdout",
     "output_type": "stream",
     "text": [
      "1.0    633\n",
      "0.0    513\n",
      "2.0    205\n",
      "3.0    102\n",
      "4.0      9\n",
      "Name: tremor, dtype: int64\n"
     ]
    },
    {
     "data": {
      "text/plain": [
       "Text(0, 0.5, 'Frequency')"
      ]
     },
     "execution_count": 5,
     "metadata": {},
     "output_type": "execute_result"
    },
    {
     "data": {
      "image/png": "[encoded data removed]",
      "text/plain": [
       "<Figure size 432x288 with 1 Axes>"
      ]
     },
     "metadata": {
      "needs_background": "light"
     },
     "output_type": "display_data"
    }
   ],
   "source": [
    "print(labels['tremor'].value_counts())\n",
    "labels['tremor'].value_counts().sort_index().plot(kind='bar')\n",
    "plt.title('Tremor Distribution: CISPD')\n",
    "plt.xlabel('Tremor Severity')\n",
    "plt.ylabel('Frequency')\n"
   ]
  },
  {
   "cell_type": "code",
   "execution_count": 7,
   "metadata": {},
   "outputs": [
    {
     "data": {
      "text/html": [
       "<div>\n",
       "<style scoped>\n",
       "    .dataframe tbody tr th:only-of-type {\n",
       "        vertical-align: middle;\n",
       "    }\n",
       "\n",
       "    .dataframe tbody tr th {\n",
       "        vertical-align: top;\n",
       "    }\n",
       "\n",
       "    .dataframe thead th {\n",
       "        text-align: right;\n",
       "    }\n",
       "</style>\n",
       "<table border=\"1\" class=\"dataframe\">\n",
       "  <thead>\n",
       "    <tr style=\"text-align: right;\">\n",
       "      <th>tremor</th>\n",
       "      <th>0.0</th>\n",
       "      <th>1.0</th>\n",
       "      <th>2.0</th>\n",
       "      <th>3.0</th>\n",
       "      <th>4.0</th>\n",
       "    </tr>\n",
       "    <tr>\n",
       "      <th>subject_id</th>\n",
       "      <th></th>\n",
       "      <th></th>\n",
       "      <th></th>\n",
       "      <th></th>\n",
       "      <th></th>\n",
       "    </tr>\n",
       "  </thead>\n",
       "  <tbody>\n",
       "    <tr>\n",
       "      <th>1004</th>\n",
       "      <td>41.0</td>\n",
       "      <td>16.0</td>\n",
       "      <td>10.0</td>\n",
       "      <td>14.0</td>\n",
       "      <td>1.0</td>\n",
       "    </tr>\n",
       "    <tr>\n",
       "      <th>1006</th>\n",
       "      <td>12.0</td>\n",
       "      <td>18.0</td>\n",
       "      <td>7.0</td>\n",
       "      <td>NaN</td>\n",
       "      <td>NaN</td>\n",
       "    </tr>\n",
       "    <tr>\n",
       "      <th>1007</th>\n",
       "      <td>210.0</td>\n",
       "      <td>80.0</td>\n",
       "      <td>9.0</td>\n",
       "      <td>NaN</td>\n",
       "      <td>NaN</td>\n",
       "    </tr>\n",
       "    <tr>\n",
       "      <th>1019</th>\n",
       "      <td>7.0</td>\n",
       "      <td>24.0</td>\n",
       "      <td>14.0</td>\n",
       "      <td>NaN</td>\n",
       "      <td>NaN</td>\n",
       "    </tr>\n",
       "    <tr>\n",
       "      <th>1020</th>\n",
       "      <td>15.0</td>\n",
       "      <td>156.0</td>\n",
       "      <td>24.0</td>\n",
       "      <td>NaN</td>\n",
       "      <td>NaN</td>\n",
       "    </tr>\n",
       "    <tr>\n",
       "      <th>1023</th>\n",
       "      <td>74.0</td>\n",
       "      <td>28.0</td>\n",
       "      <td>3.0</td>\n",
       "      <td>1.0</td>\n",
       "      <td>NaN</td>\n",
       "    </tr>\n",
       "    <tr>\n",
       "      <th>1032</th>\n",
       "      <td>105.0</td>\n",
       "      <td>70.0</td>\n",
       "      <td>2.0</td>\n",
       "      <td>NaN</td>\n",
       "      <td>NaN</td>\n",
       "    </tr>\n",
       "    <tr>\n",
       "      <th>1034</th>\n",
       "      <td>20.0</td>\n",
       "      <td>19.0</td>\n",
       "      <td>1.0</td>\n",
       "      <td>NaN</td>\n",
       "      <td>NaN</td>\n",
       "    </tr>\n",
       "    <tr>\n",
       "      <th>1038</th>\n",
       "      <td>1.0</td>\n",
       "      <td>134.0</td>\n",
       "      <td>71.0</td>\n",
       "      <td>1.0</td>\n",
       "      <td>NaN</td>\n",
       "    </tr>\n",
       "    <tr>\n",
       "      <th>1043</th>\n",
       "      <td>12.0</td>\n",
       "      <td>8.0</td>\n",
       "      <td>7.0</td>\n",
       "      <td>7.0</td>\n",
       "      <td>NaN</td>\n",
       "    </tr>\n",
       "    <tr>\n",
       "      <th>1046</th>\n",
       "      <td>14.0</td>\n",
       "      <td>49.0</td>\n",
       "      <td>4.0</td>\n",
       "      <td>NaN</td>\n",
       "      <td>NaN</td>\n",
       "    </tr>\n",
       "    <tr>\n",
       "      <th>1048</th>\n",
       "      <td>NaN</td>\n",
       "      <td>1.0</td>\n",
       "      <td>22.0</td>\n",
       "      <td>60.0</td>\n",
       "      <td>8.0</td>\n",
       "    </tr>\n",
       "    <tr>\n",
       "      <th>1049</th>\n",
       "      <td>2.0</td>\n",
       "      <td>30.0</td>\n",
       "      <td>31.0</td>\n",
       "      <td>19.0</td>\n",
       "      <td>NaN</td>\n",
       "    </tr>\n",
       "  </tbody>\n",
       "</table>\n",
       "</div>"
      ],
      "text/plain": [
       "tremor        0.0    1.0   2.0   3.0  4.0\n",
       "subject_id                               \n",
       "1004         41.0   16.0  10.0  14.0  1.0\n",
       "1006         12.0   18.0   7.0   NaN  NaN\n",
       "1007        210.0   80.0   9.0   NaN  NaN\n",
       "1019          7.0   24.0  14.0   NaN  NaN\n",
       "1020         15.0  156.0  24.0   NaN  NaN\n",
       "1023         74.0   28.0   3.0   1.0  NaN\n",
       "1032        105.0   70.0   2.0   NaN  NaN\n",
       "1034         20.0   19.0   1.0   NaN  NaN\n",
       "1038          1.0  134.0  71.0   1.0  NaN\n",
       "1043         12.0    8.0   7.0   7.0  NaN\n",
       "1046         14.0   49.0   4.0   NaN  NaN\n",
       "1048          NaN    1.0  22.0  60.0  8.0\n",
       "1049          2.0   30.0  31.0  19.0  NaN"
      ]
     },
     "execution_count": 7,
     "metadata": {},
     "output_type": "execute_result"
    }
   ],
   "source": [
    "pd.pivot_table(labels[[\"subject_id\",\"tremor\"]], index=\"subject_id\", columns=[\"tremor\"],aggfunc=len)"
   ]
  },
  {
   "cell_type": "code",
   "execution_count": 8,
   "metadata": {},
   "outputs": [],
   "source": [
    "\"\"\"define frequency bands the step function\"\"\"\n",
    "W_n = [3,7];\n",
    "\n",
    "\"\"\"Select the step function\"\"\"\n",
    "Ord = sig.buttord(wp = [4,6],ws =[3,7],gpass =0.08, gstop = 10,fs = 50)\n",
    "Filter = sig.butter(Ord[0],Wn = W_n,btype = 'bandpass',fs =50);"
   ]
  },
  {
   "cell_type": "code",
   "execution_count": 9,
   "metadata": {},
   "outputs": [
    {
     "data": {
      "text/plain": [
       "Text(0.5, 0, 'Frequency[Hz]')"
      ]
     },
     "execution_count": 9,
     "metadata": {},
     "output_type": "execute_result"
    },
    {
     "data": {
      "image/png": "[encoded data removed]",
      "text/plain": [
       "<Figure size 432x288 with 1 Axes>"
      ]
     },
     "metadata": {
      "needs_background": "light"
     },
     "output_type": "display_data"
    }
   ],
   "source": [
    "\"\"\"Plot the frequency response\"\"\"\n",
    "Response = sig.freqz(Filter[0],Filter[1],fs=50)\n",
    "\n",
    "plt.plot(Response[0],np.abs(Response[1]))\n",
    "plt.ylabel(\"Filter Gain\");\n",
    "plt.xlabel(\"Frequency[Hz]\")"
   ]
  },
  {
   "cell_type": "code",
   "execution_count": 15,
   "metadata": {},
   "outputs": [],
   "source": [
    "#pd.read_csv(f) for f in all_filenames \n",
    "\n",
    "mycsvdir = 'training_data\\CIS_training'\n",
    "\n",
    "csvfiles = glob.glob(os.path.join(mycsvdir, '*.csv'))\n",
    "\n",
    "Means=[]\n",
    "for csvfile in csvfiles:\n",
    "    df = pd.read_csv(csvfile)\n",
    "    \n",
    "   \n",
    "    \"\"\"Apply Hypothesis tests to check if means are statistically significant????\"\"\"\n",
    "    #Relevant features \n",
    "    measurement_id = os.path.basename(csvfile)\n",
    "    measurement_id = measurement_id.replace(\".csv\",\"\")\n",
    "    \n",
    "    df[\"r\"] = np.sqrt(df.X**2+df.Y**2+df.Z**2)\n",
    "    dr = np.sqrt(np.diff(df.X)**2+np.diff(df.Y)**2+np.diff(df.Z)**2)\n",
    "    mean_r = np.median(df.r)\n",
    "    std_r = np.std(df.r)\n",
    "    min_r = np.min(df.r)\n",
    "    max_r = np.max(df.r)\n",
    "    skew_r = skew(df.r)\n",
    "    kurtosis_r = kurtosis(df.r)\n",
    "    \n",
    "    mean_dr = np.median(dr)\n",
    "    std_dr = np.std(dr)\n",
    "    min_dr = np.min(dr)\n",
    "    max_dr = np.max(dr)\n",
    "    skew_dr = skew(dr)\n",
    "    kurtosis_dr = kurtosis(dr)\n",
    "    \n",
    "    \"\"\"Extract frequency bands in Hz\"\"\"\n",
    "    FreqBandx = sig.lfilter(Filter[0],Filter[1],df[\"X\"]);\n",
    "    FreqBandy = sig.lfilter(Filter[0],Filter[1],df[\"Y\"]);\n",
    "    FreqBandz = sig.lfilter(Filter[0],Filter[1],df[\"Z\"]);\n",
    "    \n",
    "    \"\"\"Find the power in each frequency Band\"\"\"\n",
    "    PowerFreqBandx = np.abs(FreqBandx)**2;\n",
    "    PowerFreqBandy = np.abs(FreqBandy)**2;\n",
    "    PowerFreqBandz = np.abs(FreqBandz)**2;\n",
    "    \n",
    "    \"\"\"Sum the power in each frequency band\"\"\"\n",
    "    SumPowerFreqBandx = np.sum(PowerFreqBandx);\n",
    "    SumPowerFreqBandy = np.sum(PowerFreqBandy);\n",
    "    SumPowerFreqBandz = np.sum(PowerFreqBandz);\n",
    "    \n",
    "    \"\"\"Sum the total signal power\"\"\"\n",
    "    Powerx = np.sum(df[\"X\"]**2);\n",
    "    Powery = np.sum(df[\"Y\"]**2);\n",
    "    Powerz = np.sum(df[\"Z\"]**2);\n",
    "    \n",
    "    \"\"\"Find the percentage of power in frequencies of interest\"\"\"\n",
    "    FreqPower = np.sqrt((SumPowerFreqBandx+SumPowerFreqBandy+SumPowerFreqBandz)/(Powerx+Powery+Powerz));\n",
    "    \n",
    "    Means.append([measurement_id, mean_r, std_r, min_r, max_r, skew_r, kurtosis_r, \n",
    "                     mean_dr,std_dr, min_dr, max_dr, skew_dr, kurtosis_dr,FreqPower])"
   ]
  },
  {
   "cell_type": "code",
   "execution_count": 16,
   "metadata": {},
   "outputs": [],
   "source": [
    "accel_phones= pd.DataFrame(Means, columns=[\"measurement_id\", \"mean_r\", \"std_r\", \n",
    "                                              \"min_r\", \"max_r\", \"skew_r\", \"kurtosis_r\",\n",
    "                                              \"mean_dr\", \"std_dr\", \"min_dr\", \"max_dr\", \n",
    "                                              \"skew_dr\", \"kurtosis_dr\",\"FreqPower\"])\n",
    "   \n",
    "\n"
   ]
  },
  {
   "cell_type": "code",
   "execution_count": 18,
   "metadata": {},
   "outputs": [
    {
     "data": {
      "text/plain": [
       "(1858, 14)"
      ]
     },
     "execution_count": 18,
     "metadata": {},
     "output_type": "execute_result"
    }
   ],
   "source": [
    "accel_phones.shape"
   ]
  },
  {
   "cell_type": "code",
   "execution_count": 19,
   "metadata": {},
   "outputs": [
    {
     "data": {
      "text/plain": [
       "(1858, 19)"
      ]
     },
     "execution_count": 19,
     "metadata": {},
     "output_type": "execute_result"
    }
   ],
   "source": [
    "data=pd.merge(accel_phones, labels, on=\"measurement_id\")\n",
    "data.shape"
   ]
  },
  {
   "cell_type": "code",
   "execution_count": 20,
   "metadata": {},
   "outputs": [
    {
     "data": {
      "text/html": [
       "<div>\n",
       "<style scoped>\n",
       "    .dataframe tbody tr th:only-of-type {\n",
       "        vertical-align: middle;\n",
       "    }\n",
       "\n",
       "    .dataframe tbody tr th {\n",
       "        vertical-align: top;\n",
       "    }\n",
       "\n",
       "    .dataframe thead th {\n",
       "        text-align: right;\n",
       "    }\n",
       "</style>\n",
       "<table border=\"1\" class=\"dataframe\">\n",
       "  <thead>\n",
       "    <tr style=\"text-align: right;\">\n",
       "      <th></th>\n",
       "      <th>measurement_id</th>\n",
       "      <th>mean_r</th>\n",
       "      <th>std_r</th>\n",
       "      <th>min_r</th>\n",
       "      <th>max_r</th>\n",
       "      <th>skew_r</th>\n",
       "      <th>kurtosis_r</th>\n",
       "      <th>mean_dr</th>\n",
       "      <th>std_dr</th>\n",
       "      <th>min_dr</th>\n",
       "      <th>max_dr</th>\n",
       "      <th>skew_dr</th>\n",
       "      <th>kurtosis_dr</th>\n",
       "      <th>FreqPower</th>\n",
       "      <th>subject_id</th>\n",
       "      <th>on_off</th>\n",
       "      <th>dyskinesia</th>\n",
       "      <th>tremor</th>\n",
       "      <th>tremor_null</th>\n",
       "    </tr>\n",
       "  </thead>\n",
       "  <tbody>\n",
       "    <tr>\n",
       "      <th>0</th>\n",
       "      <td>004ed441-24db-4839-8b5d-7465e4ea2a0a</td>\n",
       "      <td>0.995006</td>\n",
       "      <td>0.109462</td>\n",
       "      <td>0.155396</td>\n",
       "      <td>4.148789</td>\n",
       "      <td>5.416649</td>\n",
       "      <td>89.417141</td>\n",
       "      <td>0.008090</td>\n",
       "      <td>0.136909</td>\n",
       "      <td>0.000000</td>\n",
       "      <td>3.775578</td>\n",
       "      <td>5.483257</td>\n",
       "      <td>53.134543</td>\n",
       "      <td>0.113031</td>\n",
       "      <td>1038</td>\n",
       "      <td>4.0</td>\n",
       "      <td>0.0</td>\n",
       "      <td>2.0</td>\n",
       "      <td>1.347826</td>\n",
       "    </tr>\n",
       "    <tr>\n",
       "      <th>1</th>\n",
       "      <td>00544f67-c07c-4a07-9c17-a7aee51d8b96</td>\n",
       "      <td>0.996147</td>\n",
       "      <td>0.159688</td>\n",
       "      <td>0.090525</td>\n",
       "      <td>4.201611</td>\n",
       "      <td>2.299388</td>\n",
       "      <td>20.792235</td>\n",
       "      <td>0.087323</td>\n",
       "      <td>0.155427</td>\n",
       "      <td>0.000000</td>\n",
       "      <td>3.832981</td>\n",
       "      <td>4.438531</td>\n",
       "      <td>45.169433</td>\n",
       "      <td>0.125117</td>\n",
       "      <td>1049</td>\n",
       "      <td>2.0</td>\n",
       "      <td>1.0</td>\n",
       "      <td>2.0</td>\n",
       "      <td>1.817073</td>\n",
       "    </tr>\n",
       "    <tr>\n",
       "      <th>2</th>\n",
       "      <td>005685b2-3de4-469b-b673-8f937ee8196e</td>\n",
       "      <td>1.000097</td>\n",
       "      <td>0.199510</td>\n",
       "      <td>0.186133</td>\n",
       "      <td>3.020230</td>\n",
       "      <td>0.793835</td>\n",
       "      <td>5.868388</td>\n",
       "      <td>0.033265</td>\n",
       "      <td>0.092974</td>\n",
       "      <td>0.000488</td>\n",
       "      <td>3.208620</td>\n",
       "      <td>4.668803</td>\n",
       "      <td>67.681713</td>\n",
       "      <td>0.099959</td>\n",
       "      <td>1044</td>\n",
       "      <td>0.0</td>\n",
       "      <td>0.0</td>\n",
       "      <td>NaN</td>\n",
       "      <td>NaN</td>\n",
       "    </tr>\n",
       "    <tr>\n",
       "      <th>3</th>\n",
       "      <td>00bbb4c4-bb9a-4c3a-9c1b-3bf5f079d336</td>\n",
       "      <td>0.997932</td>\n",
       "      <td>0.057611</td>\n",
       "      <td>0.349685</td>\n",
       "      <td>2.491713</td>\n",
       "      <td>2.042505</td>\n",
       "      <td>43.852060</td>\n",
       "      <td>0.024966</td>\n",
       "      <td>0.055826</td>\n",
       "      <td>0.000000</td>\n",
       "      <td>2.384465</td>\n",
       "      <td>8.703556</td>\n",
       "      <td>175.746593</td>\n",
       "      <td>0.043412</td>\n",
       "      <td>1006</td>\n",
       "      <td>0.0</td>\n",
       "      <td>NaN</td>\n",
       "      <td>1.0</td>\n",
       "      <td>0.864865</td>\n",
       "    </tr>\n",
       "    <tr>\n",
       "      <th>4</th>\n",
       "      <td>00c6a1c3-178d-4f21-ba88-512c4a734541</td>\n",
       "      <td>0.997728</td>\n",
       "      <td>0.019403</td>\n",
       "      <td>0.648807</td>\n",
       "      <td>1.545145</td>\n",
       "      <td>3.033917</td>\n",
       "      <td>96.274044</td>\n",
       "      <td>0.005945</td>\n",
       "      <td>0.030695</td>\n",
       "      <td>0.000000</td>\n",
       "      <td>2.207027</td>\n",
       "      <td>23.447582</td>\n",
       "      <td>1083.219213</td>\n",
       "      <td>0.016613</td>\n",
       "      <td>1032</td>\n",
       "      <td>1.0</td>\n",
       "      <td>NaN</td>\n",
       "      <td>0.0</td>\n",
       "      <td>0.418079</td>\n",
       "    </tr>\n",
       "  </tbody>\n",
       "</table>\n",
       "</div>"
      ],
      "text/plain": [
       "                         measurement_id    mean_r     std_r     min_r  \\\n",
       "0  004ed441-24db-4839-8b5d-7465e4ea2a0a  0.995006  0.109462  0.155396   \n",
       "1  00544f67-c07c-4a07-9c17-a7aee51d8b96  0.996147  0.159688  0.090525   \n",
       "2  005685b2-3de4-469b-b673-8f937ee8196e  1.000097  0.199510  0.186133   \n",
       "3  00bbb4c4-bb9a-4c3a-9c1b-3bf5f079d336  0.997932  0.057611  0.349685   \n",
       "4  00c6a1c3-178d-4f21-ba88-512c4a734541  0.997728  0.019403  0.648807   \n",
       "\n",
       "      max_r    skew_r  kurtosis_r   mean_dr    std_dr    min_dr    max_dr  \\\n",
       "0  4.148789  5.416649   89.417141  0.008090  0.136909  0.000000  3.775578   \n",
       "1  4.201611  2.299388   20.792235  0.087323  0.155427  0.000000  3.832981   \n",
       "2  3.020230  0.793835    5.868388  0.033265  0.092974  0.000488  3.208620   \n",
       "3  2.491713  2.042505   43.852060  0.024966  0.055826  0.000000  2.384465   \n",
       "4  1.545145  3.033917   96.274044  0.005945  0.030695  0.000000  2.207027   \n",
       "\n",
       "     skew_dr  kurtosis_dr  FreqPower subject_id  on_off  dyskinesia  tremor  \\\n",
       "0   5.483257    53.134543   0.113031       1038     4.0         0.0     2.0   \n",
       "1   4.438531    45.169433   0.125117       1049     2.0         1.0     2.0   \n",
       "2   4.668803    67.681713   0.099959       1044     0.0         0.0     NaN   \n",
       "3   8.703556   175.746593   0.043412       1006     0.0         NaN     1.0   \n",
       "4  23.447582  1083.219213   0.016613       1032     1.0         NaN     0.0   \n",
       "\n",
       "   tremor_null  \n",
       "0     1.347826  \n",
       "1     1.817073  \n",
       "2          NaN  \n",
       "3     0.864865  \n",
       "4     0.418079  "
      ]
     },
     "execution_count": 20,
     "metadata": {},
     "output_type": "execute_result"
    }
   ],
   "source": [
    "data.head()"
   ]
  },
  {
   "cell_type": "code",
   "execution_count": 21,
   "metadata": {},
   "outputs": [],
   "source": [
    "df_tremors=data.drop(['on_off', 'dyskinesia', 'measurement_id'], axis=1)\n",
    "df_tremors=df_tremors.dropna()"
   ]
  },
  {
   "cell_type": "code",
   "execution_count": 22,
   "metadata": {},
   "outputs": [
    {
     "name": "stdout",
     "output_type": "stream",
     "text": [
      "(1169, 16)\n",
      "(293, 16)\n"
     ]
    }
   ],
   "source": [
    "train, test = train_test_split(df_tremors, test_size=0.2, random_state=42, stratify=df_tremors['subject_id'])\n",
    "\n",
    "print(train.shape)\n",
    "print(test.shape)\n"
   ]
  },
  {
   "cell_type": "code",
   "execution_count": 23,
   "metadata": {},
   "outputs": [
    {
     "data": {
      "text/html": [
       "<div>\n",
       "<style scoped>\n",
       "    .dataframe tbody tr th:only-of-type {\n",
       "        vertical-align: middle;\n",
       "    }\n",
       "\n",
       "    .dataframe tbody tr th {\n",
       "        vertical-align: top;\n",
       "    }\n",
       "\n",
       "    .dataframe thead th {\n",
       "        text-align: right;\n",
       "    }\n",
       "</style>\n",
       "<table border=\"1\" class=\"dataframe\">\n",
       "  <thead>\n",
       "    <tr style=\"text-align: right;\">\n",
       "      <th></th>\n",
       "      <th>mean_r</th>\n",
       "      <th>std_r</th>\n",
       "      <th>min_r</th>\n",
       "      <th>max_r</th>\n",
       "      <th>skew_r</th>\n",
       "      <th>kurtosis_r</th>\n",
       "      <th>mean_dr</th>\n",
       "      <th>std_dr</th>\n",
       "      <th>min_dr</th>\n",
       "      <th>max_dr</th>\n",
       "      <th>skew_dr</th>\n",
       "      <th>kurtosis_dr</th>\n",
       "      <th>FreqPower</th>\n",
       "      <th>subject_id</th>\n",
       "      <th>tremor</th>\n",
       "      <th>tremor_null</th>\n",
       "    </tr>\n",
       "  </thead>\n",
       "  <tbody>\n",
       "    <tr>\n",
       "      <th>931</th>\n",
       "      <td>1.002893</td>\n",
       "      <td>0.113817</td>\n",
       "      <td>0.129478</td>\n",
       "      <td>4.627887</td>\n",
       "      <td>4.290964</td>\n",
       "      <td>76.670636</td>\n",
       "      <td>0.087982</td>\n",
       "      <td>0.137398</td>\n",
       "      <td>0.000488</td>\n",
       "      <td>4.649109</td>\n",
       "      <td>6.344504</td>\n",
       "      <td>95.517662</td>\n",
       "      <td>0.072121</td>\n",
       "      <td>1023</td>\n",
       "      <td>0.0</td>\n",
       "      <td>0.349057</td>\n",
       "    </tr>\n",
       "    <tr>\n",
       "      <th>376</th>\n",
       "      <td>1.001977</td>\n",
       "      <td>0.132044</td>\n",
       "      <td>0.124793</td>\n",
       "      <td>3.757843</td>\n",
       "      <td>2.741595</td>\n",
       "      <td>24.170405</td>\n",
       "      <td>0.066259</td>\n",
       "      <td>0.117227</td>\n",
       "      <td>0.000488</td>\n",
       "      <td>3.087314</td>\n",
       "      <td>5.457114</td>\n",
       "      <td>60.830328</td>\n",
       "      <td>0.095490</td>\n",
       "      <td>1049</td>\n",
       "      <td>3.0</td>\n",
       "      <td>1.817073</td>\n",
       "    </tr>\n",
       "    <tr>\n",
       "      <th>1715</th>\n",
       "      <td>1.002603</td>\n",
       "      <td>0.383135</td>\n",
       "      <td>0.128898</td>\n",
       "      <td>14.276652</td>\n",
       "      <td>12.191211</td>\n",
       "      <td>275.106053</td>\n",
       "      <td>0.089031</td>\n",
       "      <td>0.322878</td>\n",
       "      <td>0.000488</td>\n",
       "      <td>21.164378</td>\n",
       "      <td>22.739010</td>\n",
       "      <td>917.262761</td>\n",
       "      <td>0.160735</td>\n",
       "      <td>1023</td>\n",
       "      <td>1.0</td>\n",
       "      <td>0.349057</td>\n",
       "    </tr>\n",
       "    <tr>\n",
       "      <th>1724</th>\n",
       "      <td>0.995019</td>\n",
       "      <td>0.073106</td>\n",
       "      <td>0.104017</td>\n",
       "      <td>5.628973</td>\n",
       "      <td>7.879459</td>\n",
       "      <td>347.352999</td>\n",
       "      <td>0.019742</td>\n",
       "      <td>0.078100</td>\n",
       "      <td>0.000000</td>\n",
       "      <td>6.023360</td>\n",
       "      <td>20.638361</td>\n",
       "      <td>1126.322020</td>\n",
       "      <td>0.061398</td>\n",
       "      <td>1020</td>\n",
       "      <td>2.0</td>\n",
       "      <td>1.046154</td>\n",
       "    </tr>\n",
       "    <tr>\n",
       "      <th>32</th>\n",
       "      <td>1.001253</td>\n",
       "      <td>0.038670</td>\n",
       "      <td>0.406919</td>\n",
       "      <td>1.758441</td>\n",
       "      <td>1.151559</td>\n",
       "      <td>33.537490</td>\n",
       "      <td>0.011980</td>\n",
       "      <td>0.040678</td>\n",
       "      <td>0.000000</td>\n",
       "      <td>0.789163</td>\n",
       "      <td>6.289757</td>\n",
       "      <td>58.676933</td>\n",
       "      <td>0.044491</td>\n",
       "      <td>1038</td>\n",
       "      <td>1.0</td>\n",
       "      <td>1.347826</td>\n",
       "    </tr>\n",
       "  </tbody>\n",
       "</table>\n",
       "</div>"
      ],
      "text/plain": [
       "        mean_r     std_r     min_r      max_r     skew_r  kurtosis_r  \\\n",
       "931   1.002893  0.113817  0.129478   4.627887   4.290964   76.670636   \n",
       "376   1.001977  0.132044  0.124793   3.757843   2.741595   24.170405   \n",
       "1715  1.002603  0.383135  0.128898  14.276652  12.191211  275.106053   \n",
       "1724  0.995019  0.073106  0.104017   5.628973   7.879459  347.352999   \n",
       "32    1.001253  0.038670  0.406919   1.758441   1.151559   33.537490   \n",
       "\n",
       "       mean_dr    std_dr    min_dr     max_dr    skew_dr  kurtosis_dr  \\\n",
       "931   0.087982  0.137398  0.000488   4.649109   6.344504    95.517662   \n",
       "376   0.066259  0.117227  0.000488   3.087314   5.457114    60.830328   \n",
       "1715  0.089031  0.322878  0.000488  21.164378  22.739010   917.262761   \n",
       "1724  0.019742  0.078100  0.000000   6.023360  20.638361  1126.322020   \n",
       "32    0.011980  0.040678  0.000000   0.789163   6.289757    58.676933   \n",
       "\n",
       "      FreqPower subject_id  tremor  tremor_null  \n",
       "931    0.072121       1023     0.0     0.349057  \n",
       "376    0.095490       1049     3.0     1.817073  \n",
       "1715   0.160735       1023     1.0     0.349057  \n",
       "1724   0.061398       1020     2.0     1.046154  \n",
       "32     0.044491       1038     1.0     1.347826  "
      ]
     },
     "execution_count": 23,
     "metadata": {},
     "output_type": "execute_result"
    }
   ],
   "source": [
    "train.head()"
   ]
  },
  {
   "cell_type": "code",
   "execution_count": 24,
   "metadata": {},
   "outputs": [
    {
     "name": "stderr",
     "output_type": "stream",
     "text": [
      "C:\\Users\\lisbe\\Anaconda3\\lib\\site-packages\\ipykernel_launcher.py:5: SettingWithCopyWarning: \n",
      "A value is trying to be set on a copy of a slice from a DataFrame.\n",
      "Try using .loc[row_indexer,col_indexer] = value instead\n",
      "\n",
      "See the caveats in the documentation: http://pandas.pydata.org/pandas-docs/stable/user_guide/indexing.html#returning-a-view-versus-a-copy\n",
      "  \"\"\"\n",
      "C:\\Users\\lisbe\\Anaconda3\\lib\\site-packages\\pandas\\core\\indexing.py:494: SettingWithCopyWarning: \n",
      "A value is trying to be set on a copy of a slice from a DataFrame.\n",
      "Try using .loc[row_indexer,col_indexer] = value instead\n",
      "\n",
      "See the caveats in the documentation: http://pandas.pydata.org/pandas-docs/stable/user_guide/indexing.html#returning-a-view-versus-a-copy\n",
      "  self.obj[item] = s\n",
      "C:\\Users\\lisbe\\Anaconda3\\lib\\site-packages\\ipykernel_launcher.py:6: SettingWithCopyWarning: \n",
      "A value is trying to be set on a copy of a slice from a DataFrame.\n",
      "Try using .loc[row_indexer,col_indexer] = value instead\n",
      "\n",
      "See the caveats in the documentation: http://pandas.pydata.org/pandas-docs/stable/user_guide/indexing.html#returning-a-view-versus-a-copy\n",
      "  \n",
      "C:\\Users\\lisbe\\Anaconda3\\lib\\site-packages\\pandas\\core\\indexing.py:494: SettingWithCopyWarning: \n",
      "A value is trying to be set on a copy of a slice from a DataFrame.\n",
      "Try using .loc[row_indexer,col_indexer] = value instead\n",
      "\n",
      "See the caveats in the documentation: http://pandas.pydata.org/pandas-docs/stable/user_guide/indexing.html#returning-a-view-versus-a-copy\n",
      "  self.obj[item] = s\n"
     ]
    }
   ],
   "source": [
    "cols_to_transform=train.columns[:-3]\n",
    "scaler= StandardScaler()\n",
    "#scaler=MinMaxScaler()\n",
    "scaler= scaler.fit(train[cols_to_transform])\n",
    "train[cols_to_transform] = scaler.transform(train[cols_to_transform])\n",
    "test[cols_to_transform] = scaler.transform(test[cols_to_transform])\n"
   ]
  },
  {
   "cell_type": "code",
   "execution_count": 25,
   "metadata": {},
   "outputs": [],
   "source": [
    "X_train = train.drop(['tremor', 'tremor_null'], axis=1)\n",
    "y_train = train.tremor\n",
    "null_train = train.tremor_null\n",
    "X_test=test.drop(['tremor', 'tremor_null'], axis=1)\n",
    "y_test = test.tremor\n",
    "null_test = test.tremor_null"
   ]
  },
  {
   "cell_type": "code",
   "execution_count": 26,
   "metadata": {},
   "outputs": [],
   "source": [
    "X_train_dummies = pd.get_dummies(X_train)\n",
    "X_test_dummies= pd.get_dummies(X_test)\n"
   ]
  },
  {
   "cell_type": "code",
   "execution_count": 27,
   "metadata": {},
   "outputs": [
    {
     "name": "stdout",
     "output_type": "stream",
     "text": [
      "(1169, 26)\n",
      "(293, 26)\n",
      "(1169,)\n",
      "(293,)\n"
     ]
    }
   ],
   "source": [
    "print(X_train_dummies.shape)\n",
    "print(X_test_dummies.shape)\n",
    "print(y_train.shape)\n",
    "print(y_test.shape)"
   ]
  },
  {
   "cell_type": "code",
   "execution_count": 28,
   "metadata": {},
   "outputs": [
    {
     "name": "stderr",
     "output_type": "stream",
     "text": [
      "C:\\Users\\lisbe\\Anaconda3\\lib\\site-packages\\ipykernel_launcher.py:3: FutureWarning: The signature of `Series.to_csv` was aligned to that of `DataFrame.to_csv`, and argument 'header' will change its default value from False to True: please pass an explicit value to suppress this warning.\n",
      "  This is separate from the ipykernel package so we can avoid doing imports until\n",
      "C:\\Users\\lisbe\\Anaconda3\\lib\\site-packages\\ipykernel_launcher.py:4: FutureWarning: The signature of `Series.to_csv` was aligned to that of `DataFrame.to_csv`, and argument 'header' will change its default value from False to True: please pass an explicit value to suppress this warning.\n",
      "  after removing the cwd from sys.path.\n"
     ]
    }
   ],
   "source": [
    "X_train_dummies.to_csv('X_train_tremor.csv', index=False)\n",
    "X_test_dummies.to_csv('X_test_tremor.csv', index=False)\n",
    "y_train.to_csv('y_train_tremor.csv', index=False)\n",
    "y_test.to_csv('y_test_tremor.csv', index=False)"
   ]
  },
  {
   "cell_type": "code",
   "execution_count": 34,
   "metadata": {},
   "outputs": [
    {
     "name": "stdout",
     "output_type": "stream",
     "text": [
      "accuracy knn: 0.5870307167235495\n",
      "MSE KNN: 0.7713310580204779\n",
      "NULL KNN: 0.3601817375099345\n"
     ]
    }
   ],
   "source": [
    "knn = KNeighborsClassifier()\n",
    "\n",
    "knn_grid = {\n",
    "    'n_neighbors': np.arange(1,25),\n",
    "}\n",
    "\n",
    "knn_cv = GridSearchCV(knn, knn_grid, cv=5)\n",
    "knn_cv.fit(X_train_dummies, y_train)\n",
    "knn_cv.best_params_\n",
    "knn_cv.best_score_\n",
    "\n",
    "knn = KNeighborsClassifier(n_neighbors=knn_cv.best_params_['n_neighbors'])\n",
    "knn.fit(X_train_dummies, y_train)\n",
    "y_pred = knn.predict(X_test_dummies)\n",
    "print(\"accuracy knn:\" , str(metrics.accuracy_score(y_test, y_pred)))\n",
    "print(\"MSE KNN:\", str(metrics.mean_squared_error(y_test, y_pred)))\n",
    "print(\"NULL KNN:\", str(metrics.mean_squared_error(y_test, null_test)))\n"
   ]
  },
  {
   "cell_type": "code",
   "execution_count": null,
   "metadata": {},
   "outputs": [],
   "source": [
    "#GridsearchCV\n",
    "\n",
    "\n",
    "classifier = RandomForestClassifier(random_state = 42)\n",
    "\n",
    "rf_grid = {\n",
    "    'n_estimators': np.arange(100,500,100),\n",
    "    'max_depth': np.arange(10,50,10),\n",
    "    'min_samples_leaf': np.arange(1,10),\n",
    "    'min_samples_split': np.arange(2,10,2),\n",
    "    'criterion':['gini', 'entropy']\n",
    "}\n",
    "\n",
    "rf_cv = GridSearchCV(classifier, rf_grid, cv=5)\n",
    "rf_cv.fit(X_train_dummies, y_train)\n",
    "rf_cv.best_params_\n",
    "rf_cv.best_score_\n",
    "\n",
    "classifier = RandomForestClassifier(n_estimators = rf_cv.best_params_['n_estimators'], \n",
    "                                    criterion = rf_cv.best_params_['criterion'] , \n",
    "                                    random_state = 42,\n",
    "                                    max_depth = rf_cv.best_params_['max_depth'],\n",
    "                                    min_samples_split = rf_cv.best_params_['min_samples_split'],\n",
    "                                    min_samples_leaf=rf_cv.best_params_['min_samples_leaf'])\n"
   ]
  },
  {
   "cell_type": "code",
   "execution_count": null,
   "metadata": {},
   "outputs": [],
   "source": [
    "classifier.fit(X_train_dummies, y_train)\n",
    "y_pred = classifier.predict(X_test_dummies)\n",
    "print(\"accuracy rf:\", str(metrics.accuracy_score(y_test, y_pred)))\n",
    "print(\"MSE RF:\" , str(metrics.mean_squared_error(y_test,y_pred)))\n",
    "print(\"NULL RF:\", str(metrics.mean_squared_error(y_test, null_test)))"
   ]
  },
  {
   "cell_type": "code",
   "execution_count": null,
   "metadata": {},
   "outputs": [],
   "source": [
    "metrics.confusion_matrix(y_test, y_pred)"
   ]
  },
  {
   "cell_type": "code",
   "execution_count": 36,
   "metadata": {},
   "outputs": [
    {
     "name": "stderr",
     "output_type": "stream",
     "text": [
      "C:\\Users\\lisbe\\Anaconda3\\lib\\site-packages\\xgboost\\core.py:587: FutureWarning: Series.base is deprecated and will be removed in a future version\n",
      "  if getattr(data, 'base', None) is not None and \\\n",
      "C:\\Users\\lisbe\\Anaconda3\\lib\\site-packages\\xgboost\\core.py:588: FutureWarning: Series.base is deprecated and will be removed in a future version\n",
      "  data.base is not None and isinstance(data, np.ndarray) \\\n"
     ]
    }
   ],
   "source": [
    "import xgboost as xgb\n",
    "\n",
    "dtrain=xgb.DMatrix(data=X_train_dummies, label=y_train)\n",
    "dtest = xgb.DMatrix(data=X_test_dummies)"
   ]
  },
  {
   "cell_type": "code",
   "execution_count": 37,
   "metadata": {},
   "outputs": [],
   "source": [
    "param = {'objective': 'multi:softmax',\n",
    "         'num_class': 5,\n",
    "         'max_depth' : 5,\n",
    "         'learning_rate': 0.4\n",
    "        }\n",
    "bst = xgb.train(param, dtrain)\n",
    "xgb_pred = bst.predict(dtest)"
   ]
  },
  {
   "cell_type": "code",
   "execution_count": 39,
   "metadata": {},
   "outputs": [
    {
     "data": {
      "text/plain": [
       "XGBClassifier(base_score=0.5, booster='gbtree', colsample_bylevel=1,\n",
       "              colsample_bynode=1, colsample_bytree=1, gamma=0,\n",
       "              learning_rate=0.4, max_delta_step=0, max_depth=5,\n",
       "              min_child_weight=1, missing=None, n_estimators=100, n_jobs=1,\n",
       "              nthread=None, num_class=5, objective='multi:softprob',\n",
       "              random_state=0, reg_alpha=0, reg_lambda=1, scale_pos_weight=1,\n",
       "              seed=None, silent=None, subsample=1, verbosity=1)"
      ]
     },
     "execution_count": 39,
     "metadata": {},
     "output_type": "execute_result"
    }
   ],
   "source": [
    "\n",
    "xgb_clf = xgb.XGBClassifier(objective = 'multi:softmax', num_class = 5, max_depth = 5, learning_rate = 0.4)\n",
    "xgb_clf.fit(X_train_dummies, y_train)\n"
   ]
  },
  {
   "cell_type": "code",
   "execution_count": 40,
   "metadata": {},
   "outputs": [
    {
     "data": {
      "text/plain": [
       "<matplotlib.axes._subplots.AxesSubplot at 0x20c3b84a5c0>"
      ]
     },
     "execution_count": 40,
     "metadata": {},
     "output_type": "execute_result"
    },
    {
     "data": {
      "image/png": "[encoded data removed]",
      "text/plain": [
       "<Figure size 432x288 with 1 Axes>"
      ]
     },
     "metadata": {
      "needs_background": "light"
     },
     "output_type": "display_data"
    }
   ],
   "source": [
    "xgb.plot_importance(xgb_clf)"
   ]
  },
  {
   "cell_type": "code",
   "execution_count": 38,
   "metadata": {},
   "outputs": [
    {
     "name": "stdout",
     "output_type": "stream",
     "text": [
      "accuracy xgb: 0.6655290102389079\n",
      "MSE XGB: 0.4880546075085324\n",
      "NULL XGB: 0.3601817375099345\n",
      "[[91 19  0  0  0]\n",
      " [33 81  5  1  0]\n",
      " [ 3 21 11  3  0]\n",
      " [ 3  2  6 12  0]\n",
      " [ 0  0  1  1  0]]\n",
      "              precision    recall  f1-score   support\n",
      "\n",
      "         0.0       0.70      0.83      0.76       110\n",
      "         1.0       0.66      0.68      0.67       120\n",
      "         2.0       0.48      0.29      0.36        38\n",
      "         3.0       0.71      0.52      0.60        23\n",
      "         4.0       0.00      0.00      0.00         2\n",
      "\n",
      "    accuracy                           0.67       293\n",
      "   macro avg       0.51      0.46      0.48       293\n",
      "weighted avg       0.65      0.67      0.65       293\n",
      "\n"
     ]
    },
    {
     "name": "stderr",
     "output_type": "stream",
     "text": [
      "C:\\Users\\lisbe\\Anaconda3\\lib\\site-packages\\sklearn\\metrics\\_classification.py:1272: UndefinedMetricWarning: Precision and F-score are ill-defined and being set to 0.0 in labels with no predicted samples. Use `zero_division` parameter to control this behavior.\n",
      "  _warn_prf(average, modifier, msg_start, len(result))\n"
     ]
    }
   ],
   "source": [
    "\n",
    "print(\"accuracy xgb:\", str(metrics.accuracy_score(y_test, xgb_pred)))\n",
    "print(\"MSE XGB:\" , str(metrics.mean_squared_error(y_test,xgb_pred)))\n",
    "print(\"NULL XGB:\", str(metrics.mean_squared_error(y_test, null_test)))\n",
    "\n",
    "print(metrics.confusion_matrix(y_test, xgb_pred))\n",
    "print(metrics.classification_report(y_test,xgb_pred))\n"
   ]
  },
  {
   "cell_type": "code",
   "execution_count": 41,
   "metadata": {},
   "outputs": [],
   "source": [
    "param = {'objective': 'reg:squarederror',\n",
    "         'max_depth' : 5,\n",
    "         'learning_rate': 0.4\n",
    "        }\n",
    "bst = xgb.train(param, dtrain)\n",
    "xgb_pred = bst.predict(dtest)"
   ]
  },
  {
   "cell_type": "code",
   "execution_count": 43,
   "metadata": {},
   "outputs": [
    {
     "name": "stdout",
     "output_type": "stream",
     "text": [
      "MSE XGB: 0.4049827589499749\n",
      "NULL XGB: 0.3601817375099345\n"
     ]
    }
   ],
   "source": [
    "print(\"MSE XGB:\" , str(metrics.mean_squared_error(y_test,xgb_pred)))\n",
    "print(\"NULL XGB:\", str(metrics.mean_squared_error(y_test, null_test)))\n"
   ]
  },
  {
   "cell_type": "markdown",
   "metadata": {},
   "source": [
    "## TESTING"
   ]
  },
  {
   "cell_type": "code",
   "execution_count": null,
   "metadata": {},
   "outputs": [],
   "source": [
    "\n",
    "#pd.read_csv(f) for f in all_filenames \n",
    "\n",
    "mycsvdir = 'testing_data\\CIS_testing'\n",
    "\n",
    "csvfiles = glob.glob(os.path.join(mycsvdir, '*.csv'))\n",
    "\n",
    "Means=[]\n",
    "for csvfile in csvfiles:\n",
    "    df = pd.read_csv(csvfile)\n",
    "    \n",
    "    measurement_id = os.path.basename(csvfile)\n",
    "    measurement_id = measurement_id.replace(\".csv\",\"\")\n",
    "    \n",
    "    df[\"r\"] = np.sqrt(df.X**2+df.Y**2+df.Z**2)\n",
    "    dr = np.sqrt(np.diff(df.X)**2+np.diff(df.Y)**2+np.diff(df.Z)**2)\n",
    "    mean_r = np.median(df.r)\n",
    "    std_r = np.std(df.r)\n",
    "    min_r = np.min(df.r)\n",
    "    max_r = np.max(df.r)\n",
    "    skew_r = skew(df.r)\n",
    "    kurtosis_r = kurtosis(df.r)\n",
    "    \n",
    "    mean_dr = np.median(dr)\n",
    "    std_dr = np.std(dr)\n",
    "    min_dr = np.min(dr)\n",
    "    max_dr = np.max(dr)\n",
    "    skew_dr = skew(dr)\n",
    "    kurtosis_dr = kurtosis(dr)\n",
    "    \n",
    "    \"\"\"Extract frequency bands in Hz\"\"\"\n",
    "    FreqBandx = sig.lfilter(Filter[0],Filter[1],df[\"X\"]);\n",
    "    FreqBandy = sig.lfilter(Filter[0],Filter[1],df[\"Y\"]);\n",
    "    FreqBandz = sig.lfilter(Filter[0],Filter[1],df[\"Z\"]);\n",
    "    \n",
    "    \"\"\"Find the power in each frequency Band\"\"\"\n",
    "    PowerFreqBandx = np.abs(FreqBandx)**2;\n",
    "    PowerFreqBandy = np.abs(FreqBandy)**2;\n",
    "    PowerFreqBandz = np.abs(FreqBandz)**2;\n",
    "    \n",
    "    \"\"\"Sum the power in each frequency band\"\"\"\n",
    "    SumPowerFreqBandx = np.sum(PowerFreqBandx);\n",
    "    SumPowerFreqBandy = np.sum(PowerFreqBandy);\n",
    "    SumPowerFreqBandz = np.sum(PowerFreqBandz);\n",
    "    \n",
    "    \"\"\"Sum the total signal power\"\"\"\n",
    "    Powerx = np.sum(df[\"X\"]**2);\n",
    "    Powery = np.sum(df[\"Y\"]**2);\n",
    "    Powerz = np.sum(df[\"Z\"]**2);\n",
    "    \n",
    "    \"\"\"Find the percentage of power in frequencies of interest\"\"\"\n",
    "    FreqPower = np.sqrt((SumPowerFreqBandx+SumPowerFreqBandy+SumPowerFreqBandz)/(Powerx+Powery+Powerz));\n",
    "    \n",
    "    Means.append([measurement_id, mean_r, std_r, min_r, max_r, skew_r, kurtosis_r, \n",
    "                     mean_dr,std_dr, min_dr, max_dr, skew_dr, kurtosis_dr,FreqPower])\n",
    "    \n",
    "    \"\"\"\n",
    "    #Relevant features \n",
    "    measurement_id = csvfile[25:-4]\n",
    "    \n",
    "    #average\n",
    "    mean_x = np.mean(df['X'])\n",
    "    mean_y = np.mean(df['Y'])\n",
    "    mean_z = np.mean(df['Z'])  \n",
    "    \n",
    "    #standard deviation\n",
    "    std_x = np.std(df['X'])\n",
    "    std_y = np.std(df['Y'])\n",
    "    std_z = np.std(df['Z'])\n",
    "    \n",
    "    #minimum\n",
    "    min_x = np.min(df['X'])\n",
    "    min_y = np.min(df['Y'])\n",
    "    min_z = np.min(df['Z'])\n",
    "    \n",
    "    #maximum\n",
    "    max_x = np.max(df['X'])\n",
    "    max_y = np.max(df['Y'])\n",
    "    max_z = np.max(df['Z'])\n",
    "    \n",
    "    #skewness\n",
    "    skew_x = skew(df['X'])\n",
    "    skew_y = skew(df['Y'])\n",
    "    skew_z = skew(df['Z'])\n",
    "    \n",
    "    #kurtosis\n",
    "    kurtosis_x=kurtosis(df['X'])\n",
    "    kurtosis_y=kurtosis(df['Y'])\n",
    "    kurtosis_z=kurtosis(df['Z'])\n",
    "    \n",
    "    \n",
    "    #median\n",
    "    \n",
    "    Means.append([measurement_id, \n",
    "                  mean_x, std_x, min_x, max_x, skew_x,kurtosis_x,\n",
    "                  mean_y, std_y, min_y, max_y, skew_y,kurtosis_y,\n",
    "                  mean_z, std_z, min_z, max_z, skew_z, kurtosis_z])\n",
    "    \n",
    "\n",
    "test_data = pd.DataFrame(Means, columns = ['measurement_id',\n",
    "                                       'mean_x', 'std_x', 'min_x', 'max_x','skew_x', 'kurtosis_x',\n",
    "                                       'mean_y', 'std_y', 'min_y', 'max_y', 'skew_y', 'kurtosis_y',\n",
    "                                       'mean_z', 'std_z', 'min_z', 'max_z', 'skew_z', 'kurtosis_z']) \n",
    "   \n",
    "\"\"\""
   ]
  },
  {
   "cell_type": "code",
   "execution_count": null,
   "metadata": {},
   "outputs": [],
   "source": [
    "test_data = pd.DataFrame(Means, columns=[\"measurement_id\", \"mean_r\", \"std_r\", \n",
    "                                              \"min_r\", \"max_r\", \"skew_r\", \"kurtosis_r\",\n",
    "                                              \"mean_dr\", \"std_dr\", \"min_dr\", \"max_dr\", \n",
    "                                              \"skew_dr\", \"kurtosis_dr\",\"FreqPower\"])\n",
    "   \n",
    "test_data.head()"
   ]
  },
  {
   "cell_type": "code",
   "execution_count": null,
   "metadata": {},
   "outputs": [],
   "source": [
    "test_subjects = pd.read_csv('testing_data\\cis-pd.CIS-PD_Test_Data_IDs.csv')\n",
    "test_subjects.subject_id = test_subjects.subject_id.astype(str)\n",
    "test_subjects.head()"
   ]
  },
  {
   "cell_type": "code",
   "execution_count": null,
   "metadata": {},
   "outputs": [],
   "source": [
    "test_subjects.subject_id.unique()==labels.subject_id.unique()"
   ]
  },
  {
   "cell_type": "code",
   "execution_count": null,
   "metadata": {
    "scrolled": false
   },
   "outputs": [],
   "source": [
    "df_test=pd.merge(test_data, test_subjects, on=\"measurement_id\")\n",
    "df_test.head()"
   ]
  },
  {
   "cell_type": "code",
   "execution_count": null,
   "metadata": {},
   "outputs": [],
   "source": [
    "train = df_tremors.drop(['tremor', 'tremor_null'], axis=1)\n",
    "train.head()"
   ]
  },
  {
   "cell_type": "code",
   "execution_count": null,
   "metadata": {},
   "outputs": [],
   "source": [
    "cols_train = train.columns[:-1]\n",
    "scaler = scaler.fit(train[cols_train])\n",
    "train[cols_train] = scaler.transform(train[cols_train])\n",
    "train.head()"
   ]
  },
  {
   "cell_type": "code",
   "execution_count": null,
   "metadata": {},
   "outputs": [],
   "source": [
    "cols_test = df_test.columns[1:-1]\n",
    "df_test[cols_test] = scaler.transform(df_test[cols_test])\n",
    "df_test.head()\n"
   ]
  },
  {
   "cell_type": "code",
   "execution_count": null,
   "metadata": {},
   "outputs": [],
   "source": [
    "df_test.subject_id.unique()"
   ]
  },
  {
   "cell_type": "code",
   "execution_count": null,
   "metadata": {},
   "outputs": [],
   "source": [
    "df_tremors.subject_id.unique()"
   ]
  },
  {
   "cell_type": "code",
   "execution_count": null,
   "metadata": {},
   "outputs": [],
   "source": [
    "test= pd.get_dummies(df_test[df_test.columns[1:]])\n",
    "test = test.drop(['subject_id_1044', 'subject_id_1051', 'subject_id_1039'], axis=1)\n",
    "test.head()"
   ]
  },
  {
   "cell_type": "code",
   "execution_count": null,
   "metadata": {},
   "outputs": [],
   "source": [
    "train = pd.get_dummies(train)\n",
    "train.head()"
   ]
  },
  {
   "cell_type": "code",
   "execution_count": null,
   "metadata": {},
   "outputs": [],
   "source": [
    "dtrain=xgb.DMatrix(data=train, label=df_tremors.tremor)\n",
    "dtest = xgb.DMatrix(data=test)"
   ]
  },
  {
   "cell_type": "code",
   "execution_count": null,
   "metadata": {},
   "outputs": [],
   "source": [
    "param = {'objective': 'multi:softmax',\n",
    "         'num_class': 5,\n",
    "         'max_depth' : 5,\n",
    "         'learning_rate': 0.4\n",
    "        }\n",
    "bst = xgb.train(param, dtrain)\n",
    "xgb_pred = bst.predict(dtest)"
   ]
  },
  {
   "cell_type": "code",
   "execution_count": null,
   "metadata": {},
   "outputs": [],
   "source": [
    "#make predictions on test class\n",
    "knn = KNeighborsClassifier(n_neighbors=k)\n",
    "df_X = pd.concat([X_t_train,X_t_test])\n",
    "df_y = pd.concat([y_t_train, y_t_test])\n",
    "knn.fit(df_X, df_y)\n",
    "predictions= knn.predict(df_test[df_test.columns[1:]])"
   ]
  },
  {
   "cell_type": "code",
   "execution_count": null,
   "metadata": {},
   "outputs": [],
   "source": [
    "#df_test['prediction']=predictions"
   ]
  },
  {
   "cell_type": "code",
   "execution_count": null,
   "metadata": {},
   "outputs": [],
   "source": [
    "df_test.head()"
   ]
  },
  {
   "cell_type": "code",
   "execution_count": null,
   "metadata": {},
   "outputs": [],
   "source": [
    "classifier.fit(df_X, df_y)"
   ]
  },
  {
   "cell_type": "code",
   "execution_count": null,
   "metadata": {},
   "outputs": [],
   "source": [
    "predictions_forest = classifier.predict(df_test[df_test.columns[1:]])"
   ]
  },
  {
   "cell_type": "code",
   "execution_count": null,
   "metadata": {},
   "outputs": [],
   "source": [
    "predictions_forest.shape"
   ]
  },
  {
   "cell_type": "code",
   "execution_count": null,
   "metadata": {},
   "outputs": [],
   "source": [
    "test_subjects.shape"
   ]
  },
  {
   "cell_type": "code",
   "execution_count": null,
   "metadata": {},
   "outputs": [],
   "source": [
    "df_test[\"prediction\"]=xgb_pred"
   ]
  },
  {
   "cell_type": "code",
   "execution_count": null,
   "metadata": {},
   "outputs": [],
   "source": [
    "df_test.head()"
   ]
  },
  {
   "cell_type": "code",
   "execution_count": null,
   "metadata": {},
   "outputs": [],
   "source": [
    "df_test[['measurement_id', 'prediction']].to_csv(\"cis_pd_tremor_predictions.csv\", index=False)"
   ]
  },
  {
   "cell_type": "code",
   "execution_count": null,
   "metadata": {},
   "outputs": [],
   "source": []
  }
 ],
 "metadata": {
  "kernelspec": {
   "display_name": "Python 3",
   "language": "python",
   "name": "python3"
  },
  "language_info": {
   "codemirror_mode": {
    "name": "ipython",
    "version": 3
   },
   "file_extension": ".py",
   "mimetype": "text/x-python",
   "name": "python",
   "nbconvert_exporter": "python",
   "pygments_lexer": "ipython3",
   "version": "3.6.9"
  }
 },
 "nbformat": 4,
 "nbformat_minor": 2
}
