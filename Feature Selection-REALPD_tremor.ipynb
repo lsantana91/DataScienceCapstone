{
 "cells": [
  {
   "cell_type": "code",
   "execution_count": 1,
   "metadata": {},
   "outputs": [],
   "source": [
    "import pandas as pd\n",
    "import numpy as np\n",
    "import glob\n",
    "import os\n",
    "import matplotlib.pyplot as plt\n",
    "from scipy.stats import kurtosis, skew\n",
    "from sklearn.impute import SimpleImputer\n",
    "from sklearn.preprocessing import StandardScaler, MinMaxScaler\n",
    "import scipy.signal as sig\n",
    "from sklearn.ensemble import RandomForestClassifier\n",
    "from sklearn.model_selection import GridSearchCV\n",
    "from sklearn.utils import resample\n",
    "from sklearn.neighbors import KNeighborsClassifier\n",
    "from sklearn import metrics\n",
    "%matplotlib inline"
   ]
  },
  {
   "cell_type": "code",
   "execution_count": 2,
   "metadata": {
    "scrolled": false
   },
   "outputs": [
    {
     "name": "stdout",
     "output_type": "stream",
     "text": [
      "(591, 5)\n"
     ]
    }
   ],
   "source": [
    "labels = pd.read_csv('data_labels\\REAL-PD_Training_Data_IDs_Labels.csv')\n",
    "print(labels.shape)\n",
    "null = pd.read_csv('null_solution.csv')"
   ]
  },
  {
   "cell_type": "code",
   "execution_count": 3,
   "metadata": {},
   "outputs": [],
   "source": [
    "tremor_preds=null[[\"subject_id\", \"tremor\"]]\n",
    "tremor_preds=tremor_preds.rename(columns={\"tremor\":\"tremor_null\"})"
   ]
  },
  {
   "cell_type": "code",
   "execution_count": 4,
   "metadata": {},
   "outputs": [],
   "source": [
    "labels=pd.merge(labels, tremor_preds, how=\"left\", on=[\"subject_id\"])\n"
   ]
  },
  {
   "cell_type": "code",
   "execution_count": 5,
   "metadata": {
    "scrolled": true
   },
   "outputs": [
    {
     "name": "stdout",
     "output_type": "stream",
     "text": [
      "0.0    136\n",
      "1.0    114\n",
      "2.0      6\n",
      "Name: dyskinesia, dtype: int64\n"
     ]
    },
    {
     "data": {
      "text/plain": [
       "Text(0.5, 1.0, 'Dyskinesia')"
      ]
     },
     "execution_count": 5,
     "metadata": {},
     "output_type": "execute_result"
    },
    {
     "data": {
      "image/png": "[encoded data removed]",
      "text/plain": [
       "<Figure size 432x288 with 1 Axes>"
      ]
     },
     "metadata": {
      "needs_background": "light"
     },
     "output_type": "display_data"
    }
   ],
   "source": [
    "print(labels['dyskinesia'].value_counts())\n",
    "labels['dyskinesia'].value_counts().plot(kind='bar')\n",
    "plt.title('Dyskinesia')\n"
   ]
  },
  {
   "cell_type": "code",
   "execution_count": 6,
   "metadata": {},
   "outputs": [
    {
     "data": {
      "text/plain": [
       "Text(0.5, 1.0, 'Medication Distribution: REALPD')"
      ]
     },
     "execution_count": 6,
     "metadata": {},
     "output_type": "execute_result"
    },
    {
     "data": {
      "image/png": "[encoded data removed]",
      "text/plain": [
       "<Figure size 432x288 with 1 Axes>"
      ]
     },
     "metadata": {
      "needs_background": "light"
     },
     "output_type": "display_data"
    }
   ],
   "source": [
    "labels['on_off'].value_counts().sort_index().plot(kind='bar')\n",
    "plt.title('Medication Distribution: REALPD')"
   ]
  },
  {
   "cell_type": "code",
   "execution_count": 8,
   "metadata": {
    "scrolled": true
   },
   "outputs": [
    {
     "data": {
      "text/plain": [
       "Text(0, 0.5, 'Frequency')"
      ]
     },
     "execution_count": 8,
     "metadata": {},
     "output_type": "execute_result"
    },
    {
     "data": {
      "image/png": "[encoded data removed]",
      "text/plain": [
       "<Figure size 432x288 with 1 Axes>"
      ]
     },
     "metadata": {
      "needs_background": "light"
     },
     "output_type": "display_data"
    }
   ],
   "source": [
    "labels['tremor'].value_counts().sort_index().plot(kind='bar')\n",
    "plt.title('Tremor Distribution: REALPD')\n",
    "plt.xlabel('Tremor Severity')\n",
    "plt.ylabel('Frequency')"
   ]
  },
  {
   "cell_type": "code",
   "execution_count": 8,
   "metadata": {
    "scrolled": true
   },
   "outputs": [
    {
     "data": {
      "text/html": [
       "<div>\n",
       "<style scoped>\n",
       "    .dataframe tbody tr th:only-of-type {\n",
       "        vertical-align: middle;\n",
       "    }\n",
       "\n",
       "    .dataframe tbody tr th {\n",
       "        vertical-align: top;\n",
       "    }\n",
       "\n",
       "    .dataframe thead th {\n",
       "        text-align: right;\n",
       "    }\n",
       "</style>\n",
       "<table border=\"1\" class=\"dataframe\">\n",
       "  <thead>\n",
       "    <tr style=\"text-align: right;\">\n",
       "      <th>tremor</th>\n",
       "      <th>0.0</th>\n",
       "      <th>1.0</th>\n",
       "      <th>2.0</th>\n",
       "      <th>3.0</th>\n",
       "    </tr>\n",
       "    <tr>\n",
       "      <th>subject_id</th>\n",
       "      <th></th>\n",
       "      <th></th>\n",
       "      <th></th>\n",
       "      <th></th>\n",
       "    </tr>\n",
       "  </thead>\n",
       "  <tbody>\n",
       "    <tr>\n",
       "      <th>hbv012</th>\n",
       "      <td>29.0</td>\n",
       "      <td>8.0</td>\n",
       "      <td>5.0</td>\n",
       "      <td>NaN</td>\n",
       "    </tr>\n",
       "    <tr>\n",
       "      <th>hbv013</th>\n",
       "      <td>49.0</td>\n",
       "      <td>12.0</td>\n",
       "      <td>5.0</td>\n",
       "      <td>1.0</td>\n",
       "    </tr>\n",
       "    <tr>\n",
       "      <th>hbv022</th>\n",
       "      <td>45.0</td>\n",
       "      <td>6.0</td>\n",
       "      <td>5.0</td>\n",
       "      <td>NaN</td>\n",
       "    </tr>\n",
       "    <tr>\n",
       "      <th>hbv023</th>\n",
       "      <td>NaN</td>\n",
       "      <td>2.0</td>\n",
       "      <td>36.0</td>\n",
       "      <td>8.0</td>\n",
       "    </tr>\n",
       "    <tr>\n",
       "      <th>hbv038</th>\n",
       "      <td>NaN</td>\n",
       "      <td>15.0</td>\n",
       "      <td>11.0</td>\n",
       "      <td>17.0</td>\n",
       "    </tr>\n",
       "    <tr>\n",
       "      <th>hbv054</th>\n",
       "      <td>50.0</td>\n",
       "      <td>8.0</td>\n",
       "      <td>NaN</td>\n",
       "      <td>NaN</td>\n",
       "    </tr>\n",
       "  </tbody>\n",
       "</table>\n",
       "</div>"
      ],
      "text/plain": [
       "tremor       0.0   1.0   2.0   3.0\n",
       "subject_id                        \n",
       "hbv012      29.0   8.0   5.0   NaN\n",
       "hbv013      49.0  12.0   5.0   1.0\n",
       "hbv022      45.0   6.0   5.0   NaN\n",
       "hbv023       NaN   2.0  36.0   8.0\n",
       "hbv038       NaN  15.0  11.0  17.0\n",
       "hbv054      50.0   8.0   NaN   NaN"
      ]
     },
     "execution_count": 8,
     "metadata": {},
     "output_type": "execute_result"
    }
   ],
   "source": [
    "pd.pivot_table(labels[[\"subject_id\",\"tremor\"]], index=\"subject_id\", columns=[\"tremor\"],aggfunc=len)"
   ]
  },
  {
   "cell_type": "code",
   "execution_count": 9,
   "metadata": {},
   "outputs": [],
   "source": [
    "\"\"\"define frequency bands the step fdata:image/png;base64,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\"\"\"\n",
    "W_n = [3,7];\n",
    "\n",
    "\"\"\"Select the step function\"\"\"\n",
    "Ord = sig.buttord(wp = [4,6],ws =[3,7],gpass =0.08, gstop = 10,fs = 50)\n",
    "Filter = sig.butter(Ord[0],Wn = W_n,btype = 'bandpass',fs =50);"
   ]
  },
  {
   "cell_type": "code",
   "execution_count": 10,
   "metadata": {
    "scrolled": true
   },
   "outputs": [
    {
     "data": {
      "text/plain": [
       "Text(0.5, 0, 'Frequency[Hz]')"
      ]
     },
     "execution_count": 10,
     "metadata": {},
     "output_type": "execute_result"
    },
    {
     "data": {
      "image/png": "[encoded data removed]",
      "text/plain": [
       "<Figure size 432x288 with 1 Axes>"
      ]
     },
     "metadata": {
      "needs_background": "light"
     },
     "output_type": "display_data"
    }
   ],
   "source": [
    "\"\"\"Plot the frequency response\"\"\"\n",
    "Response = sig.freqz(Filter[0],Filter[1],fs=50)\n",
    "\n",
    "plt.plot(Response[0],np.abs(Response[1]))\n",
    "plt.ylabel(\"Filter Gain\");\n",
    "plt.xlabel(\"Frequency[Hz]\")"
   ]
  },
  {
   "cell_type": "code",
   "execution_count": 11,
   "metadata": {},
   "outputs": [],
   "source": [
    "\n",
    "#pd.read_csv(f) for f in all_filenames \n",
    "\n",
    "mycsvdir = 'training_data\\REAL_training\\smartphone_accelerometer'\n",
    "\n",
    "csvfiles = glob.glob(os.path.join(mycsvdir, '*.csv'))\n",
    "\n",
    "Means_sa=[]\n",
    "for csvfile in csvfiles:\n",
    "    df = pd.read_csv(csvfile)\n",
    "    \n",
    "    #Relevant features \n",
    "    measurement_id = os.path.basename(csvfile)\n",
    "    measurement_id = measurement_id.replace(\".csv\",\"\")\n",
    "    \n",
    "    df[\"r\"] = np.sqrt(df.x**2+df.y**2+df.z**2)\n",
    "    dr = np.sqrt(np.diff(df.x)**2+np.diff(df.y)**2+np.diff(df.z)**2)\n",
    "    mean_r = np.median(df.r)\n",
    "    std_r = np.std(df.r)\n",
    "    min_r = np.min(df.r)\n",
    "    max_r = np.max(df.r)\n",
    "    skew_r = skew(df.r)\n",
    "    kurtosis_r = kurtosis(df.r)\n",
    "    \n",
    "    peaks_r = len(sig.find_peaks(df.r, threshold = 3*std_r)[0])/(df[\"t\"].iloc[-1]/60)\n",
    "    #peaks_freq\n",
    "    \n",
    "    #divide sum of squares of peaks by sum of squares of r\n",
    "    \n",
    "    \n",
    "    mean_dr = np.median(dr)\n",
    "    std_dr = np.std(dr)\n",
    "    min_dr = np.min(dr)\n",
    "    max_dr = np.max(dr)\n",
    "    skew_dr = skew(dr)\n",
    "    kurtosis_dr = kurtosis(dr)\n",
    "    \n",
    "    \"\"\"Extract frequency bands in Hz\"\"\"\n",
    "    FreqBandx = sig.lfilter(Filter[0],Filter[1],df[\"x\"]);\n",
    "    FreqBandy = sig.lfilter(Filter[0],Filter[1],df[\"y\"]);\n",
    "    FreqBandz = sig.lfilter(Filter[0],Filter[1],df[\"z\"]);\n",
    "    \n",
    "    \"\"\"Find the power in each frequency Band\"\"\"\n",
    "    PowerFreqBandx = np.abs(FreqBandx)**2;\n",
    "    PowerFreqBandy = np.abs(FreqBandy)**2;\n",
    "    PowerFreqBandz = np.abs(FreqBandz)**2;\n",
    "    \n",
    "    \"\"\"Sum the power in each frequency band\"\"\"\n",
    "    SumPowerFreqBandx = np.sum(PowerFreqBandx);\n",
    "    SumPowerFreqBandy = np.sum(PowerFreqBandy);\n",
    "    SumPowerFreqBandz = np.sum(PowerFreqBandz);\n",
    "    \n",
    "    \"\"\"Sum the total signal power\"\"\"\n",
    "    Powerx = np.sum(df[\"x\"]**2);\n",
    "    Powery = np.sum(df[\"y\"]**2);\n",
    "    Powerz = np.sum(df[\"z\"]**2);\n",
    "    \n",
    "    \"\"\"Find the percentage of power in frequencies of interest\"\"\"\n",
    "    FreqPower = np.sqrt((SumPowerFreqBandx+SumPowerFreqBandy+SumPowerFreqBandz)/(Powerx+Powery+Powerz));\n",
    "    \n",
    "    Means_sa.append([measurement_id, mean_r, std_r, min_r, max_r, skew_r, kurtosis_r, peaks_r,\n",
    "                     mean_dr,std_dr, min_dr, max_dr, skew_dr, kurtosis_dr,FreqPower])\n",
    "   "
   ]
  },
  {
   "cell_type": "code",
   "execution_count": 12,
   "metadata": {},
   "outputs": [],
   "source": [
    "accel_phones= pd.DataFrame(Means_sa, columns=[\"measurement_id\", \"mean_r_sa\", \"std_r_sa\", \n",
    "                                              \"min_r_sa\", \"max_r_sa\", \"skew_r_sa\", \"kurtosis_r_sa\",\"peaks_r_sa\",\n",
    "                                              \"mean_dr_sa\", \"std_dr_sa\", \"min_dr_sa\", \"max_dr_sa\", \n",
    "                                              \"skew_dr_sa\", \"kurtosis_dr_sa\",\"FreqPower_sa\"])\n",
    "   \n",
    "\n"
   ]
  },
  {
   "cell_type": "code",
   "execution_count": 13,
   "metadata": {
    "scrolled": true
   },
   "outputs": [
    {
     "data": {
      "text/html": [
       "<div>\n",
       "<style scoped>\n",
       "    .dataframe tbody tr th:only-of-type {\n",
       "        vertical-align: middle;\n",
       "    }\n",
       "\n",
       "    .dataframe tbody tr th {\n",
       "        vertical-align: top;\n",
       "    }\n",
       "\n",
       "    .dataframe thead th {\n",
       "        text-align: right;\n",
       "    }\n",
       "</style>\n",
       "<table border=\"1\" class=\"dataframe\">\n",
       "  <thead>\n",
       "    <tr style=\"text-align: right;\">\n",
       "      <th></th>\n",
       "      <th>measurement_id</th>\n",
       "      <th>mean_r_sa</th>\n",
       "      <th>std_r_sa</th>\n",
       "      <th>min_r_sa</th>\n",
       "      <th>max_r_sa</th>\n",
       "      <th>skew_r_sa</th>\n",
       "      <th>kurtosis_r_sa</th>\n",
       "      <th>peaks_r_sa</th>\n",
       "      <th>mean_dr_sa</th>\n",
       "      <th>std_dr_sa</th>\n",
       "      <th>min_dr_sa</th>\n",
       "      <th>max_dr_sa</th>\n",
       "      <th>skew_dr_sa</th>\n",
       "      <th>kurtosis_dr_sa</th>\n",
       "      <th>FreqPower_sa</th>\n",
       "    </tr>\n",
       "  </thead>\n",
       "  <tbody>\n",
       "    <tr>\n",
       "      <th>0</th>\n",
       "      <td>00a49337-386c-4de3-a220-4cf3c0d20a7d</td>\n",
       "      <td>10.348021</td>\n",
       "      <td>0.142331</td>\n",
       "      <td>5.148181</td>\n",
       "      <td>17.978439</td>\n",
       "      <td>6.201954</td>\n",
       "      <td>475.003586</td>\n",
       "      <td>4.250018</td>\n",
       "      <td>0.030320</td>\n",
       "      <td>0.133402</td>\n",
       "      <td>0.000000</td>\n",
       "      <td>8.723960</td>\n",
       "      <td>18.316883</td>\n",
       "      <td>606.819719</td>\n",
       "      <td>0.010864</td>\n",
       "    </tr>\n",
       "    <tr>\n",
       "      <th>1</th>\n",
       "      <td>00e19ae8-3da9-4e76-b9f6-3f565b3e5f06</td>\n",
       "      <td>9.597891</td>\n",
       "      <td>0.020552</td>\n",
       "      <td>8.434835</td>\n",
       "      <td>10.630479</td>\n",
       "      <td>-0.547084</td>\n",
       "      <td>392.166340</td>\n",
       "      <td>9.450079</td>\n",
       "      <td>0.027086</td>\n",
       "      <td>0.039381</td>\n",
       "      <td>0.000000</td>\n",
       "      <td>3.838616</td>\n",
       "      <td>38.758691</td>\n",
       "      <td>2442.798342</td>\n",
       "      <td>0.003252</td>\n",
       "    </tr>\n",
       "    <tr>\n",
       "      <th>2</th>\n",
       "      <td>00f1d52e-03cf-4031-a616-9a66f961d994</td>\n",
       "      <td>9.472367</td>\n",
       "      <td>0.527928</td>\n",
       "      <td>0.954803</td>\n",
       "      <td>35.897640</td>\n",
       "      <td>12.004225</td>\n",
       "      <td>324.081339</td>\n",
       "      <td>1.050010</td>\n",
       "      <td>0.027087</td>\n",
       "      <td>0.402850</td>\n",
       "      <td>0.000000</td>\n",
       "      <td>34.862598</td>\n",
       "      <td>26.024588</td>\n",
       "      <td>1300.129813</td>\n",
       "      <td>0.043302</td>\n",
       "    </tr>\n",
       "    <tr>\n",
       "      <th>3</th>\n",
       "      <td>0148fd23-2066-4fb4-aadb-9ba294ed4ab1</td>\n",
       "      <td>9.725121</td>\n",
       "      <td>0.481252</td>\n",
       "      <td>4.733335</td>\n",
       "      <td>23.594657</td>\n",
       "      <td>9.213878</td>\n",
       "      <td>174.505308</td>\n",
       "      <td>0.550002</td>\n",
       "      <td>0.037188</td>\n",
       "      <td>0.247675</td>\n",
       "      <td>0.001197</td>\n",
       "      <td>12.184761</td>\n",
       "      <td>16.754113</td>\n",
       "      <td>471.948107</td>\n",
       "      <td>0.023674</td>\n",
       "    </tr>\n",
       "    <tr>\n",
       "      <th>4</th>\n",
       "      <td>014ccd5a-7f4a-480b-8ab5-1ed8601d0721</td>\n",
       "      <td>9.737473</td>\n",
       "      <td>0.554874</td>\n",
       "      <td>2.134904</td>\n",
       "      <td>27.962365</td>\n",
       "      <td>5.743465</td>\n",
       "      <td>94.241887</td>\n",
       "      <td>0.250001</td>\n",
       "      <td>0.030096</td>\n",
       "      <td>0.206478</td>\n",
       "      <td>0.000000</td>\n",
       "      <td>26.711065</td>\n",
       "      <td>27.504339</td>\n",
       "      <td>1966.497735</td>\n",
       "      <td>0.024835</td>\n",
       "    </tr>\n",
       "  </tbody>\n",
       "</table>\n",
       "</div>"
      ],
      "text/plain": [
       "                         measurement_id  mean_r_sa  std_r_sa  min_r_sa  \\\n",
       "0  00a49337-386c-4de3-a220-4cf3c0d20a7d  10.348021  0.142331  5.148181   \n",
       "1  00e19ae8-3da9-4e76-b9f6-3f565b3e5f06   9.597891  0.020552  8.434835   \n",
       "2  00f1d52e-03cf-4031-a616-9a66f961d994   9.472367  0.527928  0.954803   \n",
       "3  0148fd23-2066-4fb4-aadb-9ba294ed4ab1   9.725121  0.481252  4.733335   \n",
       "4  014ccd5a-7f4a-480b-8ab5-1ed8601d0721   9.737473  0.554874  2.134904   \n",
       "\n",
       "    max_r_sa  skew_r_sa  kurtosis_r_sa  peaks_r_sa  mean_dr_sa  std_dr_sa  \\\n",
       "0  17.978439   6.201954     475.003586    4.250018    0.030320   0.133402   \n",
       "1  10.630479  -0.547084     392.166340    9.450079    0.027086   0.039381   \n",
       "2  35.897640  12.004225     324.081339    1.050010    0.027087   0.402850   \n",
       "3  23.594657   9.213878     174.505308    0.550002    0.037188   0.247675   \n",
       "4  27.962365   5.743465      94.241887    0.250001    0.030096   0.206478   \n",
       "\n",
       "   min_dr_sa  max_dr_sa  skew_dr_sa  kurtosis_dr_sa  FreqPower_sa  \n",
       "0   0.000000   8.723960   18.316883      606.819719      0.010864  \n",
       "1   0.000000   3.838616   38.758691     2442.798342      0.003252  \n",
       "2   0.000000  34.862598   26.024588     1300.129813      0.043302  \n",
       "3   0.001197  12.184761   16.754113      471.948107      0.023674  \n",
       "4   0.000000  26.711065   27.504339     1966.497735      0.024835  "
      ]
     },
     "execution_count": 13,
     "metadata": {},
     "output_type": "execute_result"
    }
   ],
   "source": [
    "accel_phones.head()"
   ]
  },
  {
   "cell_type": "code",
   "execution_count": 14,
   "metadata": {},
   "outputs": [
    {
     "data": {
      "text/plain": [
       "4.250017708407119"
      ]
     },
     "execution_count": 14,
     "metadata": {},
     "output_type": "execute_result"
    }
   ],
   "source": [
    "accel_phones.peaks_r_sa[0]"
   ]
  },
  {
   "cell_type": "code",
   "execution_count": 15,
   "metadata": {},
   "outputs": [
    {
     "name": "stderr",
     "output_type": "stream",
     "text": [
      "C:\\Users\\lisbe\\Anaconda3\\lib\\site-packages\\ipykernel_launcher.py:21: SettingWithCopyWarning: \n",
      "A value is trying to be set on a copy of a slice from a DataFrame.\n",
      "Try using .loc[row_indexer,col_indexer] = value instead\n",
      "\n",
      "See the caveats in the documentation: http://pandas.pydata.org/pandas-docs/stable/user_guide/indexing.html#returning-a-view-versus-a-copy\n"
     ]
    }
   ],
   "source": [
    "\n",
    "#pd.read_csv(f) for f in all_filenames \n",
    "\n",
    "mycsvdir = 'training_data\\REAL_training\\smartwatch_accelerometer'\n",
    "\n",
    "csvfiles = glob.glob(os.path.join(mycsvdir, '*.csv'))\n",
    "\n",
    "Means_wa=[]\n",
    "for csvfile in csvfiles:\n",
    "    df1 = pd.read_csv(csvfile)\n",
    "    \n",
    "    for x in pd.Series(df1['device_id']).unique():\n",
    "        \n",
    "        df = df1[df1['device_id']==x]\n",
    "        \n",
    "        #Relevant features \n",
    "        measurement_id = os.path.basename(csvfile)\n",
    "        measurement_id = measurement_id.replace(\".csv\",\"\")\n",
    "        \n",
    "        device_id = x\n",
    "        \n",
    "        df[\"r\"] = np.sqrt(df.x**2+df.y**2+df.z**2)\n",
    "        dr = np.sqrt(np.diff(df.x)**2+np.diff(df.y)**2+np.diff(df.z)**2)\n",
    "\n",
    "        mean_r = np.mean(df.r)\n",
    "        std_r = np.std(df.r)\n",
    "        min_r = np.min(df.r)\n",
    "        max_r = np.max(df.r)\n",
    "        skew_r = skew(df.r)\n",
    "        kurtosis_r = kurtosis(df.r)\n",
    "        \n",
    "        peaks_r = len(sig.find_peaks(df.r, threshold = 3*std_r)[0])/(df[\"t\"].iloc[-1]/60)\n",
    "\n",
    "        mean_dr = np.mean(dr)\n",
    "        std_dr = np.std(dr)\n",
    "        min_dr = np.min(dr)\n",
    "        max_dr = np.max(dr)\n",
    "        skew_dr = skew(dr)\n",
    "        kurtosis_dr = kurtosis(dr)\n",
    "        \n",
    "        \"\"\"Extract frequency bands in Hz\"\"\"\n",
    "        FreqBandx = sig.lfilter(Filter[0],Filter[1],df[\"x\"]);\n",
    "        FreqBandy = sig.lfilter(Filter[0],Filter[1],df[\"y\"]);\n",
    "        FreqBandz = sig.lfilter(Filter[0],Filter[1],df[\"z\"]);\n",
    "\n",
    "        \"\"\"Find the power in each frequency Band\"\"\"\n",
    "        PowerFreqBandx = np.abs(FreqBandx)**2;\n",
    "        PowerFreqBandy = np.abs(FreqBandy)**2;\n",
    "        PowerFreqBandz = np.abs(FreqBandz)**2;\n",
    "\n",
    "        \"\"\"Sum the power in each frequency band\"\"\"\n",
    "        SumPowerFreqBandx = np.sum(PowerFreqBandx);\n",
    "        SumPowerFreqBandy = np.sum(PowerFreqBandy);\n",
    "        SumPowerFreqBandz = np.sum(PowerFreqBandz);\n",
    "\n",
    "        \"\"\"Sum the total signal power\"\"\"\n",
    "        Powerx = np.sum(df[\"x\"]**2);\n",
    "        Powery = np.sum(df[\"y\"]**2);\n",
    "        Powerz = np.sum(df[\"z\"]**2);\n",
    "\n",
    "        \"\"\"Find the percentage of power in frequencies of interest\"\"\"\n",
    "        FreqPower = np.sqrt((SumPowerFreqBandx+SumPowerFreqBandy+SumPowerFreqBandz)/(Powerx+Powery+Powerz));\n",
    "\n",
    "        Means_wa.append([measurement_id, device_id, mean_r, std_r, min_r, max_r, skew_r, kurtosis_r, peaks_r,\n",
    "                         mean_dr,std_dr, min_dr, max_dr, skew_dr, kurtosis_dr,FreqPower])\n",
    "\n"
   ]
  },
  {
   "cell_type": "code",
   "execution_count": 16,
   "metadata": {},
   "outputs": [],
   "source": [
    "accel_watches= pd.DataFrame(Means_wa, columns=[\"measurement_id\",\"device_id\", \"mean_r_wa\", \"std_r_wa\", \n",
    "                                              \"min_r_wa\", \"max_r_wa\", \"skew__r_wa\", \"kurtosis_r_wa\", \"peaks_r_wa\",\n",
    "                                              \"mean_dr_wa\", \"std_dr_wa\", \"min_dr_wa\", \"max_dr_Wa\", \n",
    "                                              \"skew_dr_wa\", \"kurtosis_dr_wa\",\"FreqPower_wa\"])\n",
    "   \n",
    "\n",
    "\n"
   ]
  },
  {
   "cell_type": "code",
   "execution_count": 17,
   "metadata": {},
   "outputs": [
    {
     "data": {
      "text/plain": [
       "(676, 16)"
      ]
     },
     "execution_count": 17,
     "metadata": {},
     "output_type": "execute_result"
    }
   ],
   "source": [
    "accel_watches.shape"
   ]
  },
  {
   "cell_type": "code",
   "execution_count": 18,
   "metadata": {},
   "outputs": [
    {
     "name": "stderr",
     "output_type": "stream",
     "text": [
      "C:\\Users\\lisbe\\Anaconda3\\lib\\site-packages\\ipykernel_launcher.py:20: SettingWithCopyWarning: \n",
      "A value is trying to be set on a copy of a slice from a DataFrame.\n",
      "Try using .loc[row_indexer,col_indexer] = value instead\n",
      "\n",
      "See the caveats in the documentation: http://pandas.pydata.org/pandas-docs/stable/user_guide/indexing.html#returning-a-view-versus-a-copy\n"
     ]
    }
   ],
   "source": [
    "#pd.read_csv(f) for f in all_filenames \n",
    "\n",
    "mycsvdir ='training_data\\REAL_training\\smartwatch_gyroscope'\n",
    "csvfiles = glob.glob(os.path.join(mycsvdir, '*.csv'))\n",
    "\n",
    "Means_wg=[]\n",
    "for csvfile in csvfiles:\n",
    "    df1 = pd.read_csv(csvfile)\n",
    "    \n",
    "    for x in pd.Series(df1['device_id']).unique():\n",
    "        \n",
    "        df = df1[df1['device_id']==x]\n",
    "        \n",
    "        #Relevant features \n",
    "        measurement_id = os.path.basename(csvfile)\n",
    "        measurement_id = measurement_id.replace(\".csv\",\"\")\n",
    "        \n",
    "        device_id = x\n",
    "        \n",
    "        df[\"r\"] = np.sqrt(df.x**2+df.y**2+df.z**2)\n",
    "        mean_r = np.mean(df.r)\n",
    "        std_r = np.std(df.r)\n",
    "        min_r = np.min(df.r)\n",
    "        max_r = np.max(df.r)\n",
    "        skew_r = skew(df.r)\n",
    "        kurtosis_r = kurtosis(df.r)\n",
    "        peaks_r = len(sig.find_peaks(df.r, threshold = 3*std_r)[0])/(df[\"t\"].iloc[-1]/60)\n",
    "    \n",
    "        Means_wg.append([measurement_id, device_id, mean_r, std_r, min_r, max_r, skew_r, kurtosis_r, peaks_r])"
   ]
  },
  {
   "cell_type": "code",
   "execution_count": 19,
   "metadata": {},
   "outputs": [],
   "source": [
    "\n",
    "gyro_watches= pd.DataFrame(Means_wg, columns=[\"measurement_id\", \"device_id\", \"mean_r_wg\", \"std_r_wg\", \n",
    "                                              \"min_r_wg\", \"max_r_wg\", \"skew_r_wg\", \"kurtosis_r_wg\", \"peaks_r_wg\"])\n",
    "   \n",
    "\n"
   ]
  },
  {
   "cell_type": "code",
   "execution_count": 20,
   "metadata": {},
   "outputs": [
    {
     "data": {
      "text/plain": [
       "(676, 9)"
      ]
     },
     "execution_count": 20,
     "metadata": {},
     "output_type": "execute_result"
    }
   ],
   "source": [
    "gyro_watches.shape"
   ]
  },
  {
   "cell_type": "code",
   "execution_count": 21,
   "metadata": {
    "scrolled": true
   },
   "outputs": [],
   "source": [
    "df_watch=pd.merge(gyro_watches, accel_watches, on=[\"measurement_id\", \"device_id\"])"
   ]
  },
  {
   "cell_type": "code",
   "execution_count": 22,
   "metadata": {
    "scrolled": true
   },
   "outputs": [
    {
     "data": {
      "text/html": [
       "<div>\n",
       "<style scoped>\n",
       "    .dataframe tbody tr th:only-of-type {\n",
       "        vertical-align: middle;\n",
       "    }\n",
       "\n",
       "    .dataframe tbody tr th {\n",
       "        vertical-align: top;\n",
       "    }\n",
       "\n",
       "    .dataframe thead th {\n",
       "        text-align: right;\n",
       "    }\n",
       "</style>\n",
       "<table border=\"1\" class=\"dataframe\">\n",
       "  <thead>\n",
       "    <tr style=\"text-align: right;\">\n",
       "      <th></th>\n",
       "      <th>measurement_id</th>\n",
       "      <th>device_id</th>\n",
       "      <th>mean_r_wg</th>\n",
       "      <th>std_r_wg</th>\n",
       "      <th>min_r_wg</th>\n",
       "      <th>max_r_wg</th>\n",
       "      <th>skew_r_wg</th>\n",
       "      <th>kurtosis_r_wg</th>\n",
       "      <th>peaks_r_wg</th>\n",
       "      <th>mean_r_wa</th>\n",
       "      <th>...</th>\n",
       "      <th>skew__r_wa</th>\n",
       "      <th>kurtosis_r_wa</th>\n",
       "      <th>peaks_r_wa</th>\n",
       "      <th>mean_dr_wa</th>\n",
       "      <th>std_dr_wa</th>\n",
       "      <th>min_dr_wa</th>\n",
       "      <th>max_dr_Wa</th>\n",
       "      <th>skew_dr_wa</th>\n",
       "      <th>kurtosis_dr_wa</th>\n",
       "      <th>FreqPower_wa</th>\n",
       "    </tr>\n",
       "  </thead>\n",
       "  <tbody>\n",
       "    <tr>\n",
       "      <th>0</th>\n",
       "      <td>00e19ae8-3da9-4e76-b9f6-3f565b3e5f06</td>\n",
       "      <td>2WLT</td>\n",
       "      <td>0.932274</td>\n",
       "      <td>1.278240</td>\n",
       "      <td>0.002601</td>\n",
       "      <td>31.765899</td>\n",
       "      <td>3.484675</td>\n",
       "      <td>24.045193</td>\n",
       "      <td>0.052074</td>\n",
       "      <td>10.223686</td>\n",
       "      <td>...</td>\n",
       "      <td>9.981298</td>\n",
       "      <td>397.013541</td>\n",
       "      <td>3.645083</td>\n",
       "      <td>0.696498</td>\n",
       "      <td>1.314481</td>\n",
       "      <td>0.0</td>\n",
       "      <td>99.864372</td>\n",
       "      <td>25.031319</td>\n",
       "      <td>1278.002378</td>\n",
       "      <td>0.085131</td>\n",
       "    </tr>\n",
       "    <tr>\n",
       "      <th>1</th>\n",
       "      <td>00f1d52e-03cf-4031-a616-9a66f961d994</td>\n",
       "      <td>2WH3</td>\n",
       "      <td>0.252978</td>\n",
       "      <td>0.672540</td>\n",
       "      <td>0.000000</td>\n",
       "      <td>10.770546</td>\n",
       "      <td>5.556545</td>\n",
       "      <td>43.863053</td>\n",
       "      <td>0.050000</td>\n",
       "      <td>9.999994</td>\n",
       "      <td>...</td>\n",
       "      <td>7.923019</td>\n",
       "      <td>205.116477</td>\n",
       "      <td>1.700001</td>\n",
       "      <td>0.334225</td>\n",
       "      <td>0.688596</td>\n",
       "      <td>0.0</td>\n",
       "      <td>27.285312</td>\n",
       "      <td>13.831569</td>\n",
       "      <td>343.976648</td>\n",
       "      <td>0.054035</td>\n",
       "    </tr>\n",
       "    <tr>\n",
       "      <th>2</th>\n",
       "      <td>00f1d52e-03cf-4031-a616-9a66f961d994</td>\n",
       "      <td>327T</td>\n",
       "      <td>0.014950</td>\n",
       "      <td>0.001085</td>\n",
       "      <td>0.004379</td>\n",
       "      <td>0.040216</td>\n",
       "      <td>4.059588</td>\n",
       "      <td>73.975621</td>\n",
       "      <td>9.150015</td>\n",
       "      <td>9.941846</td>\n",
       "      <td>...</td>\n",
       "      <td>0.005258</td>\n",
       "      <td>-0.046104</td>\n",
       "      <td>7.700071</td>\n",
       "      <td>0.123816</td>\n",
       "      <td>0.055928</td>\n",
       "      <td>0.0</td>\n",
       "      <td>0.445733</td>\n",
       "      <td>0.414507</td>\n",
       "      <td>0.288822</td>\n",
       "      <td>0.004877</td>\n",
       "    </tr>\n",
       "    <tr>\n",
       "      <th>3</th>\n",
       "      <td>0148fd23-2066-4fb4-aadb-9ba294ed4ab1</td>\n",
       "      <td>2VSP</td>\n",
       "      <td>0.162565</td>\n",
       "      <td>0.396840</td>\n",
       "      <td>0.000000</td>\n",
       "      <td>7.508131</td>\n",
       "      <td>6.063991</td>\n",
       "      <td>54.367232</td>\n",
       "      <td>0.050001</td>\n",
       "      <td>10.034424</td>\n",
       "      <td>...</td>\n",
       "      <td>4.404967</td>\n",
       "      <td>75.490450</td>\n",
       "      <td>1.550023</td>\n",
       "      <td>0.279992</td>\n",
       "      <td>0.426392</td>\n",
       "      <td>0.0</td>\n",
       "      <td>24.006040</td>\n",
       "      <td>11.505342</td>\n",
       "      <td>344.097680</td>\n",
       "      <td>0.038738</td>\n",
       "    </tr>\n",
       "    <tr>\n",
       "      <th>4</th>\n",
       "      <td>014ccd5a-7f4a-480b-8ab5-1ed8601d0721</td>\n",
       "      <td>2ZX6</td>\n",
       "      <td>0.623736</td>\n",
       "      <td>1.023886</td>\n",
       "      <td>0.000000</td>\n",
       "      <td>15.372604</td>\n",
       "      <td>2.861452</td>\n",
       "      <td>12.277611</td>\n",
       "      <td>21.100141</td>\n",
       "      <td>10.404072</td>\n",
       "      <td>...</td>\n",
       "      <td>23.876457</td>\n",
       "      <td>1498.962897</td>\n",
       "      <td>45.900153</td>\n",
       "      <td>1.458589</td>\n",
       "      <td>2.860483</td>\n",
       "      <td>0.0</td>\n",
       "      <td>144.170348</td>\n",
       "      <td>11.011365</td>\n",
       "      <td>326.431559</td>\n",
       "      <td>0.064473</td>\n",
       "    </tr>\n",
       "  </tbody>\n",
       "</table>\n",
       "<p>5 rows × 23 columns</p>\n",
       "</div>"
      ],
      "text/plain": [
       "                         measurement_id device_id  mean_r_wg  std_r_wg  \\\n",
       "0  00e19ae8-3da9-4e76-b9f6-3f565b3e5f06      2WLT   0.932274  1.278240   \n",
       "1  00f1d52e-03cf-4031-a616-9a66f961d994      2WH3   0.252978  0.672540   \n",
       "2  00f1d52e-03cf-4031-a616-9a66f961d994      327T   0.014950  0.001085   \n",
       "3  0148fd23-2066-4fb4-aadb-9ba294ed4ab1      2VSP   0.162565  0.396840   \n",
       "4  014ccd5a-7f4a-480b-8ab5-1ed8601d0721      2ZX6   0.623736  1.023886   \n",
       "\n",
       "   min_r_wg   max_r_wg  skew_r_wg  kurtosis_r_wg  peaks_r_wg  mean_r_wa  ...  \\\n",
       "0  0.002601  31.765899   3.484675      24.045193    0.052074  10.223686  ...   \n",
       "1  0.000000  10.770546   5.556545      43.863053    0.050000   9.999994  ...   \n",
       "2  0.004379   0.040216   4.059588      73.975621    9.150015   9.941846  ...   \n",
       "3  0.000000   7.508131   6.063991      54.367232    0.050001  10.034424  ...   \n",
       "4  0.000000  15.372604   2.861452      12.277611   21.100141  10.404072  ...   \n",
       "\n",
       "   skew__r_wa  kurtosis_r_wa  peaks_r_wa  mean_dr_wa  std_dr_wa  min_dr_wa  \\\n",
       "0    9.981298     397.013541    3.645083    0.696498   1.314481        0.0   \n",
       "1    7.923019     205.116477    1.700001    0.334225   0.688596        0.0   \n",
       "2    0.005258      -0.046104    7.700071    0.123816   0.055928        0.0   \n",
       "3    4.404967      75.490450    1.550023    0.279992   0.426392        0.0   \n",
       "4   23.876457    1498.962897   45.900153    1.458589   2.860483        0.0   \n",
       "\n",
       "    max_dr_Wa  skew_dr_wa  kurtosis_dr_wa  FreqPower_wa  \n",
       "0   99.864372   25.031319     1278.002378      0.085131  \n",
       "1   27.285312   13.831569      343.976648      0.054035  \n",
       "2    0.445733    0.414507        0.288822      0.004877  \n",
       "3   24.006040   11.505342      344.097680      0.038738  \n",
       "4  144.170348   11.011365      326.431559      0.064473  \n",
       "\n",
       "[5 rows x 23 columns]"
      ]
     },
     "execution_count": 22,
     "metadata": {},
     "output_type": "execute_result"
    }
   ],
   "source": [
    "df_watch.head()"
   ]
  },
  {
   "cell_type": "code",
   "execution_count": 23,
   "metadata": {},
   "outputs": [
    {
     "data": {
      "text/plain": [
       "(526, 15)"
      ]
     },
     "execution_count": 23,
     "metadata": {},
     "output_type": "execute_result"
    }
   ],
   "source": [
    "accel_phones.shape"
   ]
  },
  {
   "cell_type": "code",
   "execution_count": 24,
   "metadata": {},
   "outputs": [
    {
     "data": {
      "text/plain": [
       "(732, 37)"
      ]
     },
     "execution_count": 24,
     "metadata": {},
     "output_type": "execute_result"
    }
   ],
   "source": [
    "df_train = pd.merge(df_watch, accel_phones, on=[\"measurement_id\"], how='outer')\n",
    "df_train.shape"
   ]
  },
  {
   "cell_type": "code",
   "execution_count": 25,
   "metadata": {},
   "outputs": [],
   "source": [
    "labels_tremor = labels.drop(['on_off', 'dyskinesia'], axis=1)"
   ]
  },
  {
   "cell_type": "code",
   "execution_count": 26,
   "metadata": {},
   "outputs": [
    {
     "data": {
      "text/plain": [
       "(312, 4)"
      ]
     },
     "execution_count": 26,
     "metadata": {},
     "output_type": "execute_result"
    }
   ],
   "source": [
    "labels_tremor = labels_tremor.dropna()\n",
    "labels_tremor.shape"
   ]
  },
  {
   "cell_type": "code",
   "execution_count": 27,
   "metadata": {},
   "outputs": [],
   "source": [
    "df_tremor= pd.merge(df_train, labels_tremor, on=[\"measurement_id\"], how='right')\n"
   ]
  },
  {
   "cell_type": "code",
   "execution_count": 28,
   "metadata": {},
   "outputs": [
    {
     "data": {
      "text/plain": [
       "(370, 40)"
      ]
     },
     "execution_count": 28,
     "metadata": {},
     "output_type": "execute_result"
    }
   ],
   "source": [
    "df_tremor.shape"
   ]
  },
  {
   "cell_type": "code",
   "execution_count": 29,
   "metadata": {},
   "outputs": [
    {
     "data": {
      "text/plain": [
       "6"
      ]
     },
     "execution_count": 29,
     "metadata": {},
     "output_type": "execute_result"
    }
   ],
   "source": [
    "len(df_tremor.subject_id.unique())"
   ]
  },
  {
   "cell_type": "code",
   "execution_count": 30,
   "metadata": {},
   "outputs": [],
   "source": [
    "from sklearn.model_selection import train_test_split\n",
    "\n",
    "train, test = train_test_split(df_tremor, test_size=0.2, random_state=42, stratify = df_tremor['subject_id'])"
   ]
  },
  {
   "cell_type": "code",
   "execution_count": 31,
   "metadata": {
    "scrolled": true
   },
   "outputs": [
    {
     "data": {
      "text/html": [
       "<div>\n",
       "<style scoped>\n",
       "    .dataframe tbody tr th:only-of-type {\n",
       "        vertical-align: middle;\n",
       "    }\n",
       "\n",
       "    .dataframe tbody tr th {\n",
       "        vertical-align: top;\n",
       "    }\n",
       "\n",
       "    .dataframe thead th {\n",
       "        text-align: right;\n",
       "    }\n",
       "</style>\n",
       "<table border=\"1\" class=\"dataframe\">\n",
       "  <thead>\n",
       "    <tr style=\"text-align: right;\">\n",
       "      <th></th>\n",
       "      <th>measurement_id</th>\n",
       "      <th>device_id</th>\n",
       "      <th>mean_r_wg</th>\n",
       "      <th>std_r_wg</th>\n",
       "      <th>min_r_wg</th>\n",
       "      <th>max_r_wg</th>\n",
       "      <th>skew_r_wg</th>\n",
       "      <th>kurtosis_r_wg</th>\n",
       "      <th>peaks_r_wg</th>\n",
       "      <th>mean_r_wa</th>\n",
       "      <th>...</th>\n",
       "      <th>mean_dr_sa</th>\n",
       "      <th>std_dr_sa</th>\n",
       "      <th>min_dr_sa</th>\n",
       "      <th>max_dr_sa</th>\n",
       "      <th>skew_dr_sa</th>\n",
       "      <th>kurtosis_dr_sa</th>\n",
       "      <th>FreqPower_sa</th>\n",
       "      <th>subject_id</th>\n",
       "      <th>tremor</th>\n",
       "      <th>tremor_null</th>\n",
       "    </tr>\n",
       "  </thead>\n",
       "  <tbody>\n",
       "    <tr>\n",
       "      <th>288</th>\n",
       "      <td>dd8a49e5-01d9-4b66-ac2d-9af92ad24d49</td>\n",
       "      <td>2WH8</td>\n",
       "      <td>0.345821</td>\n",
       "      <td>0.532731</td>\n",
       "      <td>0.005719</td>\n",
       "      <td>8.844716</td>\n",
       "      <td>4.659606</td>\n",
       "      <td>35.521744</td>\n",
       "      <td>0.000000</td>\n",
       "      <td>10.313129</td>\n",
       "      <td>...</td>\n",
       "      <td>0.061949</td>\n",
       "      <td>0.256077</td>\n",
       "      <td>0.001197</td>\n",
       "      <td>16.580322</td>\n",
       "      <td>11.185084</td>\n",
       "      <td>337.502845</td>\n",
       "      <td>0.027706</td>\n",
       "      <td>hbv013</td>\n",
       "      <td>0.0</td>\n",
       "      <td>0.373134</td>\n",
       "    </tr>\n",
       "    <tr>\n",
       "      <th>160</th>\n",
       "      <td>7b333456-c42c-48c7-88cc-046c46c5e465</td>\n",
       "      <td>2WH3</td>\n",
       "      <td>0.006854</td>\n",
       "      <td>0.000723</td>\n",
       "      <td>0.003358</td>\n",
       "      <td>0.019351</td>\n",
       "      <td>0.407942</td>\n",
       "      <td>3.725164</td>\n",
       "      <td>6.100025</td>\n",
       "      <td>10.059251</td>\n",
       "      <td>...</td>\n",
       "      <td>0.038308</td>\n",
       "      <td>0.763964</td>\n",
       "      <td>0.000000</td>\n",
       "      <td>25.601324</td>\n",
       "      <td>10.497249</td>\n",
       "      <td>169.126711</td>\n",
       "      <td>0.093733</td>\n",
       "      <td>hbv023</td>\n",
       "      <td>3.0</td>\n",
       "      <td>2.130435</td>\n",
       "    </tr>\n",
       "    <tr>\n",
       "      <th>35</th>\n",
       "      <td>23370d63-278b-4352-a580-e15dd15aad6c</td>\n",
       "      <td>2ZX6</td>\n",
       "      <td>0.258138</td>\n",
       "      <td>0.613130</td>\n",
       "      <td>0.001502</td>\n",
       "      <td>14.528295</td>\n",
       "      <td>4.866213</td>\n",
       "      <td>40.103600</td>\n",
       "      <td>1.800012</td>\n",
       "      <td>10.160091</td>\n",
       "      <td>...</td>\n",
       "      <td>0.026008</td>\n",
       "      <td>0.134101</td>\n",
       "      <td>0.000000</td>\n",
       "      <td>14.350957</td>\n",
       "      <td>23.000949</td>\n",
       "      <td>1296.160908</td>\n",
       "      <td>0.013459</td>\n",
       "      <td>hbv054</td>\n",
       "      <td>0.0</td>\n",
       "      <td>0.137931</td>\n",
       "    </tr>\n",
       "    <tr>\n",
       "      <th>118</th>\n",
       "      <td>5949b311-1eed-4fa1-b053-30d5c8b11954</td>\n",
       "      <td>2WH5</td>\n",
       "      <td>0.292375</td>\n",
       "      <td>0.556250</td>\n",
       "      <td>0.001062</td>\n",
       "      <td>9.385382</td>\n",
       "      <td>4.230119</td>\n",
       "      <td>27.219064</td>\n",
       "      <td>0.000000</td>\n",
       "      <td>10.217263</td>\n",
       "      <td>...</td>\n",
       "      <td>0.037494</td>\n",
       "      <td>0.333719</td>\n",
       "      <td>0.000000</td>\n",
       "      <td>27.517543</td>\n",
       "      <td>19.978334</td>\n",
       "      <td>824.155413</td>\n",
       "      <td>0.029939</td>\n",
       "      <td>hbv022</td>\n",
       "      <td>0.0</td>\n",
       "      <td>0.285714</td>\n",
       "    </tr>\n",
       "    <tr>\n",
       "      <th>124</th>\n",
       "      <td>5c42911d-0ebd-47ba-9925-dd5ab1c0ed61</td>\n",
       "      <td>2VSP</td>\n",
       "      <td>0.011198</td>\n",
       "      <td>0.000651</td>\n",
       "      <td>0.008628</td>\n",
       "      <td>0.013887</td>\n",
       "      <td>-0.045891</td>\n",
       "      <td>0.010925</td>\n",
       "      <td>1.100019</td>\n",
       "      <td>10.091634</td>\n",
       "      <td>...</td>\n",
       "      <td>0.035892</td>\n",
       "      <td>0.307609</td>\n",
       "      <td>0.000000</td>\n",
       "      <td>21.197570</td>\n",
       "      <td>19.224398</td>\n",
       "      <td>737.034604</td>\n",
       "      <td>0.025984</td>\n",
       "      <td>hbv013</td>\n",
       "      <td>1.0</td>\n",
       "      <td>0.373134</td>\n",
       "    </tr>\n",
       "  </tbody>\n",
       "</table>\n",
       "<p>5 rows × 40 columns</p>\n",
       "</div>"
      ],
      "text/plain": [
       "                           measurement_id device_id  mean_r_wg  std_r_wg  \\\n",
       "288  dd8a49e5-01d9-4b66-ac2d-9af92ad24d49      2WH8   0.345821  0.532731   \n",
       "160  7b333456-c42c-48c7-88cc-046c46c5e465      2WH3   0.006854  0.000723   \n",
       "35   23370d63-278b-4352-a580-e15dd15aad6c      2ZX6   0.258138  0.613130   \n",
       "118  5949b311-1eed-4fa1-b053-30d5c8b11954      2WH5   0.292375  0.556250   \n",
       "124  5c42911d-0ebd-47ba-9925-dd5ab1c0ed61      2VSP   0.011198  0.000651   \n",
       "\n",
       "     min_r_wg   max_r_wg  skew_r_wg  kurtosis_r_wg  peaks_r_wg  mean_r_wa  \\\n",
       "288  0.005719   8.844716   4.659606      35.521744    0.000000  10.313129   \n",
       "160  0.003358   0.019351   0.407942       3.725164    6.100025  10.059251   \n",
       "35   0.001502  14.528295   4.866213      40.103600    1.800012  10.160091   \n",
       "118  0.001062   9.385382   4.230119      27.219064    0.000000  10.217263   \n",
       "124  0.008628   0.013887  -0.045891       0.010925    1.100019  10.091634   \n",
       "\n",
       "     ...  mean_dr_sa  std_dr_sa  min_dr_sa  max_dr_sa  skew_dr_sa  \\\n",
       "288  ...    0.061949   0.256077   0.001197  16.580322   11.185084   \n",
       "160  ...    0.038308   0.763964   0.000000  25.601324   10.497249   \n",
       "35   ...    0.026008   0.134101   0.000000  14.350957   23.000949   \n",
       "118  ...    0.037494   0.333719   0.000000  27.517543   19.978334   \n",
       "124  ...    0.035892   0.307609   0.000000  21.197570   19.224398   \n",
       "\n",
       "     kurtosis_dr_sa  FreqPower_sa  subject_id  tremor  tremor_null  \n",
       "288      337.502845      0.027706      hbv013     0.0     0.373134  \n",
       "160      169.126711      0.093733      hbv023     3.0     2.130435  \n",
       "35      1296.160908      0.013459      hbv054     0.0     0.137931  \n",
       "118      824.155413      0.029939      hbv022     0.0     0.285714  \n",
       "124      737.034604      0.025984      hbv013     1.0     0.373134  \n",
       "\n",
       "[5 rows x 40 columns]"
      ]
     },
     "execution_count": 31,
     "metadata": {},
     "output_type": "execute_result"
    }
   ],
   "source": [
    "train.head()"
   ]
  },
  {
   "cell_type": "code",
   "execution_count": 32,
   "metadata": {},
   "outputs": [],
   "source": [
    "cols_to_transform=train.columns[2:-3]"
   ]
  },
  {
   "cell_type": "code",
   "execution_count": 33,
   "metadata": {},
   "outputs": [
    {
     "name": "stderr",
     "output_type": "stream",
     "text": [
      "C:\\Users\\lisbe\\Anaconda3\\lib\\site-packages\\ipykernel_launcher.py:4: SettingWithCopyWarning: \n",
      "A value is trying to be set on a copy of a slice from a DataFrame.\n",
      "Try using .loc[row_indexer,col_indexer] = value instead\n",
      "\n",
      "See the caveats in the documentation: http://pandas.pydata.org/pandas-docs/stable/user_guide/indexing.html#returning-a-view-versus-a-copy\n",
      "  after removing the cwd from sys.path.\n",
      "C:\\Users\\lisbe\\Anaconda3\\lib\\site-packages\\pandas\\core\\indexing.py:494: SettingWithCopyWarning: \n",
      "A value is trying to be set on a copy of a slice from a DataFrame.\n",
      "Try using .loc[row_indexer,col_indexer] = value instead\n",
      "\n",
      "See the caveats in the documentation: http://pandas.pydata.org/pandas-docs/stable/user_guide/indexing.html#returning-a-view-versus-a-copy\n",
      "  self.obj[item] = s\n",
      "C:\\Users\\lisbe\\Anaconda3\\lib\\site-packages\\ipykernel_launcher.py:5: SettingWithCopyWarning: \n",
      "A value is trying to be set on a copy of a slice from a DataFrame.\n",
      "Try using .loc[row_indexer,col_indexer] = value instead\n",
      "\n",
      "See the caveats in the documentation: http://pandas.pydata.org/pandas-docs/stable/user_guide/indexing.html#returning-a-view-versus-a-copy\n",
      "  \"\"\"\n",
      "C:\\Users\\lisbe\\Anaconda3\\lib\\site-packages\\pandas\\core\\indexing.py:494: SettingWithCopyWarning: \n",
      "A value is trying to be set on a copy of a slice from a DataFrame.\n",
      "Try using .loc[row_indexer,col_indexer] = value instead\n",
      "\n",
      "See the caveats in the documentation: http://pandas.pydata.org/pandas-docs/stable/user_guide/indexing.html#returning-a-view-versus-a-copy\n",
      "  self.obj[item] = s\n"
     ]
    }
   ],
   "source": [
    "\n",
    "scaler= StandardScaler()\n",
    "#scaler=MinMaxScaler()\n",
    "scaler= scaler.fit(train[cols_to_transform])\n",
    "train[cols_to_transform] = scaler.transform(train[cols_to_transform])\n",
    "test[cols_to_transform] = scaler.transform(test[cols_to_transform])\n"
   ]
  },
  {
   "cell_type": "code",
   "execution_count": 34,
   "metadata": {},
   "outputs": [
    {
     "name": "stdout",
     "output_type": "stream",
     "text": [
      "(296, 36)\n",
      "(74, 36)\n"
     ]
    }
   ],
   "source": [
    "X_train = train.drop(['tremor','measurement_id', 'device_id', 'tremor_null'], axis=1)\n",
    "print(X_train.shape)\n",
    "y_train = train.tremor\n",
    "null_train = train.tremor_null\n",
    "X_test = test.drop(['tremor', 'measurement_id', 'device_id', 'tremor_null'], axis=1)\n",
    "print(X_test.shape)\n",
    "y_test = test.tremor\n",
    "null_test = test.tremor_null"
   ]
  },
  {
   "cell_type": "code",
   "execution_count": 35,
   "metadata": {},
   "outputs": [],
   "source": [
    "imputer = SimpleImputer(strategy=\"median\")\n"
   ]
  },
  {
   "cell_type": "code",
   "execution_count": 36,
   "metadata": {},
   "outputs": [
    {
     "name": "stdout",
     "output_type": "stream",
     "text": [
      "(296, 41)\n",
      "(74, 41)\n"
     ]
    }
   ],
   "source": [
    "X_train = pd.get_dummies(X_train)\n",
    "X_test = pd.get_dummies(X_test)\n",
    "\n",
    "print(X_train.shape)\n",
    "print(X_test.shape)"
   ]
  },
  {
   "cell_type": "code",
   "execution_count": 37,
   "metadata": {
    "scrolled": false
   },
   "outputs": [
    {
     "data": {
      "text/html": [
       "<div>\n",
       "<style scoped>\n",
       "    .dataframe tbody tr th:only-of-type {\n",
       "        vertical-align: middle;\n",
       "    }\n",
       "\n",
       "    .dataframe tbody tr th {\n",
       "        vertical-align: top;\n",
       "    }\n",
       "\n",
       "    .dataframe thead th {\n",
       "        text-align: right;\n",
       "    }\n",
       "</style>\n",
       "<table border=\"1\" class=\"dataframe\">\n",
       "  <thead>\n",
       "    <tr style=\"text-align: right;\">\n",
       "      <th></th>\n",
       "      <th>mean_r_wg</th>\n",
       "      <th>std_r_wg</th>\n",
       "      <th>min_r_wg</th>\n",
       "      <th>max_r_wg</th>\n",
       "      <th>skew_r_wg</th>\n",
       "      <th>kurtosis_r_wg</th>\n",
       "      <th>peaks_r_wg</th>\n",
       "      <th>mean_r_wa</th>\n",
       "      <th>std_r_wa</th>\n",
       "      <th>min_r_wa</th>\n",
       "      <th>...</th>\n",
       "      <th>max_dr_sa</th>\n",
       "      <th>skew_dr_sa</th>\n",
       "      <th>kurtosis_dr_sa</th>\n",
       "      <th>FreqPower_sa</th>\n",
       "      <th>subject_id_hbv012</th>\n",
       "      <th>subject_id_hbv013</th>\n",
       "      <th>subject_id_hbv022</th>\n",
       "      <th>subject_id_hbv023</th>\n",
       "      <th>subject_id_hbv038</th>\n",
       "      <th>subject_id_hbv054</th>\n",
       "    </tr>\n",
       "  </thead>\n",
       "  <tbody>\n",
       "    <tr>\n",
       "      <th>103</th>\n",
       "      <td>0.114880</td>\n",
       "      <td>0.537804</td>\n",
       "      <td>-0.415333</td>\n",
       "      <td>0.207832</td>\n",
       "      <td>-0.132305</td>\n",
       "      <td>-0.102678</td>\n",
       "      <td>-0.384465</td>\n",
       "      <td>-0.970291</td>\n",
       "      <td>0.225553</td>\n",
       "      <td>-1.068903</td>\n",
       "      <td>...</td>\n",
       "      <td>-0.582190</td>\n",
       "      <td>-0.585963</td>\n",
       "      <td>-0.437754</td>\n",
       "      <td>0.247629</td>\n",
       "      <td>0</td>\n",
       "      <td>0</td>\n",
       "      <td>0</td>\n",
       "      <td>1</td>\n",
       "      <td>0</td>\n",
       "      <td>0</td>\n",
       "    </tr>\n",
       "    <tr>\n",
       "      <th>221</th>\n",
       "      <td>3.976882</td>\n",
       "      <td>2.657819</td>\n",
       "      <td>0.700869</td>\n",
       "      <td>2.012369</td>\n",
       "      <td>-0.234492</td>\n",
       "      <td>-0.107148</td>\n",
       "      <td>-0.370135</td>\n",
       "      <td>0.774121</td>\n",
       "      <td>2.341807</td>\n",
       "      <td>-0.991801</td>\n",
       "      <td>...</td>\n",
       "      <td>0.546701</td>\n",
       "      <td>-0.532439</td>\n",
       "      <td>-0.414824</td>\n",
       "      <td>0.577295</td>\n",
       "      <td>1</td>\n",
       "      <td>0</td>\n",
       "      <td>0</td>\n",
       "      <td>0</td>\n",
       "      <td>0</td>\n",
       "      <td>0</td>\n",
       "    </tr>\n",
       "    <tr>\n",
       "      <th>284</th>\n",
       "      <td>-0.061714</td>\n",
       "      <td>0.535618</td>\n",
       "      <td>-0.301411</td>\n",
       "      <td>0.779932</td>\n",
       "      <td>-0.045910</td>\n",
       "      <td>-0.095967</td>\n",
       "      <td>-0.355805</td>\n",
       "      <td>0.316926</td>\n",
       "      <td>0.580012</td>\n",
       "      <td>-0.739748</td>\n",
       "      <td>...</td>\n",
       "      <td>0.365280</td>\n",
       "      <td>0.028675</td>\n",
       "      <td>-0.114435</td>\n",
       "      <td>-0.583756</td>\n",
       "      <td>0</td>\n",
       "      <td>0</td>\n",
       "      <td>0</td>\n",
       "      <td>0</td>\n",
       "      <td>0</td>\n",
       "      <td>1</td>\n",
       "    </tr>\n",
       "    <tr>\n",
       "      <th>355</th>\n",
       "      <td>NaN</td>\n",
       "      <td>NaN</td>\n",
       "      <td>NaN</td>\n",
       "      <td>NaN</td>\n",
       "      <td>NaN</td>\n",
       "      <td>NaN</td>\n",
       "      <td>NaN</td>\n",
       "      <td>NaN</td>\n",
       "      <td>NaN</td>\n",
       "      <td>NaN</td>\n",
       "      <td>...</td>\n",
       "      <td>-0.543749</td>\n",
       "      <td>-0.460853</td>\n",
       "      <td>-0.407431</td>\n",
       "      <td>-0.452485</td>\n",
       "      <td>0</td>\n",
       "      <td>1</td>\n",
       "      <td>0</td>\n",
       "      <td>0</td>\n",
       "      <td>0</td>\n",
       "      <td>0</td>\n",
       "    </tr>\n",
       "    <tr>\n",
       "      <th>56</th>\n",
       "      <td>0.582083</td>\n",
       "      <td>1.154887</td>\n",
       "      <td>-0.301411</td>\n",
       "      <td>0.725593</td>\n",
       "      <td>-0.170153</td>\n",
       "      <td>-0.104747</td>\n",
       "      <td>3.828491</td>\n",
       "      <td>-1.063000</td>\n",
       "      <td>0.578575</td>\n",
       "      <td>-1.069602</td>\n",
       "      <td>...</td>\n",
       "      <td>-0.111380</td>\n",
       "      <td>-0.474335</td>\n",
       "      <td>-0.396066</td>\n",
       "      <td>-0.059139</td>\n",
       "      <td>0</td>\n",
       "      <td>0</td>\n",
       "      <td>0</td>\n",
       "      <td>1</td>\n",
       "      <td>0</td>\n",
       "      <td>0</td>\n",
       "    </tr>\n",
       "  </tbody>\n",
       "</table>\n",
       "<p>5 rows × 41 columns</p>\n",
       "</div>"
      ],
      "text/plain": [
       "     mean_r_wg  std_r_wg  min_r_wg  max_r_wg  skew_r_wg  kurtosis_r_wg  \\\n",
       "103   0.114880  0.537804 -0.415333  0.207832  -0.132305      -0.102678   \n",
       "221   3.976882  2.657819  0.700869  2.012369  -0.234492      -0.107148   \n",
       "284  -0.061714  0.535618 -0.301411  0.779932  -0.045910      -0.095967   \n",
       "355        NaN       NaN       NaN       NaN        NaN            NaN   \n",
       "56    0.582083  1.154887 -0.301411  0.725593  -0.170153      -0.104747   \n",
       "\n",
       "     peaks_r_wg  mean_r_wa  std_r_wa  min_r_wa  ...  max_dr_sa  skew_dr_sa  \\\n",
       "103   -0.384465  -0.970291  0.225553 -1.068903  ...  -0.582190   -0.585963   \n",
       "221   -0.370135   0.774121  2.341807 -0.991801  ...   0.546701   -0.532439   \n",
       "284   -0.355805   0.316926  0.580012 -0.739748  ...   0.365280    0.028675   \n",
       "355         NaN        NaN       NaN       NaN  ...  -0.543749   -0.460853   \n",
       "56     3.828491  -1.063000  0.578575 -1.069602  ...  -0.111380   -0.474335   \n",
       "\n",
       "     kurtosis_dr_sa  FreqPower_sa  subject_id_hbv012  subject_id_hbv013  \\\n",
       "103       -0.437754      0.247629                  0                  0   \n",
       "221       -0.414824      0.577295                  1                  0   \n",
       "284       -0.114435     -0.583756                  0                  0   \n",
       "355       -0.407431     -0.452485                  0                  1   \n",
       "56        -0.396066     -0.059139                  0                  0   \n",
       "\n",
       "     subject_id_hbv022  subject_id_hbv023  subject_id_hbv038  \\\n",
       "103                  0                  1                  0   \n",
       "221                  0                  0                  0   \n",
       "284                  0                  0                  0   \n",
       "355                  0                  0                  0   \n",
       "56                   0                  1                  0   \n",
       "\n",
       "     subject_id_hbv054  \n",
       "103                  0  \n",
       "221                  0  \n",
       "284                  1  \n",
       "355                  0  \n",
       "56                   0  \n",
       "\n",
       "[5 rows x 41 columns]"
      ]
     },
     "execution_count": 37,
     "metadata": {},
     "output_type": "execute_result"
    }
   ],
   "source": [
    "X_test.head()"
   ]
  },
  {
   "cell_type": "code",
   "execution_count": 38,
   "metadata": {},
   "outputs": [
    {
     "name": "stdout",
     "output_type": "stream",
     "text": [
      "(296, 41)\n",
      "(296,)\n",
      "(74, 41)\n",
      "(74,)\n"
     ]
    }
   ],
   "source": [
    "X_train_imputed = pd.DataFrame(imputer.fit_transform(X_train), columns = X_train.columns)\n",
    "print(X_train_imputed.shape)\n",
    "print(y_train.shape)\n",
    "X_test_imputed = pd.DataFrame(imputer.fit_transform(X_test), columns = X_test.columns)\n",
    "print(X_test_imputed.shape)\n",
    "print(y_test.shape)"
   ]
  },
  {
   "cell_type": "code",
   "execution_count": 60,
   "metadata": {
    "scrolled": true
   },
   "outputs": [
    {
     "name": "stdout",
     "output_type": "stream",
     "text": [
      "accuracy knn: 0.6351351351351351\n",
      "MSE KNN: 0.8783783783783784\n",
      "NULL KNN: 0.31811349761686375\n"
     ]
    }
   ],
   "source": [
    "knn = KNeighborsClassifier()\n",
    "\n",
    "knn_grid = {\n",
    "    'n_neighbors': np.arange(1,25),\n",
    "}\n",
    "\n",
    "knn_cv = GridSearchCV(knn, knn_grid, cv=5)\n",
    "knn_cv.fit(X_train_imputed, y_train)\n",
    "knn_cv.best_params_\n",
    "knn_cv.best_score_\n",
    "\n",
    "knn = KNeighborsClassifier(n_neighbors=knn_cv.best_params_['n_neighbors'])\n",
    "knn.fit(X_train_imputed, y_train)\n",
    "knn_pred = knn.predict(X_test_imputed)\n",
    "\n",
    "print(\"accuracy knn:\" , str(metrics.accuracy_score(y_test, knn_pred)))\n",
    "print(\"MSE KNN:\", str(metrics.mean_squared_error(y_test, knn_pred)))\n",
    "print(\"NULL KNN:\", str(metrics.mean_squared_error(y_test, null_test)))\n"
   ]
  },
  {
   "cell_type": "code",
   "execution_count": 61,
   "metadata": {},
   "outputs": [
    {
     "name": "stdout",
     "output_type": "stream",
     "text": [
      "[[37  4  2  0]\n",
      " [ 4  2  1  2]\n",
      " [ 5  3  8  1]\n",
      " [ 1  1  3  0]]\n",
      "              precision    recall  f1-score   support\n",
      "\n",
      "         0.0       0.79      0.86      0.82        43\n",
      "         1.0       0.20      0.22      0.21         9\n",
      "         2.0       0.57      0.47      0.52        17\n",
      "         3.0       0.00      0.00      0.00         5\n",
      "\n",
      "    accuracy                           0.64        74\n",
      "   macro avg       0.39      0.39      0.39        74\n",
      "weighted avg       0.61      0.64      0.62        74\n",
      "\n"
     ]
    }
   ],
   "source": [
    "print(metrics.confusion_matrix(y_test,knn_pred))\n",
    "print(metrics.classification_report(y_test, knn_pred))"
   ]
  },
  {
   "cell_type": "code",
   "execution_count": null,
   "metadata": {},
   "outputs": [],
   "source": [
    "classifier = RandomForestClassifier(random_state = 42)\n",
    "\n",
    "rf_grid = {\n",
    "    'n_estimators': np.arange(100,500,100),\n",
    "    'max_depth': np.arange(10,50,10),\n",
    "    'min_samples_leaf': np.arange(1,10),\n",
    "    'min_samples_split': np.arange(2,10,2),\n",
    "    'criterion':['gini', 'entropy']\n",
    "}\n",
    "\n",
    "rf_cv = GridSearchCV(classifier, rf_grid, cv=5)\n",
    "rf_cv.fit(X_train_imputed, y_train)\n",
    "rf_cv.best_params_\n",
    "rf_cv.best_score_"
   ]
  },
  {
   "cell_type": "code",
   "execution_count": null,
   "metadata": {
    "scrolled": true
   },
   "outputs": [],
   "source": [
    "classifier = RandomForestClassifier(n_estimators = rf_cv.best_params_['n_estimators'], \n",
    "                                    max_depth=rf_cv.best_params_['max_depth'],\n",
    "                                    min_samples_split=rf_cv.best_params_['min_samples_split'],\n",
    "                                    criterion = rf_cv.best_params_['criterion'], \n",
    "                                    random_state = 42,\n",
    "                                    min_samples_leaf=rf_cv.best_params_['min_samples_leaf'])\n",
    "classifier.fit(X_train_imputed, y_train)"
   ]
  },
  {
   "cell_type": "code",
   "execution_count": null,
   "metadata": {
    "scrolled": true
   },
   "outputs": [],
   "source": [
    "rf_pred = rf_cv.best_estimator_.predict(X_test_imputed)\n",
    "print(\"accuracy rf:\", str(metrics.accuracy_score(y_test, rf_pred)))\n",
    "print(\"MSE RF:\" , str(metrics.mean_squared_error(y_test,rf_pred)))\n",
    "print(\"NULL RF:\", str(metrics.mean_squared_error(y_test, null_test)))"
   ]
  },
  {
   "cell_type": "code",
   "execution_count": null,
   "metadata": {},
   "outputs": [],
   "source": [
    "print(metrics.confusion_matrix(y_test,rf_pred))\n",
    "print(metrics.classification_report(y_test, rf_pred))"
   ]
  },
  {
   "cell_type": "code",
   "execution_count": 39,
   "metadata": {},
   "outputs": [],
   "source": [
    "import xgboost as xgb"
   ]
  },
  {
   "cell_type": "code",
   "execution_count": 40,
   "metadata": {},
   "outputs": [
    {
     "ename": "KeyboardInterrupt",
     "evalue": "",
     "output_type": "error",
     "traceback": [
      "\u001b[1;31m---------------------------------------------------------------------------\u001b[0m",
      "\u001b[1;31mKeyboardInterrupt\u001b[0m                         Traceback (most recent call last)",
      "\u001b[1;32m<ipython-input-40-73235fe36775>\u001b[0m in \u001b[0;36m<module>\u001b[1;34m\u001b[0m\n\u001b[0;32m     10\u001b[0m \u001b[1;33m\u001b[0m\u001b[0m\n\u001b[0;32m     11\u001b[0m \u001b[0mxgb_cv\u001b[0m \u001b[1;33m=\u001b[0m \u001b[0mGridSearchCV\u001b[0m\u001b[1;33m(\u001b[0m\u001b[0mxgb_clf\u001b[0m\u001b[1;33m,\u001b[0m \u001b[0mxgb_grid\u001b[0m\u001b[1;33m,\u001b[0m \u001b[0mcv\u001b[0m\u001b[1;33m=\u001b[0m\u001b[1;36m5\u001b[0m\u001b[1;33m)\u001b[0m\u001b[1;33m\u001b[0m\u001b[1;33m\u001b[0m\u001b[0m\n\u001b[1;32m---> 12\u001b[1;33m \u001b[0mxgb_cv\u001b[0m\u001b[1;33m.\u001b[0m\u001b[0mfit\u001b[0m\u001b[1;33m(\u001b[0m\u001b[0mX_train_imputed\u001b[0m\u001b[1;33m,\u001b[0m \u001b[0my_train\u001b[0m\u001b[1;33m)\u001b[0m\u001b[1;33m\u001b[0m\u001b[1;33m\u001b[0m\u001b[0m\n\u001b[0m\u001b[0;32m     13\u001b[0m \u001b[0mxgb_cv\u001b[0m\u001b[1;33m.\u001b[0m\u001b[0mbest_params_\u001b[0m\u001b[1;33m\u001b[0m\u001b[1;33m\u001b[0m\u001b[0m\n",
      "\u001b[1;32m~\\Anaconda3\\lib\\site-packages\\sklearn\\model_selection\\_search.py\u001b[0m in \u001b[0;36mfit\u001b[1;34m(self, X, y, groups, **fit_params)\u001b[0m\n\u001b[0;32m    708\u001b[0m                 \u001b[1;32mreturn\u001b[0m \u001b[0mresults\u001b[0m\u001b[1;33m\u001b[0m\u001b[1;33m\u001b[0m\u001b[0m\n\u001b[0;32m    709\u001b[0m \u001b[1;33m\u001b[0m\u001b[0m\n\u001b[1;32m--> 710\u001b[1;33m             \u001b[0mself\u001b[0m\u001b[1;33m.\u001b[0m\u001b[0m_run_search\u001b[0m\u001b[1;33m(\u001b[0m\u001b[0mevaluate_candidates\u001b[0m\u001b[1;33m)\u001b[0m\u001b[1;33m\u001b[0m\u001b[1;33m\u001b[0m\u001b[0m\n\u001b[0m\u001b[0;32m    711\u001b[0m \u001b[1;33m\u001b[0m\u001b[0m\n\u001b[0;32m    712\u001b[0m         \u001b[1;31m# For multi-metric evaluation, store the best_index_, best_params_ and\u001b[0m\u001b[1;33m\u001b[0m\u001b[1;33m\u001b[0m\u001b[1;33m\u001b[0m\u001b[0m\n",
      "\u001b[1;32m~\\Anaconda3\\lib\\site-packages\\sklearn\\model_selection\\_search.py\u001b[0m in \u001b[0;36m_run_search\u001b[1;34m(self, evaluate_candidates)\u001b[0m\n\u001b[0;32m   1149\u001b[0m     \u001b[1;32mdef\u001b[0m \u001b[0m_run_search\u001b[0m\u001b[1;33m(\u001b[0m\u001b[0mself\u001b[0m\u001b[1;33m,\u001b[0m \u001b[0mevaluate_candidates\u001b[0m\u001b[1;33m)\u001b[0m\u001b[1;33m:\u001b[0m\u001b[1;33m\u001b[0m\u001b[1;33m\u001b[0m\u001b[0m\n\u001b[0;32m   1150\u001b[0m         \u001b[1;34m\"\"\"Search all candidates in param_grid\"\"\"\u001b[0m\u001b[1;33m\u001b[0m\u001b[1;33m\u001b[0m\u001b[0m\n\u001b[1;32m-> 1151\u001b[1;33m         \u001b[0mevaluate_candidates\u001b[0m\u001b[1;33m(\u001b[0m\u001b[0mParameterGrid\u001b[0m\u001b[1;33m(\u001b[0m\u001b[0mself\u001b[0m\u001b[1;33m.\u001b[0m\u001b[0mparam_grid\u001b[0m\u001b[1;33m)\u001b[0m\u001b[1;33m)\u001b[0m\u001b[1;33m\u001b[0m\u001b[1;33m\u001b[0m\u001b[0m\n\u001b[0m\u001b[0;32m   1152\u001b[0m \u001b[1;33m\u001b[0m\u001b[0m\n\u001b[0;32m   1153\u001b[0m \u001b[1;33m\u001b[0m\u001b[0m\n",
      "\u001b[1;32m~\\Anaconda3\\lib\\site-packages\\sklearn\\model_selection\\_search.py\u001b[0m in \u001b[0;36mevaluate_candidates\u001b[1;34m(candidate_params)\u001b[0m\n\u001b[0;32m    687\u001b[0m                                \u001b[1;32mfor\u001b[0m \u001b[0mparameters\u001b[0m\u001b[1;33m,\u001b[0m \u001b[1;33m(\u001b[0m\u001b[0mtrain\u001b[0m\u001b[1;33m,\u001b[0m \u001b[0mtest\u001b[0m\u001b[1;33m)\u001b[0m\u001b[1;33m\u001b[0m\u001b[1;33m\u001b[0m\u001b[0m\n\u001b[0;32m    688\u001b[0m                                in product(candidate_params,\n\u001b[1;32m--> 689\u001b[1;33m                                           cv.split(X, y, groups)))\n\u001b[0m\u001b[0;32m    690\u001b[0m \u001b[1;33m\u001b[0m\u001b[0m\n\u001b[0;32m    691\u001b[0m                 \u001b[1;32mif\u001b[0m \u001b[0mlen\u001b[0m\u001b[1;33m(\u001b[0m\u001b[0mout\u001b[0m\u001b[1;33m)\u001b[0m \u001b[1;33m<\u001b[0m \u001b[1;36m1\u001b[0m\u001b[1;33m:\u001b[0m\u001b[1;33m\u001b[0m\u001b[1;33m\u001b[0m\u001b[0m\n",
      "\u001b[1;32m~\\Anaconda3\\lib\\site-packages\\joblib\\parallel.py\u001b[0m in \u001b[0;36m__call__\u001b[1;34m(self, iterable)\u001b[0m\n\u001b[0;32m   1004\u001b[0m                 \u001b[0mself\u001b[0m\u001b[1;33m.\u001b[0m\u001b[0m_iterating\u001b[0m \u001b[1;33m=\u001b[0m \u001b[0mself\u001b[0m\u001b[1;33m.\u001b[0m\u001b[0m_original_iterator\u001b[0m \u001b[1;32mis\u001b[0m \u001b[1;32mnot\u001b[0m \u001b[1;32mNone\u001b[0m\u001b[1;33m\u001b[0m\u001b[1;33m\u001b[0m\u001b[0m\n\u001b[0;32m   1005\u001b[0m \u001b[1;33m\u001b[0m\u001b[0m\n\u001b[1;32m-> 1006\u001b[1;33m             \u001b[1;32mwhile\u001b[0m \u001b[0mself\u001b[0m\u001b[1;33m.\u001b[0m\u001b[0mdispatch_one_batch\u001b[0m\u001b[1;33m(\u001b[0m\u001b[0miterator\u001b[0m\u001b[1;33m)\u001b[0m\u001b[1;33m:\u001b[0m\u001b[1;33m\u001b[0m\u001b[1;33m\u001b[0m\u001b[0m\n\u001b[0m\u001b[0;32m   1007\u001b[0m                 \u001b[1;32mpass\u001b[0m\u001b[1;33m\u001b[0m\u001b[1;33m\u001b[0m\u001b[0m\n\u001b[0;32m   1008\u001b[0m \u001b[1;33m\u001b[0m\u001b[0m\n",
      "\u001b[1;32m~\\Anaconda3\\lib\\site-packages\\joblib\\parallel.py\u001b[0m in \u001b[0;36mdispatch_one_batch\u001b[1;34m(self, iterator)\u001b[0m\n\u001b[0;32m    832\u001b[0m                 \u001b[1;32mreturn\u001b[0m \u001b[1;32mFalse\u001b[0m\u001b[1;33m\u001b[0m\u001b[1;33m\u001b[0m\u001b[0m\n\u001b[0;32m    833\u001b[0m             \u001b[1;32melse\u001b[0m\u001b[1;33m:\u001b[0m\u001b[1;33m\u001b[0m\u001b[1;33m\u001b[0m\u001b[0m\n\u001b[1;32m--> 834\u001b[1;33m                 \u001b[0mself\u001b[0m\u001b[1;33m.\u001b[0m\u001b[0m_dispatch\u001b[0m\u001b[1;33m(\u001b[0m\u001b[0mtasks\u001b[0m\u001b[1;33m)\u001b[0m\u001b[1;33m\u001b[0m\u001b[1;33m\u001b[0m\u001b[0m\n\u001b[0m\u001b[0;32m    835\u001b[0m                 \u001b[1;32mreturn\u001b[0m \u001b[1;32mTrue\u001b[0m\u001b[1;33m\u001b[0m\u001b[1;33m\u001b[0m\u001b[0m\n\u001b[0;32m    836\u001b[0m \u001b[1;33m\u001b[0m\u001b[0m\n",
      "\u001b[1;32m~\\Anaconda3\\lib\\site-packages\\joblib\\parallel.py\u001b[0m in \u001b[0;36m_dispatch\u001b[1;34m(self, batch)\u001b[0m\n\u001b[0;32m    751\u001b[0m         \u001b[1;32mwith\u001b[0m \u001b[0mself\u001b[0m\u001b[1;33m.\u001b[0m\u001b[0m_lock\u001b[0m\u001b[1;33m:\u001b[0m\u001b[1;33m\u001b[0m\u001b[1;33m\u001b[0m\u001b[0m\n\u001b[0;32m    752\u001b[0m             \u001b[0mjob_idx\u001b[0m \u001b[1;33m=\u001b[0m \u001b[0mlen\u001b[0m\u001b[1;33m(\u001b[0m\u001b[0mself\u001b[0m\u001b[1;33m.\u001b[0m\u001b[0m_jobs\u001b[0m\u001b[1;33m)\u001b[0m\u001b[1;33m\u001b[0m\u001b[1;33m\u001b[0m\u001b[0m\n\u001b[1;32m--> 753\u001b[1;33m             \u001b[0mjob\u001b[0m \u001b[1;33m=\u001b[0m \u001b[0mself\u001b[0m\u001b[1;33m.\u001b[0m\u001b[0m_backend\u001b[0m\u001b[1;33m.\u001b[0m\u001b[0mapply_async\u001b[0m\u001b[1;33m(\u001b[0m\u001b[0mbatch\u001b[0m\u001b[1;33m,\u001b[0m \u001b[0mcallback\u001b[0m\u001b[1;33m=\u001b[0m\u001b[0mcb\u001b[0m\u001b[1;33m)\u001b[0m\u001b[1;33m\u001b[0m\u001b[1;33m\u001b[0m\u001b[0m\n\u001b[0m\u001b[0;32m    754\u001b[0m             \u001b[1;31m# A job can complete so quickly than its callback is\u001b[0m\u001b[1;33m\u001b[0m\u001b[1;33m\u001b[0m\u001b[1;33m\u001b[0m\u001b[0m\n\u001b[0;32m    755\u001b[0m             \u001b[1;31m# called before we get here, causing self._jobs to\u001b[0m\u001b[1;33m\u001b[0m\u001b[1;33m\u001b[0m\u001b[1;33m\u001b[0m\u001b[0m\n",
      "\u001b[1;32m~\\Anaconda3\\lib\\site-packages\\joblib\\_parallel_backends.py\u001b[0m in \u001b[0;36mapply_async\u001b[1;34m(self, func, callback)\u001b[0m\n\u001b[0;32m    199\u001b[0m     \u001b[1;32mdef\u001b[0m \u001b[0mapply_async\u001b[0m\u001b[1;33m(\u001b[0m\u001b[0mself\u001b[0m\u001b[1;33m,\u001b[0m \u001b[0mfunc\u001b[0m\u001b[1;33m,\u001b[0m \u001b[0mcallback\u001b[0m\u001b[1;33m=\u001b[0m\u001b[1;32mNone\u001b[0m\u001b[1;33m)\u001b[0m\u001b[1;33m:\u001b[0m\u001b[1;33m\u001b[0m\u001b[1;33m\u001b[0m\u001b[0m\n\u001b[0;32m    200\u001b[0m         \u001b[1;34m\"\"\"Schedule a func to be run\"\"\"\u001b[0m\u001b[1;33m\u001b[0m\u001b[1;33m\u001b[0m\u001b[0m\n\u001b[1;32m--> 201\u001b[1;33m         \u001b[0mresult\u001b[0m \u001b[1;33m=\u001b[0m \u001b[0mImmediateResult\u001b[0m\u001b[1;33m(\u001b[0m\u001b[0mfunc\u001b[0m\u001b[1;33m)\u001b[0m\u001b[1;33m\u001b[0m\u001b[1;33m\u001b[0m\u001b[0m\n\u001b[0m\u001b[0;32m    202\u001b[0m         \u001b[1;32mif\u001b[0m \u001b[0mcallback\u001b[0m\u001b[1;33m:\u001b[0m\u001b[1;33m\u001b[0m\u001b[1;33m\u001b[0m\u001b[0m\n\u001b[0;32m    203\u001b[0m             \u001b[0mcallback\u001b[0m\u001b[1;33m(\u001b[0m\u001b[0mresult\u001b[0m\u001b[1;33m)\u001b[0m\u001b[1;33m\u001b[0m\u001b[1;33m\u001b[0m\u001b[0m\n",
      "\u001b[1;32m~\\Anaconda3\\lib\\site-packages\\joblib\\_parallel_backends.py\u001b[0m in \u001b[0;36m__init__\u001b[1;34m(self, batch)\u001b[0m\n\u001b[0;32m    580\u001b[0m         \u001b[1;31m# Don't delay the application, to avoid keeping the input\u001b[0m\u001b[1;33m\u001b[0m\u001b[1;33m\u001b[0m\u001b[1;33m\u001b[0m\u001b[0m\n\u001b[0;32m    581\u001b[0m         \u001b[1;31m# arguments in memory\u001b[0m\u001b[1;33m\u001b[0m\u001b[1;33m\u001b[0m\u001b[1;33m\u001b[0m\u001b[0m\n\u001b[1;32m--> 582\u001b[1;33m         \u001b[0mself\u001b[0m\u001b[1;33m.\u001b[0m\u001b[0mresults\u001b[0m \u001b[1;33m=\u001b[0m \u001b[0mbatch\u001b[0m\u001b[1;33m(\u001b[0m\u001b[1;33m)\u001b[0m\u001b[1;33m\u001b[0m\u001b[1;33m\u001b[0m\u001b[0m\n\u001b[0m\u001b[0;32m    583\u001b[0m \u001b[1;33m\u001b[0m\u001b[0m\n\u001b[0;32m    584\u001b[0m     \u001b[1;32mdef\u001b[0m \u001b[0mget\u001b[0m\u001b[1;33m(\u001b[0m\u001b[0mself\u001b[0m\u001b[1;33m)\u001b[0m\u001b[1;33m:\u001b[0m\u001b[1;33m\u001b[0m\u001b[1;33m\u001b[0m\u001b[0m\n",
      "\u001b[1;32m~\\Anaconda3\\lib\\site-packages\\joblib\\parallel.py\u001b[0m in \u001b[0;36m__call__\u001b[1;34m(self)\u001b[0m\n\u001b[0;32m    254\u001b[0m         \u001b[1;32mwith\u001b[0m \u001b[0mparallel_backend\u001b[0m\u001b[1;33m(\u001b[0m\u001b[0mself\u001b[0m\u001b[1;33m.\u001b[0m\u001b[0m_backend\u001b[0m\u001b[1;33m,\u001b[0m \u001b[0mn_jobs\u001b[0m\u001b[1;33m=\u001b[0m\u001b[0mself\u001b[0m\u001b[1;33m.\u001b[0m\u001b[0m_n_jobs\u001b[0m\u001b[1;33m)\u001b[0m\u001b[1;33m:\u001b[0m\u001b[1;33m\u001b[0m\u001b[1;33m\u001b[0m\u001b[0m\n\u001b[0;32m    255\u001b[0m             return [func(*args, **kwargs)\n\u001b[1;32m--> 256\u001b[1;33m                     for func, args, kwargs in self.items]\n\u001b[0m\u001b[0;32m    257\u001b[0m \u001b[1;33m\u001b[0m\u001b[0m\n\u001b[0;32m    258\u001b[0m     \u001b[1;32mdef\u001b[0m \u001b[0m__len__\u001b[0m\u001b[1;33m(\u001b[0m\u001b[0mself\u001b[0m\u001b[1;33m)\u001b[0m\u001b[1;33m:\u001b[0m\u001b[1;33m\u001b[0m\u001b[1;33m\u001b[0m\u001b[0m\n",
      "\u001b[1;32m~\\Anaconda3\\lib\\site-packages\\joblib\\parallel.py\u001b[0m in \u001b[0;36m<listcomp>\u001b[1;34m(.0)\u001b[0m\n\u001b[0;32m    254\u001b[0m         \u001b[1;32mwith\u001b[0m \u001b[0mparallel_backend\u001b[0m\u001b[1;33m(\u001b[0m\u001b[0mself\u001b[0m\u001b[1;33m.\u001b[0m\u001b[0m_backend\u001b[0m\u001b[1;33m,\u001b[0m \u001b[0mn_jobs\u001b[0m\u001b[1;33m=\u001b[0m\u001b[0mself\u001b[0m\u001b[1;33m.\u001b[0m\u001b[0m_n_jobs\u001b[0m\u001b[1;33m)\u001b[0m\u001b[1;33m:\u001b[0m\u001b[1;33m\u001b[0m\u001b[1;33m\u001b[0m\u001b[0m\n\u001b[0;32m    255\u001b[0m             return [func(*args, **kwargs)\n\u001b[1;32m--> 256\u001b[1;33m                     for func, args, kwargs in self.items]\n\u001b[0m\u001b[0;32m    257\u001b[0m \u001b[1;33m\u001b[0m\u001b[0m\n\u001b[0;32m    258\u001b[0m     \u001b[1;32mdef\u001b[0m \u001b[0m__len__\u001b[0m\u001b[1;33m(\u001b[0m\u001b[0mself\u001b[0m\u001b[1;33m)\u001b[0m\u001b[1;33m:\u001b[0m\u001b[1;33m\u001b[0m\u001b[1;33m\u001b[0m\u001b[0m\n",
      "\u001b[1;32m~\\Anaconda3\\lib\\site-packages\\sklearn\\model_selection\\_validation.py\u001b[0m in \u001b[0;36m_fit_and_score\u001b[1;34m(estimator, X, y, scorer, train, test, verbose, parameters, fit_params, return_train_score, return_parameters, return_n_test_samples, return_times, return_estimator, error_score)\u001b[0m\n\u001b[0;32m    513\u001b[0m             \u001b[0mestimator\u001b[0m\u001b[1;33m.\u001b[0m\u001b[0mfit\u001b[0m\u001b[1;33m(\u001b[0m\u001b[0mX_train\u001b[0m\u001b[1;33m,\u001b[0m \u001b[1;33m**\u001b[0m\u001b[0mfit_params\u001b[0m\u001b[1;33m)\u001b[0m\u001b[1;33m\u001b[0m\u001b[1;33m\u001b[0m\u001b[0m\n\u001b[0;32m    514\u001b[0m         \u001b[1;32melse\u001b[0m\u001b[1;33m:\u001b[0m\u001b[1;33m\u001b[0m\u001b[1;33m\u001b[0m\u001b[0m\n\u001b[1;32m--> 515\u001b[1;33m             \u001b[0mestimator\u001b[0m\u001b[1;33m.\u001b[0m\u001b[0mfit\u001b[0m\u001b[1;33m(\u001b[0m\u001b[0mX_train\u001b[0m\u001b[1;33m,\u001b[0m \u001b[0my_train\u001b[0m\u001b[1;33m,\u001b[0m \u001b[1;33m**\u001b[0m\u001b[0mfit_params\u001b[0m\u001b[1;33m)\u001b[0m\u001b[1;33m\u001b[0m\u001b[1;33m\u001b[0m\u001b[0m\n\u001b[0m\u001b[0;32m    516\u001b[0m \u001b[1;33m\u001b[0m\u001b[0m\n\u001b[0;32m    517\u001b[0m     \u001b[1;32mexcept\u001b[0m \u001b[0mException\u001b[0m \u001b[1;32mas\u001b[0m \u001b[0me\u001b[0m\u001b[1;33m:\u001b[0m\u001b[1;33m\u001b[0m\u001b[1;33m\u001b[0m\u001b[0m\n",
      "\u001b[1;32m~\\Anaconda3\\lib\\site-packages\\xgboost\\sklearn.py\u001b[0m in \u001b[0;36mfit\u001b[1;34m(self, X, y, sample_weight, eval_set, eval_metric, early_stopping_rounds, verbose, xgb_model, sample_weight_eval_set, callbacks)\u001b[0m\n\u001b[0;32m    730\u001b[0m                               \u001b[0mevals_result\u001b[0m\u001b[1;33m=\u001b[0m\u001b[0mevals_result\u001b[0m\u001b[1;33m,\u001b[0m \u001b[0mobj\u001b[0m\u001b[1;33m=\u001b[0m\u001b[0mobj\u001b[0m\u001b[1;33m,\u001b[0m \u001b[0mfeval\u001b[0m\u001b[1;33m=\u001b[0m\u001b[0mfeval\u001b[0m\u001b[1;33m,\u001b[0m\u001b[1;33m\u001b[0m\u001b[1;33m\u001b[0m\u001b[0m\n\u001b[0;32m    731\u001b[0m                               \u001b[0mverbose_eval\u001b[0m\u001b[1;33m=\u001b[0m\u001b[0mverbose\u001b[0m\u001b[1;33m,\u001b[0m \u001b[0mxgb_model\u001b[0m\u001b[1;33m=\u001b[0m\u001b[0mxgb_model\u001b[0m\u001b[1;33m,\u001b[0m\u001b[1;33m\u001b[0m\u001b[1;33m\u001b[0m\u001b[0m\n\u001b[1;32m--> 732\u001b[1;33m                               callbacks=callbacks)\n\u001b[0m\u001b[0;32m    733\u001b[0m \u001b[1;33m\u001b[0m\u001b[0m\n\u001b[0;32m    734\u001b[0m         \u001b[0mself\u001b[0m\u001b[1;33m.\u001b[0m\u001b[0mobjective\u001b[0m \u001b[1;33m=\u001b[0m \u001b[0mxgb_options\u001b[0m\u001b[1;33m[\u001b[0m\u001b[1;34m\"objective\"\u001b[0m\u001b[1;33m]\u001b[0m\u001b[1;33m\u001b[0m\u001b[1;33m\u001b[0m\u001b[0m\n",
      "\u001b[1;32m~\\Anaconda3\\lib\\site-packages\\xgboost\\training.py\u001b[0m in \u001b[0;36mtrain\u001b[1;34m(params, dtrain, num_boost_round, evals, obj, feval, maximize, early_stopping_rounds, evals_result, verbose_eval, xgb_model, callbacks, learning_rates)\u001b[0m\n\u001b[0;32m    214\u001b[0m                            \u001b[0mevals\u001b[0m\u001b[1;33m=\u001b[0m\u001b[0mevals\u001b[0m\u001b[1;33m,\u001b[0m\u001b[1;33m\u001b[0m\u001b[1;33m\u001b[0m\u001b[0m\n\u001b[0;32m    215\u001b[0m                            \u001b[0mobj\u001b[0m\u001b[1;33m=\u001b[0m\u001b[0mobj\u001b[0m\u001b[1;33m,\u001b[0m \u001b[0mfeval\u001b[0m\u001b[1;33m=\u001b[0m\u001b[0mfeval\u001b[0m\u001b[1;33m,\u001b[0m\u001b[1;33m\u001b[0m\u001b[1;33m\u001b[0m\u001b[0m\n\u001b[1;32m--> 216\u001b[1;33m                            xgb_model=xgb_model, callbacks=callbacks)\n\u001b[0m\u001b[0;32m    217\u001b[0m \u001b[1;33m\u001b[0m\u001b[0m\n\u001b[0;32m    218\u001b[0m \u001b[1;33m\u001b[0m\u001b[0m\n",
      "\u001b[1;32m~\\Anaconda3\\lib\\site-packages\\xgboost\\training.py\u001b[0m in \u001b[0;36m_train_internal\u001b[1;34m(params, dtrain, num_boost_round, evals, obj, feval, xgb_model, callbacks)\u001b[0m\n\u001b[0;32m     72\u001b[0m         \u001b[1;31m# Skip the first update if it is a recovery step.\u001b[0m\u001b[1;33m\u001b[0m\u001b[1;33m\u001b[0m\u001b[1;33m\u001b[0m\u001b[0m\n\u001b[0;32m     73\u001b[0m         \u001b[1;32mif\u001b[0m \u001b[0mversion\u001b[0m \u001b[1;33m%\u001b[0m \u001b[1;36m2\u001b[0m \u001b[1;33m==\u001b[0m \u001b[1;36m0\u001b[0m\u001b[1;33m:\u001b[0m\u001b[1;33m\u001b[0m\u001b[1;33m\u001b[0m\u001b[0m\n\u001b[1;32m---> 74\u001b[1;33m             \u001b[0mbst\u001b[0m\u001b[1;33m.\u001b[0m\u001b[0mupdate\u001b[0m\u001b[1;33m(\u001b[0m\u001b[0mdtrain\u001b[0m\u001b[1;33m,\u001b[0m \u001b[0mi\u001b[0m\u001b[1;33m,\u001b[0m \u001b[0mobj\u001b[0m\u001b[1;33m)\u001b[0m\u001b[1;33m\u001b[0m\u001b[1;33m\u001b[0m\u001b[0m\n\u001b[0m\u001b[0;32m     75\u001b[0m             \u001b[0mbst\u001b[0m\u001b[1;33m.\u001b[0m\u001b[0msave_rabit_checkpoint\u001b[0m\u001b[1;33m(\u001b[0m\u001b[1;33m)\u001b[0m\u001b[1;33m\u001b[0m\u001b[1;33m\u001b[0m\u001b[0m\n\u001b[0;32m     76\u001b[0m             \u001b[0mversion\u001b[0m \u001b[1;33m+=\u001b[0m \u001b[1;36m1\u001b[0m\u001b[1;33m\u001b[0m\u001b[1;33m\u001b[0m\u001b[0m\n",
      "\u001b[1;32m~\\Anaconda3\\lib\\site-packages\\xgboost\\core.py\u001b[0m in \u001b[0;36mupdate\u001b[1;34m(self, dtrain, iteration, fobj)\u001b[0m\n\u001b[0;32m   1107\u001b[0m         \u001b[1;32mif\u001b[0m \u001b[0mfobj\u001b[0m \u001b[1;32mis\u001b[0m \u001b[1;32mNone\u001b[0m\u001b[1;33m:\u001b[0m\u001b[1;33m\u001b[0m\u001b[1;33m\u001b[0m\u001b[0m\n\u001b[0;32m   1108\u001b[0m             _check_call(_LIB.XGBoosterUpdateOneIter(self.handle, ctypes.c_int(iteration),\n\u001b[1;32m-> 1109\u001b[1;33m                                                     dtrain.handle))\n\u001b[0m\u001b[0;32m   1110\u001b[0m         \u001b[1;32melse\u001b[0m\u001b[1;33m:\u001b[0m\u001b[1;33m\u001b[0m\u001b[1;33m\u001b[0m\u001b[0m\n\u001b[0;32m   1111\u001b[0m             \u001b[0mpred\u001b[0m \u001b[1;33m=\u001b[0m \u001b[0mself\u001b[0m\u001b[1;33m.\u001b[0m\u001b[0mpredict\u001b[0m\u001b[1;33m(\u001b[0m\u001b[0mdtrain\u001b[0m\u001b[1;33m)\u001b[0m\u001b[1;33m\u001b[0m\u001b[1;33m\u001b[0m\u001b[0m\n",
      "\u001b[1;31mKeyboardInterrupt\u001b[0m: "
     ]
    }
   ],
   "source": [
    "xgb_clf = xgb.XGBClassifier(random_state = 42, objective = 'multi:softmax', num_class = 4)\n",
    "\n",
    "xgb_grid = {\n",
    "    'max_depth': np.arange(3,7),\n",
    "    'learning_rate': [0.2, 0.3, 0.4, 0.5],\n",
    "    'subsample': [0.25, 0.5, 0.75, 1],\n",
    "    'min_child_weight': np.arange(0,5),\n",
    "    'min_split_loss': np.arange(0,5)\n",
    "}\n",
    "\n",
    "xgb_cv = GridSearchCV(xgb_clf, xgb_grid, cv=5)\n",
    "xgb_cv.fit(X_train_imputed, y_train)\n",
    "xgb_cv.best_params_\n"
   ]
  },
  {
   "cell_type": "code",
   "execution_count": null,
   "metadata": {},
   "outputs": [],
   "source": [
    "xgb_pred = xgb_cv.best_estimator_.predict(X_test_imputed)"
   ]
  },
  {
   "cell_type": "code",
   "execution_count": null,
   "metadata": {},
   "outputs": [],
   "source": [
    "\n",
    "print(\"accuracy xgb:\", str(metrics.accuracy_score(y_test, xgb_pred)))\n",
    "print(\"MSE XGB:\" , str(metrics.mean_squared_error(y_test,xgb_pred)))\n",
    "print(\"NULL XGB:\", str(metrics.mean_squared_error(y_test, null_test)))\n",
    "print(metrics.confusion_matrix(y_test,xgb_pred))\n",
    "print(metrics.classification_report(y_test,xgb_pred))"
   ]
  },
  {
   "cell_type": "code",
   "execution_count": 41,
   "metadata": {},
   "outputs": [
    {
     "name": "stderr",
     "output_type": "stream",
     "text": [
      "C:\\Users\\lisbe\\Anaconda3\\lib\\site-packages\\xgboost\\core.py:587: FutureWarning: Series.base is deprecated and will be removed in a future version\n",
      "  if getattr(data, 'base', None) is not None and \\\n",
      "C:\\Users\\lisbe\\Anaconda3\\lib\\site-packages\\xgboost\\core.py:588: FutureWarning: Series.base is deprecated and will be removed in a future version\n",
      "  data.base is not None and isinstance(data, np.ndarray) \\\n"
     ]
    }
   ],
   "source": [
    "dtrain=xgb.DMatrix(data=X_train_imputed, label=y_train)\n",
    "dtest = xgb.DMatrix(data=X_test_imputed, label=y_test)"
   ]
  },
  {
   "cell_type": "code",
   "execution_count": 42,
   "metadata": {},
   "outputs": [],
   "source": [
    "param = {'objective': 'multi:softmax',\n",
    "         'num_class': 4,\n",
    "          'max_depth': 4\n",
    "        }\n",
    "bst = xgb.train(param, dtrain)\n",
    "xgb_pred = bst.predict(dtest)"
   ]
  },
  {
   "cell_type": "code",
   "execution_count": 43,
   "metadata": {},
   "outputs": [
    {
     "data": {
      "text/plain": [
       "<matplotlib.axes._subplots.AxesSubplot at 0x22fc3fb9d68>"
      ]
     },
     "execution_count": 43,
     "metadata": {},
     "output_type": "execute_result"
    },
    {
     "data": {
      "image/png": "[encoded data removed]",
      "text/plain": [
       "<Figure size 432x288 with 1 Axes>"
      ]
     },
     "metadata": {
      "needs_background": "light"
     },
     "output_type": "display_data"
    }
   ],
   "source": [
    "xgb.plot_importance(bst)\n"
   ]
  },
  {
   "cell_type": "code",
   "execution_count": 44,
   "metadata": {},
   "outputs": [
    {
     "name": "stdout",
     "output_type": "stream",
     "text": [
      "accuracy xgb: 0.7972972972972973\n",
      "MSE XGB: 0.44594594594594594\n",
      "NULL XGB: 0.31811349761686375\n"
     ]
    }
   ],
   "source": [
    "\n",
    "print(\"accuracy xgb:\", str(metrics.accuracy_score(y_test, xgb_pred)))\n",
    "print(\"MSE XGB:\" , str(metrics.mean_squared_error(y_test,xgb_pred)))\n",
    "print(\"NULL XGB:\", str(metrics.mean_squared_error(y_test, null_test)))\n"
   ]
  },
  {
   "cell_type": "code",
   "execution_count": 45,
   "metadata": {},
   "outputs": [
    {
     "name": "stdout",
     "output_type": "stream",
     "text": [
      "[[43  0  0  0]\n",
      " [ 5  1  1  2]\n",
      " [ 3  0 13  1]\n",
      " [ 0  1  2  2]]\n",
      "              precision    recall  f1-score   support\n",
      "\n",
      "         0.0       0.84      1.00      0.91        43\n",
      "         1.0       0.50      0.11      0.18         9\n",
      "         2.0       0.81      0.76      0.79        17\n",
      "         3.0       0.40      0.40      0.40         5\n",
      "\n",
      "    accuracy                           0.80        74\n",
      "   macro avg       0.64      0.57      0.57        74\n",
      "weighted avg       0.76      0.80      0.76        74\n",
      "\n"
     ]
    }
   ],
   "source": [
    "print(metrics.confusion_matrix(y_test,xgb_pred))\n",
    "print(metrics.classification_report(y_test,xgb_pred))"
   ]
  },
  {
   "cell_type": "code",
   "execution_count": 51,
   "metadata": {},
   "outputs": [],
   "source": [
    "param = {'objective': 'reg:squarederror',\n",
    "          'max_depth': 4\n",
    "        }\n",
    "bst = xgb.train(param, dtrain)\n",
    "xgb_pred = bst.predict(dtest)"
   ]
  },
  {
   "cell_type": "code",
   "execution_count": 52,
   "metadata": {},
   "outputs": [
    {
     "name": "stdout",
     "output_type": "stream",
     "text": [
      "MSE XGB: 0.34280410324184435\n",
      "NULL XGB: 0.31811349761686375\n"
     ]
    }
   ],
   "source": [
    "print(\"MSE XGB:\" , str(metrics.mean_squared_error(y_test,xgb_pred)))\n",
    "print(\"NULL XGB:\", str(metrics.mean_squared_error(y_test, null_test)))"
   ]
  },
  {
   "cell_type": "code",
   "execution_count": 53,
   "metadata": {},
   "outputs": [],
   "source": [
    "xgb_pred=np.round(xgb_pred)"
   ]
  },
  {
   "cell_type": "code",
   "execution_count": 54,
   "metadata": {},
   "outputs": [
    {
     "name": "stdout",
     "output_type": "stream",
     "text": [
      "accuracy xgb: 0.7297297297297297\n",
      "MSE XGB: 0.35135135135135137\n",
      "NULL XGB: 0.31811349761686375\n"
     ]
    }
   ],
   "source": [
    "print(\"accuracy xgb:\", str(metrics.accuracy_score(y_test, xgb_pred)))\n",
    "print(\"MSE XGB:\" , str(metrics.mean_squared_error(y_test,xgb_pred)))\n",
    "print(\"NULL XGB:\", str(metrics.mean_squared_error(y_test, null_test)))"
   ]
  },
  {
   "cell_type": "markdown",
   "metadata": {},
   "source": [
    "### Testing"
   ]
  },
  {
   "cell_type": "code",
   "execution_count": null,
   "metadata": {
    "scrolled": false
   },
   "outputs": [],
   "source": [
    "test_subjects = pd.read_csv('testing_data\\REAL-PD_Test_Data_IDs.csv')\n",
    "test_subjects.head()"
   ]
  },
  {
   "cell_type": "code",
   "execution_count": null,
   "metadata": {},
   "outputs": [],
   "source": [
    "test_subjects.subject_id.unique()==labels.subject_id.unique()"
   ]
  },
  {
   "cell_type": "code",
   "execution_count": null,
   "metadata": {},
   "outputs": [],
   "source": [
    "\n",
    "#pd.read_csv(f) for f in all_filenames \n",
    "\n",
    "mycsvdir = 'testing_data\\REAL_testing\\smartphone_accelerometer'\n",
    "\n",
    "csvfiles = glob.glob(os.path.join(mycsvdir, '*.csv'))\n",
    "\n",
    "Means_sa=[]\n",
    "for csvfile in csvfiles:\n",
    "    df = pd.read_csv(csvfile)\n",
    "    \n",
    "    #Relevant features \n",
    "    measurement_id = os.path.basename(csvfile)\n",
    "    measurement_id = measurement_id.replace(\".csv\",\"\")\n",
    "    \n",
    "    df[\"r\"] = np.sqrt(df.x**2+df.y**2+df.z**2)\n",
    "    dr = np.sqrt(np.diff(df.x)**2+np.diff(df.y)**2+np.diff(df.z)**2)\n",
    "    mean_r = np.median(df.r)\n",
    "    std_r = np.std(df.r)\n",
    "    min_r = np.min(df.r)\n",
    "    max_r = np.max(df.r)\n",
    "    skew_r = skew(df.r)\n",
    "    kurtosis_r = kurtosis(df.r)\n",
    "    \n",
    "    mean_dr = np.median(dr)\n",
    "    std_dr = np.std(dr)\n",
    "    min_dr = np.min(dr)\n",
    "    max_dr = np.max(dr)\n",
    "    skew_dr = skew(dr)\n",
    "    kurtosis_dr = kurtosis(dr)\n",
    "    \n",
    "    \"\"\"Extract frequency bands in Hz\"\"\"\n",
    "    FreqBandx = sig.lfilter(Filter[0],Filter[1],df[\"x\"]);\n",
    "    FreqBandy = sig.lfilter(Filter[0],Filter[1],df[\"y\"]);\n",
    "    FreqBandz = sig.lfilter(Filter[0],Filter[1],df[\"z\"]);\n",
    "    \n",
    "    \"\"\"Find the power in each frequency Band\"\"\"\n",
    "    PowerFreqBandx = np.abs(FreqBandx)**2;\n",
    "    PowerFreqBandy = np.abs(FreqBandy)**2;\n",
    "    PowerFreqBandz = np.abs(FreqBandz)**2;\n",
    "    \n",
    "    \"\"\"Sum the power in each frequency band\"\"\"\n",
    "    SumPowerFreqBandx = np.sum(PowerFreqBandx);\n",
    "    SumPowerFreqBandy = np.sum(PowerFreqBandy);\n",
    "    SumPowerFreqBandz = np.sum(PowerFreqBandz);\n",
    "    \n",
    "    \"\"\"Sum the total signal power\"\"\"\n",
    "    Powerx = np.sum(df[\"x\"]**2);\n",
    "    Powery = np.sum(df[\"y\"]**2);\n",
    "    Powerz = np.sum(df[\"z\"]**2);\n",
    "    \n",
    "    \"\"\"Find the percentage of power in frequencies of interest\"\"\"\n",
    "    FreqPower = np.sqrt((SumPowerFreqBandx+SumPowerFreqBandy+SumPowerFreqBandz)/(Powerx+Powery+Powerz));\n",
    "    \n",
    "    Means_sa.append([measurement_id, mean_r, std_r, min_r, max_r, skew_r, kurtosis_r, \n",
    "                     mean_dr,std_dr, min_dr, max_dr, skew_dr, kurtosis_dr,FreqPower])\n",
    "\n",
    "   "
   ]
  },
  {
   "cell_type": "code",
   "execution_count": null,
   "metadata": {},
   "outputs": [],
   "source": [
    "accel_phones_test= pd.DataFrame(Means_sa, columns=[\"measurement_id\", \"mean_r_sa\", \"std_r_sa\", \n",
    "                                              \"min_r_sa\", \"max_r_sa\", \"skew_r_sa\", \"kurtosis_r_sa\",\n",
    "                                              \"mean_dr_sa\", \"std_dr_sa\", \"min_dr_sa\", \"max_dr_sa\", \n",
    "                                              \"skew_dr_sa\", \"kurtosis_dr_sa\",\"FreqPower_sa\"])\n",
    "   \n"
   ]
  },
  {
   "cell_type": "code",
   "execution_count": null,
   "metadata": {},
   "outputs": [],
   "source": [
    "accel_phones_test.head()"
   ]
  },
  {
   "cell_type": "code",
   "execution_count": null,
   "metadata": {},
   "outputs": [],
   "source": [
    "\n",
    "#pd.read_csv(f) for f in all_filenames \n",
    "\n",
    "mycsvdir = 'testing_data\\REAL_testing\\smartwatch_accelerometer'\n",
    "\n",
    "csvfiles = glob.glob(os.path.join(mycsvdir, '*.csv'))\n",
    "\n",
    "Means_wa=[]\n",
    "for csvfile in csvfiles:\n",
    "    df1 = pd.read_csv(csvfile)\n",
    "    \n",
    "    for x in pd.Series(df1['device_id']).unique():\n",
    "        \n",
    "        df = df1[df1['device_id']==x]\n",
    "        \"\"\"Apply Hypothesis tests to check if means are statistically significant????\"\"\"\n",
    "        #Relevant features \n",
    "        measurement_id = os.path.basename(csvfile)\n",
    "        measurement_id = measurement_id.replace(\".csv\",\"\")\n",
    "\n",
    "        device_id = x\n",
    "        \n",
    "        df[\"r\"] = np.sqrt(df.x**2+df.y**2+df.z**2)\n",
    "        dr = np.sqrt(np.diff(df.x)**2+np.diff(df.y)**2+np.diff(df.z)**2)\n",
    "\n",
    "        mean_r = np.mean(df.r)\n",
    "        std_r = np.std(df.r)\n",
    "        min_r = np.min(df.r)\n",
    "        max_r = np.max(df.r)\n",
    "        skew_r = skew(df.r)\n",
    "        kurtosis_r = kurtosis(df.r)\n",
    "\n",
    "        mean_dr = np.mean(dr)\n",
    "        std_dr = np.std(dr)\n",
    "        min_dr = np.min(dr)\n",
    "        max_dr = np.max(dr)\n",
    "        skew_dr = skew(dr)\n",
    "        kurtosis_dr = kurtosis(dr)\n",
    "        \n",
    "        \"\"\"Extract frequency bands in Hz\"\"\"\n",
    "        FreqBandx = sig.lfilter(Filter[0],Filter[1],df[\"x\"]);\n",
    "        FreqBandy = sig.lfilter(Filter[0],Filter[1],df[\"y\"]);\n",
    "        FreqBandz = sig.lfilter(Filter[0],Filter[1],df[\"z\"]);\n",
    "\n",
    "        \"\"\"Find the power in each frequency Band\"\"\"\n",
    "        PowerFreqBandx = np.abs(FreqBandx)**2;\n",
    "        PowerFreqBandy = np.abs(FreqBandy)**2;\n",
    "        PowerFreqBandz = np.abs(FreqBandz)**2;\n",
    "\n",
    "        \"\"\"Sum the power in each frequency band\"\"\"\n",
    "        SumPowerFreqBandx = np.sum(PowerFreqBandx);\n",
    "        SumPowerFreqBandy = np.sum(PowerFreqBandy);\n",
    "        SumPowerFreqBandz = np.sum(PowerFreqBandz);\n",
    "\n",
    "        \"\"\"Sum the total signal power\"\"\"\n",
    "        Powerx = np.sum(df[\"x\"]**2);\n",
    "        Powery = np.sum(df[\"y\"]**2);\n",
    "        Powerz = np.sum(df[\"z\"]**2);\n",
    "\n",
    "        \"\"\"Find the percentage of power in frequencies of interest\"\"\"\n",
    "        FreqPower = np.sqrt((SumPowerFreqBandx+SumPowerFreqBandy+SumPowerFreqBandz)/(Powerx+Powery+Powerz));\n",
    "\n",
    "        Means_wa.append([measurement_id, device_id, mean_r, std_r, min_r, max_r, skew_r, kurtosis_r, \n",
    "                         mean_dr,std_dr, min_dr, max_dr, skew_dr, kurtosis_dr,FreqPower])\n",
    "\n",
    "\n",
    "    \n",
    "        "
   ]
  },
  {
   "cell_type": "code",
   "execution_count": null,
   "metadata": {},
   "outputs": [],
   "source": [
    "accel_watches_test = pd.DataFrame(Means_wa, columns=[\"measurement_id\",\"device_id\", \"mean_r_wa\", \"std_r_wa\", \n",
    "                                              \"min_r_wa\", \"max_r_wa\", \"skew__r_wa\", \"kurtosis_r_wa\",\n",
    "                                              \"mean_dr_wa\", \"std_dr_wa\", \"min_dr_wa\", \"max_dr_Wa\", \n",
    "                                              \"skew_dr_wa\", \"kurtosis_dr_wa\",\"FreqPower_wa\"])\n",
    "   \n",
    "\n"
   ]
  },
  {
   "cell_type": "code",
   "execution_count": null,
   "metadata": {},
   "outputs": [],
   "source": [
    "#pd.read_csv(f) for f in all_filenames \n",
    "\n",
    "mycsvdir = 'testing_data\\REAL_testing\\smartwatch_gyroscope'\n",
    "\n",
    "csvfiles = glob.glob(os.path.join(mycsvdir, '*.csv'))\n",
    "\n",
    "Means_wg=[]\n",
    "for csvfile in csvfiles:\n",
    "    df1 = pd.read_csv(csvfile)\n",
    "    \n",
    "    for x in pd.Series(df1['device_id']).unique():\n",
    "        \n",
    "        df = df1[df1['device_id']==x]\n",
    "         \n",
    "        #Relevant features \n",
    "        measurement_id = os.path.basename(csvfile)\n",
    "        measurement_id = measurement_id.replace(\".csv\",\"\")\n",
    "        device_id = x\n",
    "\n",
    "        df[\"r\"] = np.sqrt(df.x**2+df.y**2+df.z**2)\n",
    "        mean_r = np.mean(df.r)\n",
    "        std_r = np.std(df.r)\n",
    "        min_r = np.min(df.r)\n",
    "        max_r = np.max(df.r)\n",
    "        skew_r = skew(df.r)\n",
    "        kurtosis_r = kurtosis(df.r)\n",
    "    \n",
    "        Means_wg.append([measurement_id,device_id, mean_r, std_r, min_r, max_r, skew_r, kurtosis_r])\n",
    "       "
   ]
  },
  {
   "cell_type": "code",
   "execution_count": null,
   "metadata": {},
   "outputs": [],
   "source": [
    "gyro_watches_test= pd.DataFrame(Means_wg, columns=[\"measurement_id\", \"device_id\", \"mean_r_wg\", \"std_r_wg\", \n",
    "                                              \"min_r_wg\", \"max_r_wg\", \"skew_r_wg\", \"kurtosis_r_wg\"])\n",
    "   \n",
    "\n"
   ]
  },
  {
   "cell_type": "code",
   "execution_count": null,
   "metadata": {},
   "outputs": [],
   "source": [
    "df_watch_test=pd.merge(gyro_watches_test, accel_watches_test, on=[\"measurement_id\", \"device_id\"])\n",
    "df_watch_test.shape"
   ]
  },
  {
   "cell_type": "code",
   "execution_count": null,
   "metadata": {},
   "outputs": [],
   "source": [
    "df_test=pd.merge(df_watch_test, accel_phones_test, on=['measurement_id'], how='outer')\n",
    "df_test.shape"
   ]
  },
  {
   "cell_type": "code",
   "execution_count": null,
   "metadata": {},
   "outputs": [],
   "source": [
    "df_test_data = pd.merge(df_test, test_subjects, on =['measurement_id'])\n",
    "df_test_data.shape"
   ]
  },
  {
   "cell_type": "code",
   "execution_count": null,
   "metadata": {},
   "outputs": [],
   "source": [
    "df_test_data.subject_id.unique()"
   ]
  },
  {
   "cell_type": "code",
   "execution_count": null,
   "metadata": {},
   "outputs": [],
   "source": [
    "train = df_tremor.drop(['measurement_id', 'device_id', 'tremor', 'tremor_null'], axis=1)\n",
    "train.head()"
   ]
  },
  {
   "cell_type": "code",
   "execution_count": null,
   "metadata": {},
   "outputs": [],
   "source": [
    "cols_train = train.columns[:-1]\n",
    "scaler= scaler.fit(df_tremor[cols_train])\n",
    "train[cols_train] = scaler.transform(train[cols_train])\n",
    "train.head()"
   ]
  },
  {
   "cell_type": "code",
   "execution_count": null,
   "metadata": {},
   "outputs": [],
   "source": [
    "cols_test=df_test_data.columns[2:-1]\n",
    "df_test_data[cols_test]=scaler.transform(df_test_data[cols_test])"
   ]
  },
  {
   "cell_type": "code",
   "execution_count": null,
   "metadata": {},
   "outputs": [],
   "source": [
    "df_test_data.head()"
   ]
  },
  {
   "cell_type": "code",
   "execution_count": null,
   "metadata": {},
   "outputs": [],
   "source": [
    "train = pd.get_dummies(train)"
   ]
  },
  {
   "cell_type": "code",
   "execution_count": null,
   "metadata": {},
   "outputs": [],
   "source": [
    "\n",
    "df_test_predict= pd.get_dummies(df_test_data[df_test_data.columns[2:]])\n",
    "df_test_predict.head()"
   ]
  },
  {
   "cell_type": "code",
   "execution_count": null,
   "metadata": {
    "scrolled": true
   },
   "outputs": [],
   "source": [
    "df_test_data.subject_id.unique()"
   ]
  },
  {
   "cell_type": "code",
   "execution_count": null,
   "metadata": {},
   "outputs": [],
   "source": [
    "df_tremor.subject_id.unique()"
   ]
  },
  {
   "cell_type": "code",
   "execution_count": null,
   "metadata": {},
   "outputs": [],
   "source": [
    "df_test_predict = df_test_predict.drop(['subject_id_hbv051', 'subject_id_hbv077', 'subject_id_hbv018', \n",
    "                      'subject_id_hbv043', 'subject_id_hbv014', 'subject_id_hbv017'], \n",
    "                    axis = 1)\n"
   ]
  },
  {
   "cell_type": "code",
   "execution_count": null,
   "metadata": {},
   "outputs": [],
   "source": [
    "df_test_predict.shape"
   ]
  },
  {
   "cell_type": "code",
   "execution_count": null,
   "metadata": {},
   "outputs": [],
   "source": [
    "df_train_imputed = pd.DataFrame(imputer.fit_transform(train), columns = train.columns)\n",
    "df_train_imputed.shape"
   ]
  },
  {
   "cell_type": "code",
   "execution_count": null,
   "metadata": {},
   "outputs": [],
   "source": [
    "df_test_imputed=pd.DataFrame(imputer.fit_transform(df_test_predict), columns = df_test_predict.columns)\n",
    "df_test_imputed.shape"
   ]
  },
  {
   "cell_type": "code",
   "execution_count": null,
   "metadata": {},
   "outputs": [],
   "source": [
    "dtrain=xgb.DMatrix(data=df_train_imputed, label=df_tremor.tremor)\n",
    "dtest = xgb.DMatrix(data=df_test_imputed)"
   ]
  },
  {
   "cell_type": "code",
   "execution_count": null,
   "metadata": {},
   "outputs": [],
   "source": [
    "bst = xgb.train(param, dtrain)\n",
    "xgb_pred = bst.predict(dtest)"
   ]
  },
  {
   "cell_type": "code",
   "execution_count": null,
   "metadata": {},
   "outputs": [],
   "source": [
    "\n",
    "df_test_data[\"prediction\"]=xgb_pred\n",
    "df_test_data.head()"
   ]
  },
  {
   "cell_type": "code",
   "execution_count": null,
   "metadata": {},
   "outputs": [],
   "source": [
    "test_subjects.shape"
   ]
  },
  {
   "cell_type": "code",
   "execution_count": null,
   "metadata": {},
   "outputs": [],
   "source": [
    "df_predictions = pd.merge(df_test_data[['measurement_id', 'prediction']], test_subjects, on=['measurement_id'], how =\"right\")"
   ]
  },
  {
   "cell_type": "code",
   "execution_count": null,
   "metadata": {},
   "outputs": [],
   "source": [
    "len(df_predictions.measurement_id.unique())"
   ]
  },
  {
   "cell_type": "code",
   "execution_count": null,
   "metadata": {},
   "outputs": [],
   "source": [
    "df_predictions.shape"
   ]
  },
  {
   "cell_type": "code",
   "execution_count": null,
   "metadata": {},
   "outputs": [],
   "source": [
    "df_predictions.drop_duplicates(subset =\"measurement_id\", inplace=True) "
   ]
  },
  {
   "cell_type": "code",
   "execution_count": null,
   "metadata": {},
   "outputs": [],
   "source": [
    "df_predictions.shape"
   ]
  },
  {
   "cell_type": "code",
   "execution_count": null,
   "metadata": {},
   "outputs": [],
   "source": [
    "df_predictions.head()"
   ]
  },
  {
   "cell_type": "code",
   "execution_count": null,
   "metadata": {},
   "outputs": [],
   "source": [
    "df_predictions[['measurement_id','prediction']].to_csv(\"real_pd_tremor_predictions.csv\", index=False)"
   ]
  },
  {
   "cell_type": "code",
   "execution_count": null,
   "metadata": {},
   "outputs": [],
   "source": []
  },
  {
   "cell_type": "code",
   "execution_count": null,
   "metadata": {},
   "outputs": [],
   "source": []
  }
 ],
 "metadata": {
  "kernelspec": {
   "display_name": "Python 3",
   "language": "python",
   "name": "python3"
  },
  "language_info": {
   "codemirror_mode": {
    "name": "ipython",
    "version": 3
   },
   "file_extension": ".py",
   "mimetype": "text/x-python",
   "name": "python",
   "nbconvert_exporter": "python",
   "pygments_lexer": "ipython3",
   "version": "3.6.9"
  }
 },
 "nbformat": 4,
 "nbformat_minor": 2
}
