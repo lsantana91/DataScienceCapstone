{
 "cells": [
  {
   "cell_type": "code",
   "execution_count": 17,
   "metadata": {},
   "outputs": [],
   "source": [
    "import pandas as pd\n",
    "import numpy as np\n",
    "import glob\n",
    "import os\n",
    "import matplotlib.pyplot as plt\n",
    "from scipy.stats import kurtosis, skew\n",
    "from sklearn.impute import SimpleImputer\n",
    "from sklearn.preprocessing import StandardScaler, MinMaxScaler\n",
    "import scipy.signal as sig\n",
    "from sklearn.ensemble import RandomForestClassifier\n",
    "from sklearn.model_selection import GridSearchCV\n",
    "from sklearn.utils import resample\n",
    "from sklearn.neighbors import KNeighborsClassifier\n",
    "from sklearn import metrics\n",
    "%matplotlib inline"
   ]
  },
  {
   "cell_type": "code",
   "execution_count": 18,
   "metadata": {
    "scrolled": false
   },
   "outputs": [
    {
     "name": "stdout",
     "output_type": "stream",
     "text": [
      "(591, 5)\n"
     ]
    }
   ],
   "source": [
    "labels = pd.read_csv('data_labels\\REAL-PD_Training_Data_IDs_Labels.csv')\n",
    "print(labels.shape)\n",
    "null = pd.read_csv('null_solution.csv')"
   ]
  },
  {
   "cell_type": "code",
   "execution_count": 19,
   "metadata": {},
   "outputs": [],
   "source": [
    "tremor_preds=null[[\"subject_id\", \"tremor\"]]\n",
    "tremor_preds=tremor_preds.rename(columns={\"tremor\":\"tremor_null\"})"
   ]
  },
  {
   "cell_type": "code",
   "execution_count": 20,
   "metadata": {},
   "outputs": [],
   "source": [
    "labels=pd.merge(labels, tremor_preds, how=\"left\", on=[\"subject_id\"])\n"
   ]
  },
  {
   "cell_type": "code",
   "execution_count": 21,
   "metadata": {
    "scrolled": true
   },
   "outputs": [
    {
     "name": "stdout",
     "output_type": "stream",
     "text": [
      "0.0    136\n",
      "1.0    114\n",
      "2.0      6\n",
      "Name: dyskinesia, dtype: int64\n"
     ]
    },
    {
     "data": {
      "text/plain": [
       "Text(0.5, 1.0, 'Dyskinesia')"
      ]
     },
     "execution_count": 21,
     "metadata": {},
     "output_type": "execute_result"
    },
    {
     "data": {
      "image/png": "[encoded data removed]",
      "text/plain": [
       "<Figure size 432x288 with 1 Axes>"
      ]
     },
     "metadata": {
      "needs_background": "light"
     },
     "output_type": "display_data"
    }
   ],
   "source": [
    "print(labels['dyskinesia'].value_counts())\n",
    "labels['dyskinesia'].value_counts().plot(kind='bar')\n",
    "plt.title('Dyskinesia')\n"
   ]
  },
  {
   "cell_type": "code",
   "execution_count": 22,
   "metadata": {
    "scrolled": true
   },
   "outputs": [
    {
     "data": {
      "text/html": [
       "<div>\n",
       "<style scoped>\n",
       "    .dataframe tbody tr th:only-of-type {\n",
       "        vertical-align: middle;\n",
       "    }\n",
       "\n",
       "    .dataframe tbody tr th {\n",
       "        vertical-align: top;\n",
       "    }\n",
       "\n",
       "    .dataframe thead th {\n",
       "        text-align: right;\n",
       "    }\n",
       "</style>\n",
       "<table border=\"1\" class=\"dataframe\">\n",
       "  <thead>\n",
       "    <tr style=\"text-align: right;\">\n",
       "      <th></th>\n",
       "      <th>on_off</th>\n",
       "      <th>tremor</th>\n",
       "      <th>dyskinesia</th>\n",
       "    </tr>\n",
       "  </thead>\n",
       "  <tbody>\n",
       "    <tr>\n",
       "      <th>on_off</th>\n",
       "      <td>1.000000</td>\n",
       "      <td>0.423928</td>\n",
       "      <td>-0.082028</td>\n",
       "    </tr>\n",
       "    <tr>\n",
       "      <th>tremor</th>\n",
       "      <td>0.423928</td>\n",
       "      <td>1.000000</td>\n",
       "      <td>0.085026</td>\n",
       "    </tr>\n",
       "    <tr>\n",
       "      <th>dyskinesia</th>\n",
       "      <td>-0.082028</td>\n",
       "      <td>0.085026</td>\n",
       "      <td>1.000000</td>\n",
       "    </tr>\n",
       "  </tbody>\n",
       "</table>\n",
       "</div>"
      ],
      "text/plain": [
       "              on_off    tremor  dyskinesia\n",
       "on_off      1.000000  0.423928   -0.082028\n",
       "tremor      0.423928  1.000000    0.085026\n",
       "dyskinesia -0.082028  0.085026    1.000000"
      ]
     },
     "execution_count": 22,
     "metadata": {},
     "output_type": "execute_result"
    }
   ],
   "source": [
    "labels[[\"on_off\", \"tremor\", \"dyskinesia\"]].corr()"
   ]
  },
  {
   "cell_type": "code",
   "execution_count": 23,
   "metadata": {
    "scrolled": true
   },
   "outputs": [
    {
     "data": {
      "text/plain": [
       "Text(0.5, 1.0, 'Tremor')"
      ]
     },
     "execution_count": 23,
     "metadata": {},
     "output_type": "execute_result"
    },
    {
     "data": {
      "image/png": "[encoded data removed]",
      "text/plain": [
       "<Figure size 432x288 with 1 Axes>"
      ]
     },
     "metadata": {
      "needs_background": "light"
     },
     "output_type": "display_data"
    }
   ],
   "source": [
    "labels['tremor'].value_counts().plot(kind='bar')\n",
    "plt.title('Tremor')"
   ]
  },
  {
   "cell_type": "code",
   "execution_count": 24,
   "metadata": {
    "scrolled": true
   },
   "outputs": [
    {
     "data": {
      "text/html": [
       "<div>\n",
       "<style scoped>\n",
       "    .dataframe tbody tr th:only-of-type {\n",
       "        vertical-align: middle;\n",
       "    }\n",
       "\n",
       "    .dataframe tbody tr th {\n",
       "        vertical-align: top;\n",
       "    }\n",
       "\n",
       "    .dataframe thead th {\n",
       "        text-align: right;\n",
       "    }\n",
       "</style>\n",
       "<table border=\"1\" class=\"dataframe\">\n",
       "  <thead>\n",
       "    <tr style=\"text-align: right;\">\n",
       "      <th>tremor</th>\n",
       "      <th>0.0</th>\n",
       "      <th>1.0</th>\n",
       "      <th>2.0</th>\n",
       "      <th>3.0</th>\n",
       "    </tr>\n",
       "    <tr>\n",
       "      <th>subject_id</th>\n",
       "      <th></th>\n",
       "      <th></th>\n",
       "      <th></th>\n",
       "      <th></th>\n",
       "    </tr>\n",
       "  </thead>\n",
       "  <tbody>\n",
       "    <tr>\n",
       "      <th>hbv012</th>\n",
       "      <td>29.0</td>\n",
       "      <td>8.0</td>\n",
       "      <td>5.0</td>\n",
       "      <td>NaN</td>\n",
       "    </tr>\n",
       "    <tr>\n",
       "      <th>hbv013</th>\n",
       "      <td>49.0</td>\n",
       "      <td>12.0</td>\n",
       "      <td>5.0</td>\n",
       "      <td>1.0</td>\n",
       "    </tr>\n",
       "    <tr>\n",
       "      <th>hbv022</th>\n",
       "      <td>45.0</td>\n",
       "      <td>6.0</td>\n",
       "      <td>5.0</td>\n",
       "      <td>NaN</td>\n",
       "    </tr>\n",
       "    <tr>\n",
       "      <th>hbv023</th>\n",
       "      <td>NaN</td>\n",
       "      <td>2.0</td>\n",
       "      <td>36.0</td>\n",
       "      <td>8.0</td>\n",
       "    </tr>\n",
       "    <tr>\n",
       "      <th>hbv038</th>\n",
       "      <td>NaN</td>\n",
       "      <td>15.0</td>\n",
       "      <td>11.0</td>\n",
       "      <td>17.0</td>\n",
       "    </tr>\n",
       "    <tr>\n",
       "      <th>hbv054</th>\n",
       "      <td>50.0</td>\n",
       "      <td>8.0</td>\n",
       "      <td>NaN</td>\n",
       "      <td>NaN</td>\n",
       "    </tr>\n",
       "  </tbody>\n",
       "</table>\n",
       "</div>"
      ],
      "text/plain": [
       "tremor       0.0   1.0   2.0   3.0\n",
       "subject_id                        \n",
       "hbv012      29.0   8.0   5.0   NaN\n",
       "hbv013      49.0  12.0   5.0   1.0\n",
       "hbv022      45.0   6.0   5.0   NaN\n",
       "hbv023       NaN   2.0  36.0   8.0\n",
       "hbv038       NaN  15.0  11.0  17.0\n",
       "hbv054      50.0   8.0   NaN   NaN"
      ]
     },
     "execution_count": 24,
     "metadata": {},
     "output_type": "execute_result"
    }
   ],
   "source": [
    "pd.pivot_table(labels[[\"subject_id\",\"tremor\"]], index=\"subject_id\", columns=[\"tremor\"],aggfunc=len)"
   ]
  },
  {
   "cell_type": "code",
   "execution_count": 25,
   "metadata": {},
   "outputs": [],
   "source": [
    "\"\"\"define frequency bands the step function\"\"\"\n",
    "W_n = [3,7];\n",
    "\n",
    "\"\"\"Select the step function\"\"\"\n",
    "Ord = sig.buttord(wp = [4,6],ws =[3,7],gpass =0.08, gstop = 10,fs = 50)\n",
    "Filter = sig.butter(Ord[0],Wn = W_n,btype = 'bandpass',fs =50);"
   ]
  },
  {
   "cell_type": "code",
   "execution_count": 26,
   "metadata": {
    "scrolled": true
   },
   "outputs": [
    {
     "data": {
      "text/plain": [
       "Text(0.5, 0, 'Frequency[Hz]')"
      ]
     },
     "execution_count": 26,
     "metadata": {},
     "output_type": "execute_result"
    },
    {
     "data": {
      "image/png": "[encoded data removed]",
      "text/plain": [
       "<Figure size 432x288 with 1 Axes>"
      ]
     },
     "metadata": {
      "needs_background": "light"
     },
     "output_type": "display_data"
    }
   ],
   "source": [
    "\"\"\"Plot the frequency response\"\"\"\n",
    "Response = sig.freqz(Filter[0],Filter[1],fs=50)\n",
    "\n",
    "plt.plot(Response[0],np.abs(Response[1]))\n",
    "plt.ylabel(\"Filter Gain\");\n",
    "plt.xlabel(\"Frequency[Hz]\")"
   ]
  },
  {
   "cell_type": "code",
   "execution_count": 79,
   "metadata": {},
   "outputs": [
    {
     "name": "stderr",
     "output_type": "stream",
     "text": [
      "C:\\Users\\lisbe\\Anaconda3\\lib\\site-packages\\ipykernel_launcher.py:25: SettingWithCopyWarning: \n",
      "A value is trying to be set on a copy of a slice from a DataFrame.\n",
      "Try using .loc[row_indexer,col_indexer] = value instead\n",
      "\n",
      "See the caveats in the documentation: http://pandas.pydata.org/pandas-docs/stable/user_guide/indexing.html#returning-a-view-versus-a-copy\n"
     ]
    }
   ],
   "source": [
    "\n",
    "#pd.read_csv(f) for f in all_filenames \n",
    "\n",
    "mycsvdir = 'training_data\\REAL_training\\smartphone_accelerometer'\n",
    "\n",
    "csvfiles = glob.glob(os.path.join(mycsvdir, '*.csv'))\n",
    "\n",
    "Means_sa=[]\n",
    "for csvfile in csvfiles:\n",
    "    pre_df = pd.read_csv(csvfile)\n",
    "    \n",
    "    numsamples,numfeatures = pre_df.shape\n",
    "    windowsize=numsamples//40\n",
    "    start=0\n",
    "    end=windowsize\n",
    "    \n",
    "    for i in range(0,40):\n",
    "        df = pre_df.iloc[start:end]\n",
    "        start+=windowsize\n",
    "        end+=windowsize\n",
    "    \n",
    "        #Relevant features \n",
    "        measurement_id = os.path.basename(csvfile)\n",
    "        measurement_id = measurement_id.replace(\".csv\",\"\")\n",
    "\n",
    "        df[\"r\"] = np.sqrt(df.x**2+df.y**2+df.z**2)\n",
    "        dr = np.sqrt(np.diff(df.x)**2+np.diff(df.y)**2+np.diff(df.z)**2)\n",
    "        mean_r = np.median(df.r)\n",
    "        std_r = np.std(df.r)\n",
    "        min_r = np.min(df.r)\n",
    "        max_r = np.max(df.r)\n",
    "        skew_r = skew(df.r)\n",
    "        kurtosis_r = kurtosis(df.r)\n",
    "\n",
    "        mean_dr = np.median(dr)\n",
    "        std_dr = np.std(dr)\n",
    "        min_dr = np.min(dr)\n",
    "        max_dr = np.max(dr)\n",
    "        skew_dr = skew(dr)\n",
    "        kurtosis_dr = kurtosis(dr)\n",
    "\n",
    "        \"\"\"Extract frequency bands in Hz\"\"\"\n",
    "        FreqBandx = sig.lfilter(Filter[0],Filter[1],df[\"x\"]);\n",
    "        FreqBandy = sig.lfilter(Filter[0],Filter[1],df[\"y\"]);\n",
    "        FreqBandz = sig.lfilter(Filter[0],Filter[1],df[\"z\"]);\n",
    "\n",
    "        \"\"\"Find the power in each frequency Band\"\"\"\n",
    "        PowerFreqBandx = np.abs(FreqBandx)**2;\n",
    "        PowerFreqBandy = np.abs(FreqBandy)**2;\n",
    "        PowerFreqBandz = np.abs(FreqBandz)**2;\n",
    "\n",
    "        \"\"\"Sum the power in each frequency band\"\"\"\n",
    "        SumPowerFreqBandx = np.sum(PowerFreqBandx);\n",
    "        SumPowerFreqBandy = np.sum(PowerFreqBandy);\n",
    "        SumPowerFreqBandz = np.sum(PowerFreqBandz);\n",
    "\n",
    "        \"\"\"Sum the total signal power\"\"\"\n",
    "        Powerx = np.sum(df[\"x\"]**2);\n",
    "        Powery = np.sum(df[\"y\"]**2);\n",
    "        Powerz = np.sum(df[\"z\"]**2);\n",
    "\n",
    "        \"\"\"Find the percentage of power in frequencies of interest\"\"\"\n",
    "        FreqPower = np.sqrt((SumPowerFreqBandx+SumPowerFreqBandy+SumPowerFreqBandz)/(Powerx+Powery+Powerz));\n",
    "\n",
    "        Means_sa.append([measurement_id, mean_r, std_r, min_r, max_r, skew_r, kurtosis_r,\n",
    "                         mean_dr,std_dr, min_dr, max_dr, skew_dr, kurtosis_dr,FreqPower])\n"
   ]
  },
  {
   "cell_type": "code",
   "execution_count": 80,
   "metadata": {},
   "outputs": [],
   "source": [
    "accel_phones= pd.DataFrame(Means_sa, columns=[\"measurement_id\", \"mean_r_sa\", \"std_r_sa\", \n",
    "                                              \"min_r_sa\", \"max_r_sa\", \"skew_r_sa\", \"kurtosis_r_sa\",\n",
    "                                              \"mean_dr_sa\", \"std_dr_sa\", \"min_dr_sa\", \"max_dr_sa\", \n",
    "                                              \"skew_dr_sa\", \"kurtosis_dr_sa\",\"FreqPower_sa\"])\n",
    "   \n",
    "\n"
   ]
  },
  {
   "cell_type": "code",
   "execution_count": 81,
   "metadata": {},
   "outputs": [
    {
     "data": {
      "text/html": [
       "<div>\n",
       "<style scoped>\n",
       "    .dataframe tbody tr th:only-of-type {\n",
       "        vertical-align: middle;\n",
       "    }\n",
       "\n",
       "    .dataframe tbody tr th {\n",
       "        vertical-align: top;\n",
       "    }\n",
       "\n",
       "    .dataframe thead th {\n",
       "        text-align: right;\n",
       "    }\n",
       "</style>\n",
       "<table border=\"1\" class=\"dataframe\">\n",
       "  <thead>\n",
       "    <tr style=\"text-align: right;\">\n",
       "      <th></th>\n",
       "      <th>measurement_id</th>\n",
       "      <th>mean_r_sa</th>\n",
       "      <th>std_r_sa</th>\n",
       "      <th>min_r_sa</th>\n",
       "      <th>max_r_sa</th>\n",
       "      <th>skew_r_sa</th>\n",
       "      <th>kurtosis_r_sa</th>\n",
       "      <th>mean_dr_sa</th>\n",
       "      <th>std_dr_sa</th>\n",
       "      <th>min_dr_sa</th>\n",
       "      <th>max_dr_sa</th>\n",
       "      <th>skew_dr_sa</th>\n",
       "      <th>kurtosis_dr_sa</th>\n",
       "      <th>FreqPower_sa</th>\n",
       "    </tr>\n",
       "  </thead>\n",
       "  <tbody>\n",
       "    <tr>\n",
       "      <th>0</th>\n",
       "      <td>00a49337-386c-4de3-a220-4cf3c0d20a7d</td>\n",
       "      <td>10.352466</td>\n",
       "      <td>0.019462</td>\n",
       "      <td>10.260414</td>\n",
       "      <td>10.481829</td>\n",
       "      <td>0.046391</td>\n",
       "      <td>0.851723</td>\n",
       "      <td>0.024996</td>\n",
       "      <td>0.014200</td>\n",
       "      <td>0.002073</td>\n",
       "      <td>0.197054</td>\n",
       "      <td>2.181873</td>\n",
       "      <td>14.682987</td>\n",
       "      <td>0.013149</td>\n",
       "    </tr>\n",
       "    <tr>\n",
       "      <th>1</th>\n",
       "      <td>00a49337-386c-4de3-a220-4cf3c0d20a7d</td>\n",
       "      <td>10.353555</td>\n",
       "      <td>0.018961</td>\n",
       "      <td>10.212804</td>\n",
       "      <td>10.413656</td>\n",
       "      <td>-0.161770</td>\n",
       "      <td>1.169309</td>\n",
       "      <td>0.024794</td>\n",
       "      <td>0.013461</td>\n",
       "      <td>0.001693</td>\n",
       "      <td>0.194481</td>\n",
       "      <td>2.071874</td>\n",
       "      <td>14.751701</td>\n",
       "      <td>0.013235</td>\n",
       "    </tr>\n",
       "    <tr>\n",
       "      <th>2</th>\n",
       "      <td>00a49337-386c-4de3-a220-4cf3c0d20a7d</td>\n",
       "      <td>10.353264</td>\n",
       "      <td>0.100178</td>\n",
       "      <td>9.384258</td>\n",
       "      <td>11.642871</td>\n",
       "      <td>0.624897</td>\n",
       "      <td>41.402552</td>\n",
       "      <td>0.026145</td>\n",
       "      <td>0.084138</td>\n",
       "      <td>0.001197</td>\n",
       "      <td>1.206295</td>\n",
       "      <td>5.957162</td>\n",
       "      <td>47.734472</td>\n",
       "      <td>0.015959</td>\n",
       "    </tr>\n",
       "    <tr>\n",
       "      <th>3</th>\n",
       "      <td>00a49337-386c-4de3-a220-4cf3c0d20a7d</td>\n",
       "      <td>10.351227</td>\n",
       "      <td>0.021825</td>\n",
       "      <td>10.234613</td>\n",
       "      <td>10.517971</td>\n",
       "      <td>0.378113</td>\n",
       "      <td>4.441335</td>\n",
       "      <td>0.024269</td>\n",
       "      <td>0.012878</td>\n",
       "      <td>0.001693</td>\n",
       "      <td>0.129271</td>\n",
       "      <td>1.224666</td>\n",
       "      <td>3.455393</td>\n",
       "      <td>0.013441</td>\n",
       "    </tr>\n",
       "    <tr>\n",
       "      <th>4</th>\n",
       "      <td>00a49337-386c-4de3-a220-4cf3c0d20a7d</td>\n",
       "      <td>10.351162</td>\n",
       "      <td>0.017882</td>\n",
       "      <td>10.286636</td>\n",
       "      <td>10.418141</td>\n",
       "      <td>-0.035336</td>\n",
       "      <td>0.011271</td>\n",
       "      <td>0.024121</td>\n",
       "      <td>0.011724</td>\n",
       "      <td>0.001197</td>\n",
       "      <td>0.077100</td>\n",
       "      <td>0.663869</td>\n",
       "      <td>0.506005</td>\n",
       "      <td>0.013136</td>\n",
       "    </tr>\n",
       "  </tbody>\n",
       "</table>\n",
       "</div>"
      ],
      "text/plain": [
       "                         measurement_id  mean_r_sa  std_r_sa   min_r_sa  \\\n",
       "0  00a49337-386c-4de3-a220-4cf3c0d20a7d  10.352466  0.019462  10.260414   \n",
       "1  00a49337-386c-4de3-a220-4cf3c0d20a7d  10.353555  0.018961  10.212804   \n",
       "2  00a49337-386c-4de3-a220-4cf3c0d20a7d  10.353264  0.100178   9.384258   \n",
       "3  00a49337-386c-4de3-a220-4cf3c0d20a7d  10.351227  0.021825  10.234613   \n",
       "4  00a49337-386c-4de3-a220-4cf3c0d20a7d  10.351162  0.017882  10.286636   \n",
       "\n",
       "    max_r_sa  skew_r_sa  kurtosis_r_sa  mean_dr_sa  std_dr_sa  min_dr_sa  \\\n",
       "0  10.481829   0.046391       0.851723    0.024996   0.014200   0.002073   \n",
       "1  10.413656  -0.161770       1.169309    0.024794   0.013461   0.001693   \n",
       "2  11.642871   0.624897      41.402552    0.026145   0.084138   0.001197   \n",
       "3  10.517971   0.378113       4.441335    0.024269   0.012878   0.001693   \n",
       "4  10.418141  -0.035336       0.011271    0.024121   0.011724   0.001197   \n",
       "\n",
       "   max_dr_sa  skew_dr_sa  kurtosis_dr_sa  FreqPower_sa  \n",
       "0   0.197054    2.181873       14.682987      0.013149  \n",
       "1   0.194481    2.071874       14.751701      0.013235  \n",
       "2   1.206295    5.957162       47.734472      0.015959  \n",
       "3   0.129271    1.224666        3.455393      0.013441  \n",
       "4   0.077100    0.663869        0.506005      0.013136  "
      ]
     },
     "execution_count": 81,
     "metadata": {},
     "output_type": "execute_result"
    }
   ],
   "source": [
    "accel_phones.head()"
   ]
  },
  {
   "cell_type": "code",
   "execution_count": 82,
   "metadata": {},
   "outputs": [],
   "source": [
    "labels_tremor = labels.drop(['on_off', 'dyskinesia'], axis=1)"
   ]
  },
  {
   "cell_type": "code",
   "execution_count": 83,
   "metadata": {},
   "outputs": [
    {
     "data": {
      "text/plain": [
       "(312, 4)"
      ]
     },
     "execution_count": 83,
     "metadata": {},
     "output_type": "execute_result"
    }
   ],
   "source": [
    "labels_tremor = labels_tremor.dropna()\n",
    "labels_tremor.shape"
   ]
  },
  {
   "cell_type": "code",
   "execution_count": 84,
   "metadata": {},
   "outputs": [],
   "source": [
    "df_tremor= pd.merge(accel_phones, labels_tremor, on=[\"measurement_id\"], how='right')\n"
   ]
  },
  {
   "cell_type": "code",
   "execution_count": 85,
   "metadata": {},
   "outputs": [
    {
     "data": {
      "text/plain": [
       "(10998, 17)"
      ]
     },
     "execution_count": 85,
     "metadata": {},
     "output_type": "execute_result"
    }
   ],
   "source": [
    "df_tremor.shape"
   ]
  },
  {
   "cell_type": "code",
   "execution_count": 86,
   "metadata": {},
   "outputs": [
    {
     "data": {
      "text/html": [
       "<div>\n",
       "<style scoped>\n",
       "    .dataframe tbody tr th:only-of-type {\n",
       "        vertical-align: middle;\n",
       "    }\n",
       "\n",
       "    .dataframe tbody tr th {\n",
       "        vertical-align: top;\n",
       "    }\n",
       "\n",
       "    .dataframe thead th {\n",
       "        text-align: right;\n",
       "    }\n",
       "</style>\n",
       "<table border=\"1\" class=\"dataframe\">\n",
       "  <thead>\n",
       "    <tr style=\"text-align: right;\">\n",
       "      <th></th>\n",
       "      <th>measurement_id</th>\n",
       "      <th>mean_r_sa</th>\n",
       "      <th>std_r_sa</th>\n",
       "      <th>min_r_sa</th>\n",
       "      <th>max_r_sa</th>\n",
       "      <th>skew_r_sa</th>\n",
       "      <th>kurtosis_r_sa</th>\n",
       "      <th>mean_dr_sa</th>\n",
       "      <th>std_dr_sa</th>\n",
       "      <th>min_dr_sa</th>\n",
       "      <th>max_dr_sa</th>\n",
       "      <th>skew_dr_sa</th>\n",
       "      <th>kurtosis_dr_sa</th>\n",
       "      <th>FreqPower_sa</th>\n",
       "      <th>subject_id</th>\n",
       "      <th>tremor</th>\n",
       "      <th>tremor_null</th>\n",
       "    </tr>\n",
       "  </thead>\n",
       "  <tbody>\n",
       "    <tr>\n",
       "      <th>0</th>\n",
       "      <td>00a49337-386c-4de3-a220-4cf3c0d20a7d</td>\n",
       "      <td>10.352466</td>\n",
       "      <td>0.019462</td>\n",
       "      <td>10.260414</td>\n",
       "      <td>10.481829</td>\n",
       "      <td>0.046391</td>\n",
       "      <td>0.851723</td>\n",
       "      <td>0.024996</td>\n",
       "      <td>0.014200</td>\n",
       "      <td>0.002073</td>\n",
       "      <td>0.197054</td>\n",
       "      <td>2.181873</td>\n",
       "      <td>14.682987</td>\n",
       "      <td>0.013149</td>\n",
       "      <td>hbv022</td>\n",
       "      <td>0.0</td>\n",
       "      <td>0.285714</td>\n",
       "    </tr>\n",
       "    <tr>\n",
       "      <th>1</th>\n",
       "      <td>00a49337-386c-4de3-a220-4cf3c0d20a7d</td>\n",
       "      <td>10.353555</td>\n",
       "      <td>0.018961</td>\n",
       "      <td>10.212804</td>\n",
       "      <td>10.413656</td>\n",
       "      <td>-0.161770</td>\n",
       "      <td>1.169309</td>\n",
       "      <td>0.024794</td>\n",
       "      <td>0.013461</td>\n",
       "      <td>0.001693</td>\n",
       "      <td>0.194481</td>\n",
       "      <td>2.071874</td>\n",
       "      <td>14.751701</td>\n",
       "      <td>0.013235</td>\n",
       "      <td>hbv022</td>\n",
       "      <td>0.0</td>\n",
       "      <td>0.285714</td>\n",
       "    </tr>\n",
       "    <tr>\n",
       "      <th>2</th>\n",
       "      <td>00a49337-386c-4de3-a220-4cf3c0d20a7d</td>\n",
       "      <td>10.353264</td>\n",
       "      <td>0.100178</td>\n",
       "      <td>9.384258</td>\n",
       "      <td>11.642871</td>\n",
       "      <td>0.624897</td>\n",
       "      <td>41.402552</td>\n",
       "      <td>0.026145</td>\n",
       "      <td>0.084138</td>\n",
       "      <td>0.001197</td>\n",
       "      <td>1.206295</td>\n",
       "      <td>5.957162</td>\n",
       "      <td>47.734472</td>\n",
       "      <td>0.015959</td>\n",
       "      <td>hbv022</td>\n",
       "      <td>0.0</td>\n",
       "      <td>0.285714</td>\n",
       "    </tr>\n",
       "    <tr>\n",
       "      <th>3</th>\n",
       "      <td>00a49337-386c-4de3-a220-4cf3c0d20a7d</td>\n",
       "      <td>10.351227</td>\n",
       "      <td>0.021825</td>\n",
       "      <td>10.234613</td>\n",
       "      <td>10.517971</td>\n",
       "      <td>0.378113</td>\n",
       "      <td>4.441335</td>\n",
       "      <td>0.024269</td>\n",
       "      <td>0.012878</td>\n",
       "      <td>0.001693</td>\n",
       "      <td>0.129271</td>\n",
       "      <td>1.224666</td>\n",
       "      <td>3.455393</td>\n",
       "      <td>0.013441</td>\n",
       "      <td>hbv022</td>\n",
       "      <td>0.0</td>\n",
       "      <td>0.285714</td>\n",
       "    </tr>\n",
       "    <tr>\n",
       "      <th>4</th>\n",
       "      <td>00a49337-386c-4de3-a220-4cf3c0d20a7d</td>\n",
       "      <td>10.351162</td>\n",
       "      <td>0.017882</td>\n",
       "      <td>10.286636</td>\n",
       "      <td>10.418141</td>\n",
       "      <td>-0.035336</td>\n",
       "      <td>0.011271</td>\n",
       "      <td>0.024121</td>\n",
       "      <td>0.011724</td>\n",
       "      <td>0.001197</td>\n",
       "      <td>0.077100</td>\n",
       "      <td>0.663869</td>\n",
       "      <td>0.506005</td>\n",
       "      <td>0.013136</td>\n",
       "      <td>hbv022</td>\n",
       "      <td>0.0</td>\n",
       "      <td>0.285714</td>\n",
       "    </tr>\n",
       "  </tbody>\n",
       "</table>\n",
       "</div>"
      ],
      "text/plain": [
       "                         measurement_id  mean_r_sa  std_r_sa   min_r_sa  \\\n",
       "0  00a49337-386c-4de3-a220-4cf3c0d20a7d  10.352466  0.019462  10.260414   \n",
       "1  00a49337-386c-4de3-a220-4cf3c0d20a7d  10.353555  0.018961  10.212804   \n",
       "2  00a49337-386c-4de3-a220-4cf3c0d20a7d  10.353264  0.100178   9.384258   \n",
       "3  00a49337-386c-4de3-a220-4cf3c0d20a7d  10.351227  0.021825  10.234613   \n",
       "4  00a49337-386c-4de3-a220-4cf3c0d20a7d  10.351162  0.017882  10.286636   \n",
       "\n",
       "    max_r_sa  skew_r_sa  kurtosis_r_sa  mean_dr_sa  std_dr_sa  min_dr_sa  \\\n",
       "0  10.481829   0.046391       0.851723    0.024996   0.014200   0.002073   \n",
       "1  10.413656  -0.161770       1.169309    0.024794   0.013461   0.001693   \n",
       "2  11.642871   0.624897      41.402552    0.026145   0.084138   0.001197   \n",
       "3  10.517971   0.378113       4.441335    0.024269   0.012878   0.001693   \n",
       "4  10.418141  -0.035336       0.011271    0.024121   0.011724   0.001197   \n",
       "\n",
       "   max_dr_sa  skew_dr_sa  kurtosis_dr_sa  FreqPower_sa subject_id  tremor  \\\n",
       "0   0.197054    2.181873       14.682987      0.013149     hbv022     0.0   \n",
       "1   0.194481    2.071874       14.751701      0.013235     hbv022     0.0   \n",
       "2   1.206295    5.957162       47.734472      0.015959     hbv022     0.0   \n",
       "3   0.129271    1.224666        3.455393      0.013441     hbv022     0.0   \n",
       "4   0.077100    0.663869        0.506005      0.013136     hbv022     0.0   \n",
       "\n",
       "   tremor_null  \n",
       "0     0.285714  \n",
       "1     0.285714  \n",
       "2     0.285714  \n",
       "3     0.285714  \n",
       "4     0.285714  "
      ]
     },
     "execution_count": 86,
     "metadata": {},
     "output_type": "execute_result"
    }
   ],
   "source": [
    "df_tremor.head()"
   ]
  },
  {
   "cell_type": "code",
   "execution_count": 87,
   "metadata": {},
   "outputs": [
    {
     "data": {
      "text/plain": [
       "6"
      ]
     },
     "execution_count": 87,
     "metadata": {},
     "output_type": "execute_result"
    }
   ],
   "source": [
    "len(df_tremor.subject_id.unique())"
   ]
  },
  {
   "cell_type": "code",
   "execution_count": 88,
   "metadata": {},
   "outputs": [],
   "source": [
    "from sklearn.model_selection import train_test_split\n",
    "\n",
    "train, test = train_test_split(df_tremor, test_size=0.2, random_state=42, stratify = df_tremor['subject_id'])"
   ]
  },
  {
   "cell_type": "code",
   "execution_count": 89,
   "metadata": {
    "scrolled": true
   },
   "outputs": [
    {
     "data": {
      "text/html": [
       "<div>\n",
       "<style scoped>\n",
       "    .dataframe tbody tr th:only-of-type {\n",
       "        vertical-align: middle;\n",
       "    }\n",
       "\n",
       "    .dataframe tbody tr th {\n",
       "        vertical-align: top;\n",
       "    }\n",
       "\n",
       "    .dataframe thead th {\n",
       "        text-align: right;\n",
       "    }\n",
       "</style>\n",
       "<table border=\"1\" class=\"dataframe\">\n",
       "  <thead>\n",
       "    <tr style=\"text-align: right;\">\n",
       "      <th></th>\n",
       "      <th>measurement_id</th>\n",
       "      <th>mean_r_sa</th>\n",
       "      <th>std_r_sa</th>\n",
       "      <th>min_r_sa</th>\n",
       "      <th>max_r_sa</th>\n",
       "      <th>skew_r_sa</th>\n",
       "      <th>kurtosis_r_sa</th>\n",
       "      <th>mean_dr_sa</th>\n",
       "      <th>std_dr_sa</th>\n",
       "      <th>min_dr_sa</th>\n",
       "      <th>max_dr_sa</th>\n",
       "      <th>skew_dr_sa</th>\n",
       "      <th>kurtosis_dr_sa</th>\n",
       "      <th>FreqPower_sa</th>\n",
       "      <th>subject_id</th>\n",
       "      <th>tremor</th>\n",
       "      <th>tremor_null</th>\n",
       "    </tr>\n",
       "  </thead>\n",
       "  <tbody>\n",
       "    <tr>\n",
       "      <th>6122</th>\n",
       "      <td>88980466-af69-467c-95e8-f80a6ead462d</td>\n",
       "      <td>9.658623</td>\n",
       "      <td>0.019255</td>\n",
       "      <td>9.593087</td>\n",
       "      <td>9.718848</td>\n",
       "      <td>-0.056840</td>\n",
       "      <td>0.132230</td>\n",
       "      <td>0.030508</td>\n",
       "      <td>0.015934</td>\n",
       "      <td>0.003785</td>\n",
       "      <td>0.094237</td>\n",
       "      <td>0.865520</td>\n",
       "      <td>0.766351</td>\n",
       "      <td>0.018386</td>\n",
       "      <td>hbv022</td>\n",
       "      <td>2.0</td>\n",
       "      <td>0.285714</td>\n",
       "    </tr>\n",
       "    <tr>\n",
       "      <th>1753</th>\n",
       "      <td>287ddbef-b7bf-4ff4-b4e9-eaa128bbbe9c</td>\n",
       "      <td>9.933642</td>\n",
       "      <td>0.794274</td>\n",
       "      <td>3.453128</td>\n",
       "      <td>16.290624</td>\n",
       "      <td>1.364406</td>\n",
       "      <td>19.820949</td>\n",
       "      <td>0.068101</td>\n",
       "      <td>0.454257</td>\n",
       "      <td>0.000000</td>\n",
       "      <td>5.564358</td>\n",
       "      <td>5.146139</td>\n",
       "      <td>35.204543</td>\n",
       "      <td>0.060278</td>\n",
       "      <td>hbv038</td>\n",
       "      <td>2.0</td>\n",
       "      <td>2.046512</td>\n",
       "    </tr>\n",
       "    <tr>\n",
       "      <th>589</th>\n",
       "      <td>0dfdbb5a-218d-4b37-829e-1be00ad88ad4</td>\n",
       "      <td>9.903492</td>\n",
       "      <td>0.532332</td>\n",
       "      <td>4.128494</td>\n",
       "      <td>14.770116</td>\n",
       "      <td>0.233999</td>\n",
       "      <td>23.233206</td>\n",
       "      <td>0.099158</td>\n",
       "      <td>0.541510</td>\n",
       "      <td>0.000000</td>\n",
       "      <td>10.248449</td>\n",
       "      <td>5.354910</td>\n",
       "      <td>58.639447</td>\n",
       "      <td>0.057920</td>\n",
       "      <td>hbv038</td>\n",
       "      <td>3.0</td>\n",
       "      <td>2.046512</td>\n",
       "    </tr>\n",
       "    <tr>\n",
       "      <th>8828</th>\n",
       "      <td>d3171986-f881-4fa8-9c61-a72a3ad3ae26</td>\n",
       "      <td>9.721772</td>\n",
       "      <td>1.429007</td>\n",
       "      <td>6.385246</td>\n",
       "      <td>18.115664</td>\n",
       "      <td>1.689131</td>\n",
       "      <td>6.020298</td>\n",
       "      <td>0.173945</td>\n",
       "      <td>0.434499</td>\n",
       "      <td>0.002677</td>\n",
       "      <td>10.097939</td>\n",
       "      <td>10.380901</td>\n",
       "      <td>186.755296</td>\n",
       "      <td>0.052051</td>\n",
       "      <td>hbv013</td>\n",
       "      <td>0.0</td>\n",
       "      <td>0.373134</td>\n",
       "    </tr>\n",
       "    <tr>\n",
       "      <th>9177</th>\n",
       "      <td>da0b725f-b6c2-4961-8085-5befaacf1f86</td>\n",
       "      <td>9.779754</td>\n",
       "      <td>0.102796</td>\n",
       "      <td>8.231406</td>\n",
       "      <td>10.932086</td>\n",
       "      <td>-0.002311</td>\n",
       "      <td>28.785516</td>\n",
       "      <td>0.032914</td>\n",
       "      <td>0.051307</td>\n",
       "      <td>0.002394</td>\n",
       "      <td>1.671518</td>\n",
       "      <td>10.884507</td>\n",
       "      <td>238.739621</td>\n",
       "      <td>0.011890</td>\n",
       "      <td>hbv054</td>\n",
       "      <td>0.0</td>\n",
       "      <td>0.137931</td>\n",
       "    </tr>\n",
       "  </tbody>\n",
       "</table>\n",
       "</div>"
      ],
      "text/plain": [
       "                            measurement_id  mean_r_sa  std_r_sa  min_r_sa  \\\n",
       "6122  88980466-af69-467c-95e8-f80a6ead462d   9.658623  0.019255  9.593087   \n",
       "1753  287ddbef-b7bf-4ff4-b4e9-eaa128bbbe9c   9.933642  0.794274  3.453128   \n",
       "589   0dfdbb5a-218d-4b37-829e-1be00ad88ad4   9.903492  0.532332  4.128494   \n",
       "8828  d3171986-f881-4fa8-9c61-a72a3ad3ae26   9.721772  1.429007  6.385246   \n",
       "9177  da0b725f-b6c2-4961-8085-5befaacf1f86   9.779754  0.102796  8.231406   \n",
       "\n",
       "       max_r_sa  skew_r_sa  kurtosis_r_sa  mean_dr_sa  std_dr_sa  min_dr_sa  \\\n",
       "6122   9.718848  -0.056840       0.132230    0.030508   0.015934   0.003785   \n",
       "1753  16.290624   1.364406      19.820949    0.068101   0.454257   0.000000   \n",
       "589   14.770116   0.233999      23.233206    0.099158   0.541510   0.000000   \n",
       "8828  18.115664   1.689131       6.020298    0.173945   0.434499   0.002677   \n",
       "9177  10.932086  -0.002311      28.785516    0.032914   0.051307   0.002394   \n",
       "\n",
       "      max_dr_sa  skew_dr_sa  kurtosis_dr_sa  FreqPower_sa subject_id  tremor  \\\n",
       "6122   0.094237    0.865520        0.766351      0.018386     hbv022     2.0   \n",
       "1753   5.564358    5.146139       35.204543      0.060278     hbv038     2.0   \n",
       "589   10.248449    5.354910       58.639447      0.057920     hbv038     3.0   \n",
       "8828  10.097939   10.380901      186.755296      0.052051     hbv013     0.0   \n",
       "9177   1.671518   10.884507      238.739621      0.011890     hbv054     0.0   \n",
       "\n",
       "      tremor_null  \n",
       "6122     0.285714  \n",
       "1753     2.046512  \n",
       "589      2.046512  \n",
       "8828     0.373134  \n",
       "9177     0.137931  "
      ]
     },
     "execution_count": 89,
     "metadata": {},
     "output_type": "execute_result"
    }
   ],
   "source": [
    "train.head()"
   ]
  },
  {
   "cell_type": "code",
   "execution_count": 92,
   "metadata": {},
   "outputs": [],
   "source": [
    "cols_to_transform=train.columns[1:-3]"
   ]
  },
  {
   "cell_type": "code",
   "execution_count": 93,
   "metadata": {},
   "outputs": [
    {
     "name": "stderr",
     "output_type": "stream",
     "text": [
      "C:\\Users\\lisbe\\Anaconda3\\lib\\site-packages\\ipykernel_launcher.py:4: SettingWithCopyWarning: \n",
      "A value is trying to be set on a copy of a slice from a DataFrame.\n",
      "Try using .loc[row_indexer,col_indexer] = value instead\n",
      "\n",
      "See the caveats in the documentation: http://pandas.pydata.org/pandas-docs/stable/user_guide/indexing.html#returning-a-view-versus-a-copy\n",
      "  after removing the cwd from sys.path.\n",
      "C:\\Users\\lisbe\\Anaconda3\\lib\\site-packages\\pandas\\core\\indexing.py:494: SettingWithCopyWarning: \n",
      "A value is trying to be set on a copy of a slice from a DataFrame.\n",
      "Try using .loc[row_indexer,col_indexer] = value instead\n",
      "\n",
      "See the caveats in the documentation: http://pandas.pydata.org/pandas-docs/stable/user_guide/indexing.html#returning-a-view-versus-a-copy\n",
      "  self.obj[item] = s\n",
      "C:\\Users\\lisbe\\Anaconda3\\lib\\site-packages\\ipykernel_launcher.py:5: SettingWithCopyWarning: \n",
      "A value is trying to be set on a copy of a slice from a DataFrame.\n",
      "Try using .loc[row_indexer,col_indexer] = value instead\n",
      "\n",
      "See the caveats in the documentation: http://pandas.pydata.org/pandas-docs/stable/user_guide/indexing.html#returning-a-view-versus-a-copy\n",
      "  \"\"\"\n",
      "C:\\Users\\lisbe\\Anaconda3\\lib\\site-packages\\pandas\\core\\indexing.py:494: SettingWithCopyWarning: \n",
      "A value is trying to be set on a copy of a slice from a DataFrame.\n",
      "Try using .loc[row_indexer,col_indexer] = value instead\n",
      "\n",
      "See the caveats in the documentation: http://pandas.pydata.org/pandas-docs/stable/user_guide/indexing.html#returning-a-view-versus-a-copy\n",
      "  self.obj[item] = s\n"
     ]
    }
   ],
   "source": [
    "\n",
    "scaler= StandardScaler()\n",
    "#scaler=MinMaxScaler()\n",
    "scaler= scaler.fit(train[cols_to_transform])\n",
    "train[cols_to_transform] = scaler.transform(train[cols_to_transform])\n",
    "test[cols_to_transform] = scaler.transform(test[cols_to_transform])\n"
   ]
  },
  {
   "cell_type": "code",
   "execution_count": 94,
   "metadata": {},
   "outputs": [
    {
     "name": "stdout",
     "output_type": "stream",
     "text": [
      "(8798, 14)\n",
      "(2200, 14)\n"
     ]
    }
   ],
   "source": [
    "X_train = train.drop(['tremor','measurement_id',  'tremor_null'], axis=1)\n",
    "print(X_train.shape)\n",
    "y_train = train.tremor\n",
    "null_train = train.tremor_null\n",
    "X_test = test.drop(['tremor', 'measurement_id',  'tremor_null'], axis=1)\n",
    "print(X_test.shape)\n",
    "y_test = test.tremor\n",
    "null_test = test.tremor_null"
   ]
  },
  {
   "cell_type": "code",
   "execution_count": 95,
   "metadata": {},
   "outputs": [],
   "source": [
    "imputer = SimpleImputer(strategy=\"median\")\n"
   ]
  },
  {
   "cell_type": "code",
   "execution_count": 96,
   "metadata": {},
   "outputs": [
    {
     "name": "stdout",
     "output_type": "stream",
     "text": [
      "(8798, 19)\n",
      "(2200, 19)\n"
     ]
    }
   ],
   "source": [
    "X_train = pd.get_dummies(X_train)\n",
    "X_test = pd.get_dummies(X_test)\n",
    "\n",
    "print(X_train.shape)\n",
    "print(X_test.shape)"
   ]
  },
  {
   "cell_type": "code",
   "execution_count": 97,
   "metadata": {
    "scrolled": false
   },
   "outputs": [
    {
     "data": {
      "text/html": [
       "<div>\n",
       "<style scoped>\n",
       "    .dataframe tbody tr th:only-of-type {\n",
       "        vertical-align: middle;\n",
       "    }\n",
       "\n",
       "    .dataframe tbody tr th {\n",
       "        vertical-align: top;\n",
       "    }\n",
       "\n",
       "    .dataframe thead th {\n",
       "        text-align: right;\n",
       "    }\n",
       "</style>\n",
       "<table border=\"1\" class=\"dataframe\">\n",
       "  <thead>\n",
       "    <tr style=\"text-align: right;\">\n",
       "      <th></th>\n",
       "      <th>mean_r_sa</th>\n",
       "      <th>std_r_sa</th>\n",
       "      <th>min_r_sa</th>\n",
       "      <th>max_r_sa</th>\n",
       "      <th>skew_r_sa</th>\n",
       "      <th>kurtosis_r_sa</th>\n",
       "      <th>mean_dr_sa</th>\n",
       "      <th>std_dr_sa</th>\n",
       "      <th>min_dr_sa</th>\n",
       "      <th>max_dr_sa</th>\n",
       "      <th>skew_dr_sa</th>\n",
       "      <th>kurtosis_dr_sa</th>\n",
       "      <th>FreqPower_sa</th>\n",
       "      <th>subject_id_hbv012</th>\n",
       "      <th>subject_id_hbv013</th>\n",
       "      <th>subject_id_hbv022</th>\n",
       "      <th>subject_id_hbv023</th>\n",
       "      <th>subject_id_hbv038</th>\n",
       "      <th>subject_id_hbv054</th>\n",
       "    </tr>\n",
       "  </thead>\n",
       "  <tbody>\n",
       "    <tr>\n",
       "      <th>630</th>\n",
       "      <td>0.650802</td>\n",
       "      <td>-0.516883</td>\n",
       "      <td>0.800065</td>\n",
       "      <td>-0.556092</td>\n",
       "      <td>-0.125533</td>\n",
       "      <td>-0.194752</td>\n",
       "      <td>-0.432311</td>\n",
       "      <td>-0.554151</td>\n",
       "      <td>-0.326341</td>\n",
       "      <td>-0.554343</td>\n",
       "      <td>-0.628123</td>\n",
       "      <td>-0.339697</td>\n",
       "      <td>-0.510444</td>\n",
       "      <td>0</td>\n",
       "      <td>0</td>\n",
       "      <td>0</td>\n",
       "      <td>0</td>\n",
       "      <td>1</td>\n",
       "      <td>0</td>\n",
       "    </tr>\n",
       "    <tr>\n",
       "      <th>7499</th>\n",
       "      <td>-0.894636</td>\n",
       "      <td>0.823161</td>\n",
       "      <td>-1.215850</td>\n",
       "      <td>1.184473</td>\n",
       "      <td>0.544554</td>\n",
       "      <td>-0.107047</td>\n",
       "      <td>0.248869</td>\n",
       "      <td>1.164159</td>\n",
       "      <td>-0.326341</td>\n",
       "      <td>1.306812</td>\n",
       "      <td>0.163943</td>\n",
       "      <td>-0.134810</td>\n",
       "      <td>1.211601</td>\n",
       "      <td>1</td>\n",
       "      <td>0</td>\n",
       "      <td>0</td>\n",
       "      <td>0</td>\n",
       "      <td>0</td>\n",
       "      <td>0</td>\n",
       "    </tr>\n",
       "    <tr>\n",
       "      <th>982</th>\n",
       "      <td>-0.209574</td>\n",
       "      <td>-0.513429</td>\n",
       "      <td>0.742098</td>\n",
       "      <td>-0.578930</td>\n",
       "      <td>-0.130045</td>\n",
       "      <td>-0.201210</td>\n",
       "      <td>-0.352433</td>\n",
       "      <td>-0.556089</td>\n",
       "      <td>-0.326341</td>\n",
       "      <td>-0.549379</td>\n",
       "      <td>-0.585430</td>\n",
       "      <td>-0.333193</td>\n",
       "      <td>-0.454938</td>\n",
       "      <td>0</td>\n",
       "      <td>1</td>\n",
       "      <td>0</td>\n",
       "      <td>0</td>\n",
       "      <td>0</td>\n",
       "      <td>0</td>\n",
       "    </tr>\n",
       "    <tr>\n",
       "      <th>10652</th>\n",
       "      <td>0.213892</td>\n",
       "      <td>0.379029</td>\n",
       "      <td>-1.274863</td>\n",
       "      <td>0.734231</td>\n",
       "      <td>0.228973</td>\n",
       "      <td>-0.147537</td>\n",
       "      <td>-0.197115</td>\n",
       "      <td>0.566288</td>\n",
       "      <td>-0.326341</td>\n",
       "      <td>0.497105</td>\n",
       "      <td>-0.134046</td>\n",
       "      <td>-0.238268</td>\n",
       "      <td>0.657383</td>\n",
       "      <td>1</td>\n",
       "      <td>0</td>\n",
       "      <td>0</td>\n",
       "      <td>0</td>\n",
       "      <td>0</td>\n",
       "      <td>0</td>\n",
       "    </tr>\n",
       "    <tr>\n",
       "      <th>9971</th>\n",
       "      <td>2.924313</td>\n",
       "      <td>-0.386784</td>\n",
       "      <td>0.441005</td>\n",
       "      <td>-0.083111</td>\n",
       "      <td>2.188972</td>\n",
       "      <td>0.799146</td>\n",
       "      <td>-0.357874</td>\n",
       "      <td>-0.109461</td>\n",
       "      <td>0.288279</td>\n",
       "      <td>0.087316</td>\n",
       "      <td>1.376425</td>\n",
       "      <td>0.479006</td>\n",
       "      <td>-0.449703</td>\n",
       "      <td>0</td>\n",
       "      <td>0</td>\n",
       "      <td>1</td>\n",
       "      <td>0</td>\n",
       "      <td>0</td>\n",
       "      <td>0</td>\n",
       "    </tr>\n",
       "  </tbody>\n",
       "</table>\n",
       "</div>"
      ],
      "text/plain": [
       "       mean_r_sa  std_r_sa  min_r_sa  max_r_sa  skew_r_sa  kurtosis_r_sa  \\\n",
       "630     0.650802 -0.516883  0.800065 -0.556092  -0.125533      -0.194752   \n",
       "7499   -0.894636  0.823161 -1.215850  1.184473   0.544554      -0.107047   \n",
       "982    -0.209574 -0.513429  0.742098 -0.578930  -0.130045      -0.201210   \n",
       "10652   0.213892  0.379029 -1.274863  0.734231   0.228973      -0.147537   \n",
       "9971    2.924313 -0.386784  0.441005 -0.083111   2.188972       0.799146   \n",
       "\n",
       "       mean_dr_sa  std_dr_sa  min_dr_sa  max_dr_sa  skew_dr_sa  \\\n",
       "630     -0.432311  -0.554151  -0.326341  -0.554343   -0.628123   \n",
       "7499     0.248869   1.164159  -0.326341   1.306812    0.163943   \n",
       "982     -0.352433  -0.556089  -0.326341  -0.549379   -0.585430   \n",
       "10652   -0.197115   0.566288  -0.326341   0.497105   -0.134046   \n",
       "9971    -0.357874  -0.109461   0.288279   0.087316    1.376425   \n",
       "\n",
       "       kurtosis_dr_sa  FreqPower_sa  subject_id_hbv012  subject_id_hbv013  \\\n",
       "630         -0.339697     -0.510444                  0                  0   \n",
       "7499        -0.134810      1.211601                  1                  0   \n",
       "982         -0.333193     -0.454938                  0                  1   \n",
       "10652       -0.238268      0.657383                  1                  0   \n",
       "9971         0.479006     -0.449703                  0                  0   \n",
       "\n",
       "       subject_id_hbv022  subject_id_hbv023  subject_id_hbv038  \\\n",
       "630                    0                  0                  1   \n",
       "7499                   0                  0                  0   \n",
       "982                    0                  0                  0   \n",
       "10652                  0                  0                  0   \n",
       "9971                   1                  0                  0   \n",
       "\n",
       "       subject_id_hbv054  \n",
       "630                    0  \n",
       "7499                   0  \n",
       "982                    0  \n",
       "10652                  0  \n",
       "9971                   0  "
      ]
     },
     "execution_count": 97,
     "metadata": {},
     "output_type": "execute_result"
    }
   ],
   "source": [
    "X_test.head()"
   ]
  },
  {
   "cell_type": "code",
   "execution_count": 98,
   "metadata": {},
   "outputs": [
    {
     "name": "stdout",
     "output_type": "stream",
     "text": [
      "(8798, 19)\n",
      "(8798,)\n",
      "(2200, 19)\n",
      "(2200,)\n"
     ]
    }
   ],
   "source": [
    "X_train_imputed = pd.DataFrame(imputer.fit_transform(X_train), columns = X_train.columns)\n",
    "print(X_train_imputed.shape)\n",
    "print(y_train.shape)\n",
    "X_test_imputed = pd.DataFrame(imputer.fit_transform(X_test), columns = X_test.columns)\n",
    "print(X_test_imputed.shape)\n",
    "print(y_test.shape)"
   ]
  },
  {
   "cell_type": "code",
   "execution_count": 100,
   "metadata": {},
   "outputs": [],
   "source": [
    "import xgboost as xgb"
   ]
  },
  {
   "cell_type": "code",
   "execution_count": 101,
   "metadata": {},
   "outputs": [
    {
     "name": "stderr",
     "output_type": "stream",
     "text": [
      "C:\\Users\\lisbe\\Anaconda3\\lib\\site-packages\\xgboost\\core.py:587: FutureWarning: Series.base is deprecated and will be removed in a future version\n",
      "  if getattr(data, 'base', None) is not None and \\\n",
      "C:\\Users\\lisbe\\Anaconda3\\lib\\site-packages\\xgboost\\core.py:588: FutureWarning: Series.base is deprecated and will be removed in a future version\n",
      "  data.base is not None and isinstance(data, np.ndarray) \\\n"
     ]
    }
   ],
   "source": [
    "dtrain=xgb.DMatrix(data=X_train_imputed, label=y_train)\n",
    "dtest = xgb.DMatrix(data=X_test_imputed, label=y_test)"
   ]
  },
  {
   "cell_type": "code",
   "execution_count": 106,
   "metadata": {},
   "outputs": [],
   "source": [
    "param = {'objective': 'reg:squarederror',\n",
    "          'max_depth': 4\n",
    "        }\n",
    "bst = xgb.train(param, dtrain)\n",
    "xgb_pred = bst.predict(dtest)"
   ]
  },
  {
   "cell_type": "code",
   "execution_count": 107,
   "metadata": {},
   "outputs": [
    {
     "data": {
      "text/plain": [
       "<matplotlib.axes._subplots.AxesSubplot at 0x26539dffc50>"
      ]
     },
     "execution_count": 107,
     "metadata": {},
     "output_type": "execute_result"
    },
    {
     "data": {
      "image/png": "[encoded data removed]",
      "text/plain": [
       "<Figure size 432x288 with 1 Axes>"
      ]
     },
     "metadata": {
      "needs_background": "light"
     },
     "output_type": "display_data"
    }
   ],
   "source": [
    "xgb.plot_importance(bst)\n"
   ]
  },
  {
   "cell_type": "code",
   "execution_count": 108,
   "metadata": {},
   "outputs": [
    {
     "name": "stdout",
     "output_type": "stream",
     "text": [
      "MSE XGB: 0.3422127392624023\n",
      "NULL XGB: 0.4133438174743709\n"
     ]
    }
   ],
   "source": [
    "print(\"MSE XGB:\" , str(metrics.mean_squared_error(y_test,xgb_pred)))\n",
    "print(\"NULL XGB:\", str(metrics.mean_squared_error(y_test, null_test)))"
   ]
  },
  {
   "cell_type": "code",
   "execution_count": 109,
   "metadata": {},
   "outputs": [],
   "source": [
    "xgb_pred=np.round(xgb_pred)"
   ]
  },
  {
   "cell_type": "code",
   "execution_count": 110,
   "metadata": {},
   "outputs": [
    {
     "name": "stdout",
     "output_type": "stream",
     "text": [
      "accuracy xgb: 0.7063636363636364\n",
      "MSE XGB: 0.3936363636363636\n",
      "NULL XGB: 0.4133438174743709\n"
     ]
    }
   ],
   "source": [
    "print(\"accuracy xgb:\", str(metrics.accuracy_score(y_test, xgb_pred)))\n",
    "print(\"MSE XGB:\" , str(metrics.mean_squared_error(y_test,xgb_pred)))\n",
    "print(\"NULL XGB:\", str(metrics.mean_squared_error(y_test, null_test)))"
   ]
  },
  {
   "cell_type": "code",
   "execution_count": 111,
   "metadata": {},
   "outputs": [
    {
     "name": "stderr",
     "output_type": "stream",
     "text": [
      "C:\\Users\\lisbe\\Anaconda3\\lib\\site-packages\\ipykernel_launcher.py:1: SettingWithCopyWarning: \n",
      "A value is trying to be set on a copy of a slice from a DataFrame.\n",
      "Try using .loc[row_indexer,col_indexer] = value instead\n",
      "\n",
      "See the caveats in the documentation: http://pandas.pydata.org/pandas-docs/stable/user_guide/indexing.html#returning-a-view-versus-a-copy\n",
      "  \"\"\"Entry point for launching an IPython kernel.\n"
     ]
    },
    {
     "data": {
      "text/html": [
       "<div>\n",
       "<style scoped>\n",
       "    .dataframe tbody tr th:only-of-type {\n",
       "        vertical-align: middle;\n",
       "    }\n",
       "\n",
       "    .dataframe tbody tr th {\n",
       "        vertical-align: top;\n",
       "    }\n",
       "\n",
       "    .dataframe thead th {\n",
       "        text-align: right;\n",
       "    }\n",
       "</style>\n",
       "<table border=\"1\" class=\"dataframe\">\n",
       "  <thead>\n",
       "    <tr style=\"text-align: right;\">\n",
       "      <th></th>\n",
       "      <th>measurement_id</th>\n",
       "      <th>mean_r_sa</th>\n",
       "      <th>std_r_sa</th>\n",
       "      <th>min_r_sa</th>\n",
       "      <th>max_r_sa</th>\n",
       "      <th>skew_r_sa</th>\n",
       "      <th>kurtosis_r_sa</th>\n",
       "      <th>mean_dr_sa</th>\n",
       "      <th>std_dr_sa</th>\n",
       "      <th>min_dr_sa</th>\n",
       "      <th>max_dr_sa</th>\n",
       "      <th>skew_dr_sa</th>\n",
       "      <th>kurtosis_dr_sa</th>\n",
       "      <th>FreqPower_sa</th>\n",
       "      <th>subject_id</th>\n",
       "      <th>tremor</th>\n",
       "      <th>tremor_null</th>\n",
       "      <th>xgb_pred</th>\n",
       "    </tr>\n",
       "  </thead>\n",
       "  <tbody>\n",
       "    <tr>\n",
       "      <th>630</th>\n",
       "      <td>102fc3ed-5081-4e00-97b9-a434dc51281b</td>\n",
       "      <td>0.650802</td>\n",
       "      <td>-0.516883</td>\n",
       "      <td>0.800065</td>\n",
       "      <td>-0.556092</td>\n",
       "      <td>-0.125533</td>\n",
       "      <td>-0.194752</td>\n",
       "      <td>-0.432311</td>\n",
       "      <td>-0.554151</td>\n",
       "      <td>-0.326341</td>\n",
       "      <td>-0.554343</td>\n",
       "      <td>-0.628123</td>\n",
       "      <td>-0.339697</td>\n",
       "      <td>-0.510444</td>\n",
       "      <td>hbv038</td>\n",
       "      <td>2.0</td>\n",
       "      <td>2.046512</td>\n",
       "      <td>2.0</td>\n",
       "    </tr>\n",
       "    <tr>\n",
       "      <th>7499</th>\n",
       "      <td>aba31c29-79ef-4221-9412-156538a2fd4e</td>\n",
       "      <td>-0.894636</td>\n",
       "      <td>0.823161</td>\n",
       "      <td>-1.215850</td>\n",
       "      <td>1.184473</td>\n",
       "      <td>0.544554</td>\n",
       "      <td>-0.107047</td>\n",
       "      <td>0.248869</td>\n",
       "      <td>1.164159</td>\n",
       "      <td>-0.326341</td>\n",
       "      <td>1.306812</td>\n",
       "      <td>0.163943</td>\n",
       "      <td>-0.134810</td>\n",
       "      <td>1.211601</td>\n",
       "      <td>hbv012</td>\n",
       "      <td>1.0</td>\n",
       "      <td>0.428571</td>\n",
       "      <td>0.0</td>\n",
       "    </tr>\n",
       "    <tr>\n",
       "      <th>982</th>\n",
       "      <td>18627dda-3e46-44e6-9799-2c6cb1e23e95</td>\n",
       "      <td>-0.209574</td>\n",
       "      <td>-0.513429</td>\n",
       "      <td>0.742098</td>\n",
       "      <td>-0.578930</td>\n",
       "      <td>-0.130045</td>\n",
       "      <td>-0.201210</td>\n",
       "      <td>-0.352433</td>\n",
       "      <td>-0.556089</td>\n",
       "      <td>-0.326341</td>\n",
       "      <td>-0.549379</td>\n",
       "      <td>-0.585430</td>\n",
       "      <td>-0.333193</td>\n",
       "      <td>-0.454938</td>\n",
       "      <td>hbv013</td>\n",
       "      <td>2.0</td>\n",
       "      <td>0.373134</td>\n",
       "      <td>1.0</td>\n",
       "    </tr>\n",
       "    <tr>\n",
       "      <th>10652</th>\n",
       "      <td>f8986b3d-d77c-4c5e-af03-d2adc2c3e022</td>\n",
       "      <td>0.213892</td>\n",
       "      <td>0.379029</td>\n",
       "      <td>-1.274863</td>\n",
       "      <td>0.734231</td>\n",
       "      <td>0.228973</td>\n",
       "      <td>-0.147537</td>\n",
       "      <td>-0.197115</td>\n",
       "      <td>0.566288</td>\n",
       "      <td>-0.326341</td>\n",
       "      <td>0.497105</td>\n",
       "      <td>-0.134046</td>\n",
       "      <td>-0.238268</td>\n",
       "      <td>0.657383</td>\n",
       "      <td>hbv012</td>\n",
       "      <td>0.0</td>\n",
       "      <td>0.428571</td>\n",
       "      <td>0.0</td>\n",
       "    </tr>\n",
       "    <tr>\n",
       "      <th>9971</th>\n",
       "      <td>edc0b81f-1bb0-42cd-9346-92d7de4f50b0</td>\n",
       "      <td>2.924313</td>\n",
       "      <td>-0.386784</td>\n",
       "      <td>0.441005</td>\n",
       "      <td>-0.083111</td>\n",
       "      <td>2.188972</td>\n",
       "      <td>0.799146</td>\n",
       "      <td>-0.357874</td>\n",
       "      <td>-0.109461</td>\n",
       "      <td>0.288279</td>\n",
       "      <td>0.087316</td>\n",
       "      <td>1.376425</td>\n",
       "      <td>0.479006</td>\n",
       "      <td>-0.449703</td>\n",
       "      <td>hbv022</td>\n",
       "      <td>0.0</td>\n",
       "      <td>0.285714</td>\n",
       "      <td>0.0</td>\n",
       "    </tr>\n",
       "  </tbody>\n",
       "</table>\n",
       "</div>"
      ],
      "text/plain": [
       "                             measurement_id  mean_r_sa  std_r_sa  min_r_sa  \\\n",
       "630    102fc3ed-5081-4e00-97b9-a434dc51281b   0.650802 -0.516883  0.800065   \n",
       "7499   aba31c29-79ef-4221-9412-156538a2fd4e  -0.894636  0.823161 -1.215850   \n",
       "982    18627dda-3e46-44e6-9799-2c6cb1e23e95  -0.209574 -0.513429  0.742098   \n",
       "10652  f8986b3d-d77c-4c5e-af03-d2adc2c3e022   0.213892  0.379029 -1.274863   \n",
       "9971   edc0b81f-1bb0-42cd-9346-92d7de4f50b0   2.924313 -0.386784  0.441005   \n",
       "\n",
       "       max_r_sa  skew_r_sa  kurtosis_r_sa  mean_dr_sa  std_dr_sa  min_dr_sa  \\\n",
       "630   -0.556092  -0.125533      -0.194752   -0.432311  -0.554151  -0.326341   \n",
       "7499   1.184473   0.544554      -0.107047    0.248869   1.164159  -0.326341   \n",
       "982   -0.578930  -0.130045      -0.201210   -0.352433  -0.556089  -0.326341   \n",
       "10652  0.734231   0.228973      -0.147537   -0.197115   0.566288  -0.326341   \n",
       "9971  -0.083111   2.188972       0.799146   -0.357874  -0.109461   0.288279   \n",
       "\n",
       "       max_dr_sa  skew_dr_sa  kurtosis_dr_sa  FreqPower_sa subject_id  tremor  \\\n",
       "630    -0.554343   -0.628123       -0.339697     -0.510444     hbv038     2.0   \n",
       "7499    1.306812    0.163943       -0.134810      1.211601     hbv012     1.0   \n",
       "982    -0.549379   -0.585430       -0.333193     -0.454938     hbv013     2.0   \n",
       "10652   0.497105   -0.134046       -0.238268      0.657383     hbv012     0.0   \n",
       "9971    0.087316    1.376425        0.479006     -0.449703     hbv022     0.0   \n",
       "\n",
       "       tremor_null  xgb_pred  \n",
       "630       2.046512       2.0  \n",
       "7499      0.428571       0.0  \n",
       "982       0.373134       1.0  \n",
       "10652     0.428571       0.0  \n",
       "9971      0.285714       0.0  "
      ]
     },
     "execution_count": 111,
     "metadata": {},
     "output_type": "execute_result"
    }
   ],
   "source": [
    "test['xgb_pred']=xgb_pred\n",
    "test.head()"
   ]
  },
  {
   "cell_type": "code",
   "execution_count": 112,
   "metadata": {},
   "outputs": [],
   "source": [
    "results=pd.DataFrame(test.groupby('measurement_id', as_index=False).agg({'xgb_pred':np.mean, 'tremor':pd.Series.mode, 'tremor_null':pd.Series.mode}))"
   ]
  },
  {
   "cell_type": "code",
   "execution_count": 113,
   "metadata": {},
   "outputs": [],
   "source": [
    "results['preds']=round(results['xgb_pred'])"
   ]
  },
  {
   "cell_type": "code",
   "execution_count": 114,
   "metadata": {
    "scrolled": true
   },
   "outputs": [
    {
     "data": {
      "text/plain": [
       "0.34585492853812555"
      ]
     },
     "execution_count": 114,
     "metadata": {},
     "output_type": "execute_result"
    }
   ],
   "source": [
    "metrics.mean_squared_error(results['tremor'], results['xgb_pred'])"
   ]
  },
  {
   "cell_type": "code",
   "execution_count": 115,
   "metadata": {
    "scrolled": true
   },
   "outputs": [
    {
     "data": {
      "text/plain": [
       "0.3940974321488145"
      ]
     },
     "execution_count": 115,
     "metadata": {},
     "output_type": "execute_result"
    }
   ],
   "source": [
    "metrics.mean_squared_error(results['tremor'], results['tremor_null'])"
   ]
  },
  {
   "cell_type": "code",
   "execution_count": 116,
   "metadata": {},
   "outputs": [
    {
     "data": {
      "text/plain": [
       "0.3811188811188811"
      ]
     },
     "execution_count": 116,
     "metadata": {},
     "output_type": "execute_result"
    }
   ],
   "source": [
    "metrics.mean_squared_error(results['tremor'], results['preds'])"
   ]
  },
  {
   "cell_type": "code",
   "execution_count": 117,
   "metadata": {},
   "outputs": [
    {
     "data": {
      "text/plain": [
       "0.7237762237762237"
      ]
     },
     "execution_count": 117,
     "metadata": {},
     "output_type": "execute_result"
    }
   ],
   "source": [
    "metrics.accuracy_score(results['tremor'], results['preds'])"
   ]
  },
  {
   "cell_type": "code",
   "execution_count": 118,
   "metadata": {},
   "outputs": [
    {
     "name": "stdout",
     "output_type": "stream",
     "text": [
      "              precision    recall  f1-score   support\n",
      "\n",
      "         0.0       0.82      0.98      0.89       154\n",
      "         1.0       0.53      0.19      0.28        48\n",
      "         2.0       0.55      0.78      0.65        59\n",
      "         3.0       1.00      0.04      0.08        25\n",
      "\n",
      "    accuracy                           0.72       286\n",
      "   macro avg       0.72      0.50      0.47       286\n",
      "weighted avg       0.73      0.72      0.67       286\n",
      "\n"
     ]
    }
   ],
   "source": [
    "print(metrics.classification_report(results['tremor'], results['preds']))"
   ]
  },
  {
   "cell_type": "code",
   "execution_count": 119,
   "metadata": {},
   "outputs": [
    {
     "name": "stdout",
     "output_type": "stream",
     "text": [
      "[[151   3   0   0]\n",
      " [ 25   9  14   0]\n",
      " [  9   4  46   0]\n",
      " [  0   1  23   1]]\n"
     ]
    }
   ],
   "source": [
    "print(metrics.confusion_matrix(results['tremor'], results['preds']))"
   ]
  },
  {
   "cell_type": "code",
   "execution_count": 120,
   "metadata": {},
   "outputs": [],
   "source": [
    "stats=test.groupby('tremor', as_index=False).agg({'xgb_pred':[np.mean, np.std]})"
   ]
  },
  {
   "cell_type": "code",
   "execution_count": 121,
   "metadata": {},
   "outputs": [
    {
     "data": {
      "image/png": "[encoded data removed]",
      "text/plain": [
       "<Figure size 432x288 with 1 Axes>"
      ]
     },
     "metadata": {
      "needs_background": "light"
     },
     "output_type": "display_data"
    }
   ],
   "source": [
    "plt.errorbar(stats['tremor'], stats['xgb_pred']['mean'], stats['xgb_pred']['std'], linestyle='None', marker='^')\n",
    "plt.title('Tremor Predictions: REALPD')\n",
    "plt.xlabel('Actual Tremor Severity')\n",
    "plt.ylabel('Predicted Tremor Severity')\n",
    "plt.show()"
   ]
  },
  {
   "cell_type": "markdown",
   "metadata": {},
   "source": [
    "### Testing (This section will not be updated until test labels are published)"
   ]
  },
  {
   "cell_type": "code",
   "execution_count": null,
   "metadata": {
    "scrolled": false
   },
   "outputs": [],
   "source": [
    "test_subjects = pd.read_csv('testing_data\\REAL-PD_Test_Data_IDs.csv')\n",
    "test_subjects.head()"
   ]
  },
  {
   "cell_type": "code",
   "execution_count": null,
   "metadata": {},
   "outputs": [],
   "source": [
    "test_subjects.subject_id.unique()==labels.subject_id.unique()"
   ]
  },
  {
   "cell_type": "code",
   "execution_count": null,
   "metadata": {},
   "outputs": [],
   "source": [
    "\n",
    "#pd.read_csv(f) for f in all_filenames \n",
    "\n",
    "mycsvdir = 'testing_data\\REAL_testing\\smartphone_accelerometer'\n",
    "\n",
    "csvfiles = glob.glob(os.path.join(mycsvdir, '*.csv'))\n",
    "\n",
    "Means_sa=[]\n",
    "for csvfile in csvfiles:\n",
    "    df = pd.read_csv(csvfile)\n",
    "    \n",
    "    #Relevant features \n",
    "    measurement_id = os.path.basename(csvfile)\n",
    "    measurement_id = measurement_id.replace(\".csv\",\"\")\n",
    "    \n",
    "    df[\"r\"] = np.sqrt(df.x**2+df.y**2+df.z**2)\n",
    "    dr = np.sqrt(np.diff(df.x)**2+np.diff(df.y)**2+np.diff(df.z)**2)\n",
    "    mean_r = np.median(df.r)\n",
    "    std_r = np.std(df.r)\n",
    "    min_r = np.min(df.r)\n",
    "    max_r = np.max(df.r)\n",
    "    skew_r = skew(df.r)\n",
    "    kurtosis_r = kurtosis(df.r)\n",
    "    \n",
    "    mean_dr = np.median(dr)\n",
    "    std_dr = np.std(dr)\n",
    "    min_dr = np.min(dr)\n",
    "    max_dr = np.max(dr)\n",
    "    skew_dr = skew(dr)\n",
    "    kurtosis_dr = kurtosis(dr)\n",
    "    \n",
    "    \"\"\"Extract frequency bands in Hz\"\"\"\n",
    "    FreqBandx = sig.lfilter(Filter[0],Filter[1],df[\"x\"]);\n",
    "    FreqBandy = sig.lfilter(Filter[0],Filter[1],df[\"y\"]);\n",
    "    FreqBandz = sig.lfilter(Filter[0],Filter[1],df[\"z\"]);\n",
    "    \n",
    "    \"\"\"Find the power in each frequency Band\"\"\"\n",
    "    PowerFreqBandx = np.abs(FreqBandx)**2;\n",
    "    PowerFreqBandy = np.abs(FreqBandy)**2;\n",
    "    PowerFreqBandz = np.abs(FreqBandz)**2;\n",
    "    \n",
    "    \"\"\"Sum the power in each frequency band\"\"\"\n",
    "    SumPowerFreqBandx = np.sum(PowerFreqBandx);\n",
    "    SumPowerFreqBandy = np.sum(PowerFreqBandy);\n",
    "    SumPowerFreqBandz = np.sum(PowerFreqBandz);\n",
    "    \n",
    "    \"\"\"Sum the total signal power\"\"\"\n",
    "    Powerx = np.sum(df[\"x\"]**2);\n",
    "    Powery = np.sum(df[\"y\"]**2);\n",
    "    Powerz = np.sum(df[\"z\"]**2);\n",
    "    \n",
    "    \"\"\"Find the percentage of power in frequencies of interest\"\"\"\n",
    "    FreqPower = np.sqrt((SumPowerFreqBandx+SumPowerFreqBandy+SumPowerFreqBandz)/(Powerx+Powery+Powerz));\n",
    "    \n",
    "    Means_sa.append([measurement_id, mean_r, std_r, min_r, max_r, skew_r, kurtosis_r, \n",
    "                     mean_dr,std_dr, min_dr, max_dr, skew_dr, kurtosis_dr,FreqPower])\n",
    "\n",
    "   "
   ]
  },
  {
   "cell_type": "code",
   "execution_count": null,
   "metadata": {},
   "outputs": [],
   "source": [
    "accel_phones_test= pd.DataFrame(Means_sa, columns=[\"measurement_id\", \"mean_r_sa\", \"std_r_sa\", \n",
    "                                              \"min_r_sa\", \"max_r_sa\", \"skew_r_sa\", \"kurtosis_r_sa\",\n",
    "                                              \"mean_dr_sa\", \"std_dr_sa\", \"min_dr_sa\", \"max_dr_sa\", \n",
    "                                              \"skew_dr_sa\", \"kurtosis_dr_sa\",\"FreqPower_sa\"])\n",
    "   \n"
   ]
  },
  {
   "cell_type": "code",
   "execution_count": null,
   "metadata": {},
   "outputs": [],
   "source": [
    "accel_phones_test.head()"
   ]
  },
  {
   "cell_type": "code",
   "execution_count": null,
   "metadata": {},
   "outputs": [],
   "source": [
    "\n",
    "#pd.read_csv(f) for f in all_filenames \n",
    "\n",
    "mycsvdir = 'testing_data\\REAL_testing\\smartwatch_accelerometer'\n",
    "\n",
    "csvfiles = glob.glob(os.path.join(mycsvdir, '*.csv'))\n",
    "\n",
    "Means_wa=[]\n",
    "for csvfile in csvfiles:\n",
    "    df1 = pd.read_csv(csvfile)\n",
    "    \n",
    "    for x in pd.Series(df1['device_id']).unique():\n",
    "        \n",
    "        df = df1[df1['device_id']==x]\n",
    "        \"\"\"Apply Hypothesis tests to check if means are statistically significant????\"\"\"\n",
    "        #Relevant features \n",
    "        measurement_id = os.path.basename(csvfile)\n",
    "        measurement_id = measurement_id.replace(\".csv\",\"\")\n",
    "\n",
    "        device_id = x\n",
    "        \n",
    "        df[\"r\"] = np.sqrt(df.x**2+df.y**2+df.z**2)\n",
    "        dr = np.sqrt(np.diff(df.x)**2+np.diff(df.y)**2+np.diff(df.z)**2)\n",
    "\n",
    "        mean_r = np.mean(df.r)\n",
    "        std_r = np.std(df.r)\n",
    "        min_r = np.min(df.r)\n",
    "        max_r = np.max(df.r)\n",
    "        skew_r = skew(df.r)\n",
    "        kurtosis_r = kurtosis(df.r)\n",
    "\n",
    "        mean_dr = np.mean(dr)\n",
    "        std_dr = np.std(dr)\n",
    "        min_dr = np.min(dr)\n",
    "        max_dr = np.max(dr)\n",
    "        skew_dr = skew(dr)\n",
    "        kurtosis_dr = kurtosis(dr)\n",
    "        \n",
    "        \"\"\"Extract frequency bands in Hz\"\"\"\n",
    "        FreqBandx = sig.lfilter(Filter[0],Filter[1],df[\"x\"]);\n",
    "        FreqBandy = sig.lfilter(Filter[0],Filter[1],df[\"y\"]);\n",
    "        FreqBandz = sig.lfilter(Filter[0],Filter[1],df[\"z\"]);\n",
    "\n",
    "        \"\"\"Find the power in each frequency Band\"\"\"\n",
    "        PowerFreqBandx = np.abs(FreqBandx)**2;\n",
    "        PowerFreqBandy = np.abs(FreqBandy)**2;\n",
    "        PowerFreqBandz = np.abs(FreqBandz)**2;\n",
    "\n",
    "        \"\"\"Sum the power in each frequency band\"\"\"\n",
    "        SumPowerFreqBandx = np.sum(PowerFreqBandx);\n",
    "        SumPowerFreqBandy = np.sum(PowerFreqBandy);\n",
    "        SumPowerFreqBandz = np.sum(PowerFreqBandz);\n",
    "\n",
    "        \"\"\"Sum the total signal power\"\"\"\n",
    "        Powerx = np.sum(df[\"x\"]**2);\n",
    "        Powery = np.sum(df[\"y\"]**2);\n",
    "        Powerz = np.sum(df[\"z\"]**2);\n",
    "\n",
    "        \"\"\"Find the percentage of power in frequencies of interest\"\"\"\n",
    "        FreqPower = np.sqrt((SumPowerFreqBandx+SumPowerFreqBandy+SumPowerFreqBandz)/(Powerx+Powery+Powerz));\n",
    "\n",
    "        Means_wa.append([measurement_id, device_id, mean_r, std_r, min_r, max_r, skew_r, kurtosis_r, \n",
    "                         mean_dr,std_dr, min_dr, max_dr, skew_dr, kurtosis_dr,FreqPower])\n",
    "\n",
    "\n",
    "    \n",
    "        "
   ]
  },
  {
   "cell_type": "code",
   "execution_count": null,
   "metadata": {},
   "outputs": [],
   "source": [
    "accel_watches_test = pd.DataFrame(Means_wa, columns=[\"measurement_id\",\"device_id\", \"mean_r_wa\", \"std_r_wa\", \n",
    "                                              \"min_r_wa\", \"max_r_wa\", \"skew__r_wa\", \"kurtosis_r_wa\",\n",
    "                                              \"mean_dr_wa\", \"std_dr_wa\", \"min_dr_wa\", \"max_dr_Wa\", \n",
    "                                              \"skew_dr_wa\", \"kurtosis_dr_wa\",\"FreqPower_wa\"])\n",
    "   \n",
    "\n"
   ]
  },
  {
   "cell_type": "code",
   "execution_count": null,
   "metadata": {},
   "outputs": [],
   "source": [
    "#pd.read_csv(f) for f in all_filenames \n",
    "\n",
    "mycsvdir = 'testing_data\\REAL_testing\\smartwatch_gyroscope'\n",
    "\n",
    "csvfiles = glob.glob(os.path.join(mycsvdir, '*.csv'))\n",
    "\n",
    "Means_wg=[]\n",
    "for csvfile in csvfiles:\n",
    "    df1 = pd.read_csv(csvfile)\n",
    "    \n",
    "    for x in pd.Series(df1['device_id']).unique():\n",
    "        \n",
    "        df = df1[df1['device_id']==x]\n",
    "         \n",
    "        #Relevant features \n",
    "        measurement_id = os.path.basename(csvfile)\n",
    "        measurement_id = measurement_id.replace(\".csv\",\"\")\n",
    "        device_id = x\n",
    "\n",
    "        df[\"r\"] = np.sqrt(df.x**2+df.y**2+df.z**2)\n",
    "        mean_r = np.mean(df.r)\n",
    "        std_r = np.std(df.r)\n",
    "        min_r = np.min(df.r)\n",
    "        max_r = np.max(df.r)\n",
    "        skew_r = skew(df.r)\n",
    "        kurtosis_r = kurtosis(df.r)\n",
    "    \n",
    "        Means_wg.append([measurement_id,device_id, mean_r, std_r, min_r, max_r, skew_r, kurtosis_r])\n",
    "       "
   ]
  },
  {
   "cell_type": "code",
   "execution_count": null,
   "metadata": {},
   "outputs": [],
   "source": [
    "gyro_watches_test= pd.DataFrame(Means_wg, columns=[\"measurement_id\", \"device_id\", \"mean_r_wg\", \"std_r_wg\", \n",
    "                                              \"min_r_wg\", \"max_r_wg\", \"skew_r_wg\", \"kurtosis_r_wg\"])\n",
    "   \n",
    "\n"
   ]
  },
  {
   "cell_type": "code",
   "execution_count": null,
   "metadata": {},
   "outputs": [],
   "source": [
    "df_watch_test=pd.merge(gyro_watches_test, accel_watches_test, on=[\"measurement_id\", \"device_id\"])\n",
    "df_watch_test.shape"
   ]
  },
  {
   "cell_type": "code",
   "execution_count": null,
   "metadata": {},
   "outputs": [],
   "source": [
    "df_test=pd.merge(df_watch_test, accel_phones_test, on=['measurement_id'], how='outer')\n",
    "df_test.shape"
   ]
  },
  {
   "cell_type": "code",
   "execution_count": null,
   "metadata": {},
   "outputs": [],
   "source": [
    "df_test_data = pd.merge(df_test, test_subjects, on =['measurement_id'])\n",
    "df_test_data.shape"
   ]
  },
  {
   "cell_type": "code",
   "execution_count": null,
   "metadata": {},
   "outputs": [],
   "source": [
    "df_test_data.subject_id.unique()"
   ]
  },
  {
   "cell_type": "code",
   "execution_count": null,
   "metadata": {},
   "outputs": [],
   "source": [
    "train = df_tremor.drop(['measurement_id', 'device_id', 'tremor', 'tremor_null'], axis=1)\n",
    "train.head()"
   ]
  },
  {
   "cell_type": "code",
   "execution_count": null,
   "metadata": {},
   "outputs": [],
   "source": [
    "cols_train = train.columns[:-1]\n",
    "scaler= scaler.fit(df_tremor[cols_train])\n",
    "train[cols_train] = scaler.transform(train[cols_train])\n",
    "train.head()"
   ]
  },
  {
   "cell_type": "code",
   "execution_count": null,
   "metadata": {},
   "outputs": [],
   "source": [
    "cols_test=df_test_data.columns[2:-1]\n",
    "df_test_data[cols_test]=scaler.transform(df_test_data[cols_test])"
   ]
  },
  {
   "cell_type": "code",
   "execution_count": null,
   "metadata": {},
   "outputs": [],
   "source": [
    "df_test_data.head()"
   ]
  },
  {
   "cell_type": "code",
   "execution_count": null,
   "metadata": {},
   "outputs": [],
   "source": [
    "train = pd.get_dummies(train)"
   ]
  },
  {
   "cell_type": "code",
   "execution_count": null,
   "metadata": {},
   "outputs": [],
   "source": [
    "\n",
    "df_test_predict= pd.get_dummies(df_test_data[df_test_data.columns[2:]])\n",
    "df_test_predict.head()"
   ]
  },
  {
   "cell_type": "code",
   "execution_count": null,
   "metadata": {
    "scrolled": true
   },
   "outputs": [],
   "source": [
    "df_test_data.subject_id.unique()"
   ]
  },
  {
   "cell_type": "code",
   "execution_count": null,
   "metadata": {},
   "outputs": [],
   "source": [
    "df_tremor.subject_id.unique()"
   ]
  },
  {
   "cell_type": "code",
   "execution_count": null,
   "metadata": {},
   "outputs": [],
   "source": [
    "df_test_predict = df_test_predict.drop(['subject_id_hbv051', 'subject_id_hbv077', 'subject_id_hbv018', \n",
    "                      'subject_id_hbv043', 'subject_id_hbv014', 'subject_id_hbv017'], \n",
    "                    axis = 1)\n"
   ]
  },
  {
   "cell_type": "code",
   "execution_count": null,
   "metadata": {},
   "outputs": [],
   "source": [
    "df_test_predict.shape"
   ]
  },
  {
   "cell_type": "code",
   "execution_count": null,
   "metadata": {},
   "outputs": [],
   "source": [
    "df_train_imputed = pd.DataFrame(imputer.fit_transform(train), columns = train.columns)\n",
    "df_train_imputed.shape"
   ]
  },
  {
   "cell_type": "code",
   "execution_count": null,
   "metadata": {},
   "outputs": [],
   "source": [
    "df_test_imputed=pd.DataFrame(imputer.fit_transform(df_test_predict), columns = df_test_predict.columns)\n",
    "df_test_imputed.shape"
   ]
  },
  {
   "cell_type": "code",
   "execution_count": null,
   "metadata": {},
   "outputs": [],
   "source": [
    "dtrain=xgb.DMatrix(data=df_train_imputed, label=df_tremor.tremor)\n",
    "dtest = xgb.DMatrix(data=df_test_imputed)"
   ]
  },
  {
   "cell_type": "code",
   "execution_count": null,
   "metadata": {},
   "outputs": [],
   "source": [
    "bst = xgb.train(param, dtrain)\n",
    "xgb_pred = bst.predict(dtest)"
   ]
  },
  {
   "cell_type": "code",
   "execution_count": null,
   "metadata": {},
   "outputs": [],
   "source": [
    "\n",
    "df_test_data[\"prediction\"]=xgb_pred\n",
    "df_test_data.head()"
   ]
  },
  {
   "cell_type": "code",
   "execution_count": null,
   "metadata": {},
   "outputs": [],
   "source": [
    "test_subjects.shape"
   ]
  },
  {
   "cell_type": "code",
   "execution_count": null,
   "metadata": {},
   "outputs": [],
   "source": [
    "df_predictions = pd.merge(df_test_data[['measurement_id', 'prediction']], test_subjects, on=['measurement_id'], how =\"right\")"
   ]
  },
  {
   "cell_type": "code",
   "execution_count": null,
   "metadata": {},
   "outputs": [],
   "source": [
    "len(df_predictions.measurement_id.unique())"
   ]
  },
  {
   "cell_type": "code",
   "execution_count": null,
   "metadata": {},
   "outputs": [],
   "source": [
    "df_predictions.shape"
   ]
  },
  {
   "cell_type": "code",
   "execution_count": null,
   "metadata": {},
   "outputs": [],
   "source": [
    "df_predictions.drop_duplicates(subset =\"measurement_id\", inplace=True) "
   ]
  },
  {
   "cell_type": "code",
   "execution_count": null,
   "metadata": {},
   "outputs": [],
   "source": [
    "df_predictions.shape"
   ]
  },
  {
   "cell_type": "code",
   "execution_count": null,
   "metadata": {},
   "outputs": [],
   "source": [
    "df_predictions.head()"
   ]
  },
  {
   "cell_type": "code",
   "execution_count": null,
   "metadata": {},
   "outputs": [],
   "source": [
    "df_predictions[['measurement_id','prediction']].to_csv(\"real_pd_tremor_predictions.csv\", index=False)"
   ]
  },
  {
   "cell_type": "code",
   "execution_count": null,
   "metadata": {},
   "outputs": [],
   "source": []
  },
  {
   "cell_type": "code",
   "execution_count": null,
   "metadata": {},
   "outputs": [],
   "source": []
  }
 ],
 "metadata": {
  "kernelspec": {
   "display_name": "Python 3",
   "language": "python",
   "name": "python3"
  },
  "language_info": {
   "codemirror_mode": {
    "name": "ipython",
    "version": 3
   },
   "file_extension": ".py",
   "mimetype": "text/x-python",
   "name": "python",
   "nbconvert_exporter": "python",
   "pygments_lexer": "ipython3",
   "version": "3.6.9"
  }
 },
 "nbformat": 4,
 "nbformat_minor": 2
}
